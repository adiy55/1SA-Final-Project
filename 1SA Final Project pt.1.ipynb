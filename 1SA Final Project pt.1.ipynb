{
 "cells": [
  {
   "cell_type": "markdown",
   "metadata": {
    "collapsed": true,
    "pycharm": {
     "name": "#%% md\n"
    }
   },
   "source": [
    "<h1 style=\"text-align: center;\">Data Science Project</h1>\n",
    "<h2 style=\"text-align: center;\">Part 1</h2>\n",
    "<h2 style=\"text-align: center;\">Probability</h2>"
   ]
  },
  {
   "cell_type": "markdown",
   "source": [
    "> ## **Probability and Bayes Theorem**"
   ],
   "metadata": {
    "collapsed": false,
    "pycharm": {
     "name": "#%% md\n"
    }
   }
  },
  {
   "cell_type": "markdown",
   "source": [
    "## Question 1"
   ],
   "metadata": {
    "collapsed": false,
    "pycharm": {
     "name": "#%% md\n"
    }
   }
  },
  {
   "cell_type": "markdown",
   "source": [
    "### A."
   ],
   "metadata": {
    "collapsed": false,
    "pycharm": {
     "name": "#%% md\n"
    }
   }
  },
  {
   "cell_type": "markdown",
   "source": [
    "Probability for twins:\n",
    "$\\frac{1}{125}+\\frac{1}{300}=\\frac{17}{1500}$"
   ],
   "metadata": {
    "collapsed": false,
    "pycharm": {
     "name": "#%% md\n"
    }
   }
  },
  {
   "cell_type": "markdown",
   "source": [
    "Probability for identical twins:\n",
    "$\\frac{1}{300}$"
   ],
   "metadata": {
    "collapsed": false,
    "pycharm": {
     "name": "#%% md\n"
    }
   }
  },
  {
   "cell_type": "markdown",
   "source": [
    "Probability Elvis had an identical twin:\n",
    "$\\frac{\\frac{1}{300}}{\\frac{17}{1500}}=\\frac{5}{17}$"
   ],
   "metadata": {
    "collapsed": false,
    "pycharm": {
     "name": "#%% md\n"
    }
   }
  },
  {
   "cell_type": "markdown",
   "source": [
    "### B."
   ],
   "metadata": {
    "collapsed": false,
    "pycharm": {
     "name": "#%% md\n"
    }
   }
  },
  {
   "cell_type": "markdown",
   "source": [
    "Probability for cookies in bowls:\n",
    "\n",
    "-|Bowl 1| Bowl 2\n",
    ":---:|:---:|:---:\n",
    "**Chocolate Cookies** | $\\frac{3}{4}$ |$\\frac{1}{2}$\n",
    "**Almond Cookies** | $\\frac{1}{4}$ |$\\frac{1}{2}$"
   ],
   "metadata": {
    "collapsed": false,
    "pycharm": {
     "name": "#%% md\n"
    }
   }
  },
  {
   "cell_type": "markdown",
   "source": [
    "Probability of a chocolate cookie:\n",
    "$\\frac{1}{2}\\cdot\\frac{3}{4}+\\frac{1}{2}\\cdot\\frac{1}{2}=\\frac{5}{8}$"
   ],
   "metadata": {
    "collapsed": false,
    "pycharm": {
     "name": "#%% md\n"
    }
   }
  },
  {
   "cell_type": "markdown",
   "source": [
    "Probability of a chocolate cookie from bowl 1:\n",
    "$\\frac{1}{2}\\cdot\\frac{3}{4}=\\frac{3}{8}$"
   ],
   "metadata": {
    "collapsed": false,
    "pycharm": {
     "name": "#%% md\n"
    }
   }
  },
  {
   "cell_type": "markdown",
   "source": [
    "Probability the chocolate cookie is from bowl 1:\n",
    "$\\frac{\\frac{3}{8}}{\\frac{5}{8}}=\\frac{3}{5}$"
   ],
   "metadata": {
    "collapsed": false,
    "pycharm": {
     "name": "#%% md\n"
    }
   }
  },
  {
   "cell_type": "markdown",
   "source": [
    "## Question 2"
   ],
   "metadata": {
    "collapsed": false,
    "pycharm": {
     "name": "#%% md\n"
    }
   }
  },
  {
   "cell_type": "markdown",
   "source": [
    "There are two possible outcomes:\n",
    "1. The green M&M was in the old bag and the yellow M&M in the new bag.\n",
    "2. The green M&M was in the new bag and the yellow M&M in the old bag.\n",
    "\n",
    "Probability for color in each bag:\n",
    "\n",
    "-|1| 2\n",
    ":---:|:---:|:---:\n",
    "**Green** | $0.1$ |$0.2$\n",
    "**Yellow** | $0.14$ |$0.2$"
   ],
   "metadata": {
    "collapsed": false,
    "pycharm": {
     "name": "#%% md\n"
    }
   }
  },
  {
   "cell_type": "markdown",
   "source": [
    "Probability that option 2 occurred:\n",
    "$\\frac{0.2\\cdot0.2\\cdot0.5}{0.1\\cdot0.14\\cdot0.5+0.2\\cdot0.2\\cdot0.5}=\\frac{0.02}{0.027}=\\frac{20}{27}$"
   ],
   "metadata": {
    "collapsed": false,
    "pycharm": {
     "name": "#%% md\n"
    }
   }
  },
  {
   "cell_type": "markdown",
   "source": [
    "## Question 3"
   ],
   "metadata": {
    "collapsed": false,
    "pycharm": {
     "name": "#%% md\n"
    }
   }
  },
  {
   "cell_type": "markdown",
   "source": [
    "#### Bayes Theorem Equation:\n",
    "$P(H/E)=\\frac{P(E/H)\\cdot P(H)}{P(E)}$\n",
    "\n",
    "$H$ - the person is sick\n",
    "\n",
    "$E$ - the test is positive"
   ],
   "metadata": {
    "collapsed": false,
    "pycharm": {
     "name": "#%% md\n"
    }
   }
  },
  {
   "cell_type": "markdown",
   "source": [
    "### A."
   ],
   "metadata": {
    "collapsed": false
   }
  },
  {
   "cell_type": "markdown",
   "source": [
    "Likelihood the test is positive:\n",
    "$P(E/H)=1$"
   ],
   "metadata": {
    "collapsed": false,
    "pycharm": {
     "name": "#%% md\n"
    }
   }
  },
  {
   "cell_type": "markdown",
   "source": [
    "The probability that a person is sick:\n",
    "$P(H)=10^{-4}$"
   ],
   "metadata": {
    "collapsed": false,
    "pycharm": {
     "name": "#%% md\n"
    }
   }
  },
  {
   "cell_type": "markdown",
   "source": [
    "The probability that the test result is positive:\n",
    "$P(E)=1\\cdot10^{-4}+0.01\\cdot(1-10^{-4})=0.010099$"
   ],
   "metadata": {
    "collapsed": false,
    "pycharm": {
     "name": "#%% md\n"
    }
   }
  },
  {
   "cell_type": "markdown",
   "source": [
    "The probability of being ill:\n",
    "$P(H/E)=\\frac{1\\cdot10^{-4}}{0.010099}=\\frac{100}{10099}\\approx0.0099$"
   ],
   "metadata": {
    "collapsed": false,
    "pycharm": {
     "name": "#%% md\n"
    }
   }
  },
  {
   "cell_type": "markdown",
   "source": [
    "### B."
   ],
   "metadata": {
    "collapsed": false,
    "pycharm": {
     "name": "#%% md\n"
    }
   }
  },
  {
   "cell_type": "markdown",
   "source": [
    "Likelihood the test is positive:\n",
    "$P(E/H)=1$"
   ],
   "metadata": {
    "collapsed": false
   }
  },
  {
   "cell_type": "markdown",
   "source": [
    "The probability that a person is sick:\n",
    "$P(H)=\\frac{1}{200}$"
   ],
   "metadata": {
    "collapsed": false
   }
  },
  {
   "cell_type": "markdown",
   "source": [
    "The probability that the test result is positive:\n",
    "$P(E)=1\\cdot\\frac{1}{200}+0.01\\cdot(1-\\frac{1}{200})=0.01495$"
   ],
   "metadata": {
    "collapsed": false
   }
  },
  {
   "cell_type": "markdown",
   "source": [
    "The probability of being ill:\n",
    "$P(H/E)=\\frac{1\\cdot\\frac{1}{200}}{0.01495}=\\frac{100}{299}\\approx0.334$"
   ],
   "metadata": {
    "collapsed": false
   }
  },
  {
   "cell_type": "markdown",
   "source": [
    "> ## **Random Variables**"
   ],
   "metadata": {
    "collapsed": false,
    "pycharm": {
     "name": "#%% md\n"
    }
   }
  },
  {
   "cell_type": "markdown",
   "source": [
    "#### The expected value of a finite case:\n",
    "$X$ is a random value. The expectation of $X$ is:\n",
    "\n",
    "$E(X)=\\sum_{i=0}^{k}x_{i}P(X_{i})$"
   ],
   "metadata": {
    "collapsed": false,
    "pycharm": {
     "name": "#%% md\n"
    }
   }
  },
  {
   "cell_type": "markdown",
   "source": [
    "#### Binomial Distribution:\n",
    "\n",
    "$n$ is the number of trials\n",
    "\n",
    "$p$ is the success probability for each trial\n",
    "\n",
    "$q=1-p$\n",
    "\n",
    "**Mean:** $n\\cdot p$\n",
    "\n",
    "**Variance:** $n\\cdot p \\cdot q = n\\cdot p \\cdot (1-p)$"
   ],
   "metadata": {
    "collapsed": false,
    "pycharm": {
     "name": "#%% md\n"
    }
   }
  },
  {
   "cell_type": "markdown",
   "source": [
    "## Question 1"
   ],
   "metadata": {
    "collapsed": false,
    "pycharm": {
     "name": "#%% md\n"
    }
   }
  },
  {
   "cell_type": "markdown",
   "source": [
    "There are $6^2=36$ possible outcomes when rolling two dices."
   ],
   "metadata": {
    "collapsed": false,
    "pycharm": {
     "name": "#%% md\n"
    }
   }
  },
  {
   "cell_type": "markdown",
   "source": [
    "Outcomes with a sum that is divisible by $3$:\n",
    "\n",
    "Dice 1|Dice 2\n",
    "----|----\n",
    "1|2\n",
    "1|5\n",
    "2|1\n",
    "2|4\n",
    "3|3\n",
    "3|6\n",
    "4|2\n",
    "4|5\n",
    "5|1\n",
    "5|4\n",
    "6|3\n",
    "6|6\n",
    "\n",
    "Total number of possible outcomes: $12$"
   ],
   "metadata": {
    "collapsed": false,
    "pycharm": {
     "name": "#%% md\n"
    }
   }
  },
  {
   "cell_type": "markdown",
   "source": [
    "Probability that the sum of the dice is divisible by $3$:\n",
    "$\\frac{12}{36}=\\frac{1}{3}$\n",
    "\n",
    "Win: $\\$5$"
   ],
   "metadata": {
    "collapsed": false,
    "pycharm": {
     "name": "#%% md\n"
    }
   }
  },
  {
   "cell_type": "markdown",
   "source": [
    "Probability that the sum is not divisible by $3$:\n",
    "$1-\\frac{12}{36}=\\frac{2}{3}$\n",
    "\n",
    "Loose: $\\$3$"
   ],
   "metadata": {
    "collapsed": false,
    "pycharm": {
     "name": "#%% md\n"
    }
   }
  },
  {
   "cell_type": "markdown",
   "source": [
    "Expected value of playing the game:\n",
    "$E(X)=6\\cdot\\frac{1}{3}+(-3)\\cdot\\frac{2}{3}=0$"
   ],
   "metadata": {
    "collapsed": false,
    "pycharm": {
     "name": "#%% md\n"
    }
   }
  },
  {
   "cell_type": "markdown",
   "source": [
    "## Question 2"
   ],
   "metadata": {
    "collapsed": false,
    "pycharm": {
     "name": "#%% md\n"
    }
   }
  },
  {
   "cell_type": "markdown",
   "source": [
    "* Red marks if the sum of the two dice is less than 12\n",
    "* Blue marks if the sum of the dice is equal to 12\n",
    "* Green marks if the sum of the dice is greater than 12\n",
    "\n",
    "The first number represents a red marker from the first bag.\n",
    "\n",
    "The second number represents a green marker from the second bag."
   ],
   "metadata": {
    "collapsed": false,
    "pycharm": {
     "name": "#%% md\n"
    }
   }
  },
  {
   "cell_type": "markdown",
   "source": [
    "\\begin{array}{ccccc}\n",
    "\\left\\langle \\color{red}{1,6} \\right\\rangle  & \\left\\langle \\color{red}{2,6} \\right\\rangle  & \\left\\langle \\color{red}{3,6} \\right\\rangle  & \\left\\langle \\color{red}{4,6} \\right\\rangle  & \\left\\langle\\color{red}{5,6}\\right\\rangle \\\\\n",
    "\\left\\langle \\color{red}{1,7} \\right\\rangle  & \\left\\langle \\color{red}{2,7} \\right\\rangle  & \\left\\langle \\color{red}{3,7} \\right\\rangle  & \\left\\langle \\color{red}{4,7} \\right\\rangle  & \\left\\langle \\color{blue}{5,7} \\right\\rangle \\\\\n",
    "\\left\\langle \\color{red}{1,8} \\right\\rangle  & \\left\\langle \\color{red}{2,8} \\right\\rangle  & \\left\\langle \\color{red}{3,8} \\right\\rangle  & \\left\\langle \\color{blue}{4,8} \\right\\rangle  & \\left\\langle \\color{green}{5,8} \\right\\rangle \\\\\n",
    "\\left\\langle\\color{red}{1,9}  \\right\\rangle  & \\left\\langle \\color{red}{2,9} \\right\\rangle  & \\left\\langle \\color{blue}{3,9} \\right\\rangle  & \\left\\langle \\color{green}{4,9} \\right\\rangle  & \\left\\langle \\color{green}{5,9} \\right\\rangle \\\\\n",
    "\\left\\langle\\color{red}{1,10} \\right\\rangle  & \\left\\langle \\color{blue}{2,10} \\right\\rangle  & \\left\\langle \\color{green}{3,10} \\right\\rangle  & \\left\\langle \\color{green}{4,10} \\right\\rangle  & \\left\\langle \\color{green}{5,10} \\right\\rangle\n",
    "\\end{array}\n",
    "\n",
    "Total number of possible outcomes: $25$"
   ],
   "metadata": {
    "collapsed": false,
    "pycharm": {
     "name": "#%% md\n"
    }
   }
  },
  {
   "cell_type": "markdown",
   "source": [
    "Probability that the sum is less than 12:\n",
    "$\\frac{15}{25}=\\frac{3}{5}$"
   ],
   "metadata": {
    "collapsed": false,
    "pycharm": {
     "name": "#%% md\n"
    }
   }
  },
  {
   "cell_type": "markdown",
   "source": [
    "Probability that the sum is equal to 12:\n",
    "$\\frac{4}{25}$"
   ],
   "metadata": {
    "collapsed": false,
    "pycharm": {
     "name": "#%% md\n"
    }
   }
  },
  {
   "cell_type": "markdown",
   "source": [
    "Probability that the sum is greater than 12:\n",
    "$\\frac{6}{25}$"
   ],
   "metadata": {
    "collapsed": false,
    "pycharm": {
     "name": "#%% md\n"
    }
   }
  },
  {
   "cell_type": "markdown",
   "source": [
    "Expected value of playing the game:\n",
    "$E(X)=5\\cdot\\frac{6}{25}+0\\cdot\\frac{4}{25}+(-6)\\cdot\\frac{3}{5}=-2.4$"
   ],
   "metadata": {
    "collapsed": false,
    "pycharm": {
     "name": "#%% md\n"
    }
   }
  },
  {
   "cell_type": "markdown",
   "source": [
    "## Question 3"
   ],
   "metadata": {
    "collapsed": false,
    "pycharm": {
     "name": "#%% md\n"
    }
   }
  },
  {
   "cell_type": "markdown",
   "source": [
    "According to the binomial distribution:\n",
    "\n",
    "The number of people selected: $n=8$\n",
    "\n",
    "The probability the employee is a male: $p=0.4$"
   ],
   "metadata": {
    "collapsed": false,
    "pycharm": {
     "name": "#%% md\n"
    }
   }
  },
  {
   "cell_type": "markdown",
   "source": [
    "The mean is: $n\\cdot p = 8 \\cdot 0.4 = 3.2$"
   ],
   "metadata": {
    "collapsed": false,
    "pycharm": {
     "name": "#%% md\n"
    }
   }
  },
  {
   "cell_type": "markdown",
   "source": [
    "The variance is: $n\\cdot p \\cdot (1-p) = 8\\cdot 0.4\\cdot 0.6= 1.92$"
   ],
   "metadata": {
    "collapsed": false,
    "pycharm": {
     "name": "#%% md\n"
    }
   }
  },
  {
   "cell_type": "markdown",
   "source": [
    "The standard deviation is the square root of the variance.\n",
    "\n",
    "The standard deviation is: $\\sqrt{1.92}=\\frac{4\\cdot\\sqrt{3}}{5}\\approx1.385$"
   ],
   "metadata": {
    "collapsed": false,
    "pycharm": {
     "name": "#%% md\n"
    }
   }
  },
  {
   "cell_type": "markdown",
   "source": [
    "## Question 4"
   ],
   "metadata": {
    "collapsed": false,
    "pycharm": {
     "name": "#%% md\n"
    }
   }
  },
  {
   "cell_type": "markdown",
   "source": [
    "According to the **$68-95-99.7$ Rule** in normal distribution:\n",
    "* $68\\%$ of the population is within $1\\sigma$ of the mean.\n",
    "* $95\\%$ of the population is within $2\\sigma$ of the mean.\n",
    "* $99.7\\%$ of the population is within $3\\sigma$ of the mean.\n",
    "\n",
    "All normal distributions are symmetric, therefore we can take the positive standard deviation."
   ],
   "metadata": {
    "collapsed": false,
    "pycharm": {
     "name": "#%% md\n"
    }
   }
  },
  {
   "cell_type": "markdown",
   "source": [
    "The mean: $\\$26,000$\n",
    "\n",
    "The standard deviation: $\\$2,000$\n",
    "\n",
    "X in $P(26<X<30)$ falls between $2\\sigma=\\$4,000$ of the mean."
   ],
   "metadata": {
    "collapsed": false,
    "pycharm": {
     "name": "#%% md\n"
    }
   }
  },
  {
   "cell_type": "markdown",
   "source": [],
   "metadata": {
    "collapsed": false,
    "pycharm": {
     "name": "#%% md\n"
    }
   }
  }
 ],
 "metadata": {
  "kernelspec": {
   "name": "pycharm-6b1cb0de",
   "language": "python",
   "display_name": "PyCharm (1SA-Final-Project)"
  },
  "language_info": {
   "codemirror_mode": {
    "name": "ipython",
    "version": 2
   },
   "file_extension": ".py",
   "mimetype": "text/x-python",
   "name": "python",
   "nbconvert_exporter": "python",
   "pygments_lexer": "ipython2",
   "version": "2.7.6"
  }
 },
 "nbformat": 4,
 "nbformat_minor": 0
}