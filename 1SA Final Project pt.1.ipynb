{
 "cells": [
  {
   "cell_type": "markdown",
   "metadata": {
    "collapsed": true,
    "pycharm": {
     "name": "#%% md\n"
    }
   },
   "source": [
    "<h1 style=\"text-align: center;\">Data Science Project</h1>\n",
    "<h2 style=\"text-align: center;\">Part 1</h2>\n",
    "<h2 style=\"text-align: center;\">Probability</h2>"
   ]
  },
  {
   "cell_type": "markdown",
   "source": [
    "## **Probability and Bayes Theorem**"
   ],
   "metadata": {
    "collapsed": false,
    "pycharm": {
     "name": "#%% md\n"
    }
   }
  },
  {
   "cell_type": "markdown",
   "source": [
    "## Question 1"
   ],
   "metadata": {
    "collapsed": false,
    "pycharm": {
     "name": "#%% md\n"
    }
   }
  },
  {
   "cell_type": "markdown",
   "source": [
    "### A."
   ],
   "metadata": {
    "collapsed": false,
    "pycharm": {
     "name": "#%% md\n"
    }
   }
  },
  {
   "cell_type": "markdown",
   "source": [
    "Probability for twins:\n",
    "$\\frac{1}{125}+\\frac{1}{300}=\\frac{17}{1500}$"
   ],
   "metadata": {
    "collapsed": false,
    "pycharm": {
     "name": "#%% md\n"
    }
   }
  },
  {
   "cell_type": "markdown",
   "source": [
    "Probability for identical twins:\n",
    "$\\frac{1}{300}$"
   ],
   "metadata": {
    "collapsed": false,
    "pycharm": {
     "name": "#%% md\n"
    }
   }
  },
  {
   "cell_type": "markdown",
   "source": [
    "Probability Elvis had an identical twin:\n",
    "$\\frac{\\frac{1}{300}}{\\frac{17}{1500}}=\\frac{5}{17}$"
   ],
   "metadata": {
    "collapsed": false,
    "pycharm": {
     "name": "#%% md\n"
    }
   }
  },
  {
   "cell_type": "markdown",
   "source": [
    "### B."
   ],
   "metadata": {
    "collapsed": false,
    "pycharm": {
     "name": "#%% md\n"
    }
   }
  },
  {
   "cell_type": "markdown",
   "source": [
    "Probability for cookies in bowls:\n",
    "\n",
    "-|Bowl 1| Bowl 2\n",
    ":---:|:---:|:---:\n",
    "**Chocolate Cookies** | $\\frac{3}{4}$ |$\\frac{1}{2}$\n",
    "**Almond Cookies** | $\\frac{1}{4}$ |$\\frac{1}{2}$"
   ],
   "metadata": {
    "collapsed": false,
    "pycharm": {
     "name": "#%% md\n"
    }
   }
  },
  {
   "cell_type": "markdown",
   "source": [
    "Probability of a chocolate cookie:\n",
    "$\\frac{1}{2}\\cdot\\frac{3}{4}+\\frac{1}{2}\\cdot\\frac{1}{2}=\\frac{5}{8}$"
   ],
   "metadata": {
    "collapsed": false,
    "pycharm": {
     "name": "#%% md\n"
    }
   }
  },
  {
   "cell_type": "markdown",
   "source": [
    "Probability of a chocolate cookie from bowl 1:\n",
    "$\\frac{1}{2}\\cdot\\frac{3}{4}=\\frac{3}{8}$"
   ],
   "metadata": {
    "collapsed": false,
    "pycharm": {
     "name": "#%% md\n"
    }
   }
  },
  {
   "cell_type": "markdown",
   "source": [
    "Probability the chocolate cookie is from bowl 1:\n",
    "$\\frac{\\frac{3}{8}}{\\frac{5}{8}}=\\frac{3}{5}$"
   ],
   "metadata": {
    "collapsed": false,
    "pycharm": {
     "name": "#%% md\n"
    }
   }
  },
  {
   "cell_type": "markdown",
   "source": [
    "## Question 2"
   ],
   "metadata": {
    "collapsed": false,
    "pycharm": {
     "name": "#%% md\n"
    }
   }
  },
  {
   "cell_type": "markdown",
   "source": [
    "There are two possible outcomes:\n",
    "1. The green M&M was in the old bag and the yellow M&M in the new bag.\n",
    "2. The green M&M was in the new bag and the yellow M&M in the old bag.\n",
    "\n",
    "Probability for color in each bag:\n",
    "\n",
    "-|1| 2\n",
    ":---:|:---:|:---:\n",
    "**Green** | $0.1$ |$0.2$\n",
    "**Yellow** | $0.14$ |$0.2$"
   ],
   "metadata": {
    "collapsed": false,
    "pycharm": {
     "name": "#%% md\n"
    }
   }
  },
  {
   "cell_type": "markdown",
   "source": [
    "Probability that option 2 occurred:\n",
    "$\\frac{0.2\\cdot0.2\\cdot0.5}{0.1\\cdot0.14\\cdot0.5+0.2\\cdot0.2\\cdot0.5}=\\frac{0.02}{0.027}=\\frac{20}{27}$"
   ],
   "metadata": {
    "collapsed": false,
    "pycharm": {
     "name": "#%% md\n"
    }
   }
  },
  {
   "cell_type": "markdown",
   "source": [
    "## Question 3"
   ],
   "metadata": {
    "collapsed": false,
    "pycharm": {
     "name": "#%% md\n"
    }
   }
  },
  {
   "cell_type": "markdown",
   "source": [
    "#### Bayes Theorem Equation:\n",
    "$P(H/E)=\\frac{P(E/H)\\cdot P(H)}{P(E)}$\n",
    "\n",
    "$H$ - the person is sick\n",
    "\n",
    "$E$ - the test is positive"
   ],
   "metadata": {
    "collapsed": false,
    "pycharm": {
     "name": "#%% md\n"
    }
   }
  },
  {
   "cell_type": "markdown",
   "source": [
    "### A."
   ],
   "metadata": {
    "collapsed": false
   }
  },
  {
   "cell_type": "markdown",
   "source": [
    "Likelihood the test is positive:\n",
    "$P(E/H)=1$"
   ],
   "metadata": {
    "collapsed": false,
    "pycharm": {
     "name": "#%% md\n"
    }
   }
  },
  {
   "cell_type": "markdown",
   "source": [
    "The probability that a person is sick:\n",
    "$P(H)=10^{-4}$"
   ],
   "metadata": {
    "collapsed": false,
    "pycharm": {
     "name": "#%% md\n"
    }
   }
  },
  {
   "cell_type": "markdown",
   "source": [
    "The probability that the test result is positive:\n",
    "$P(E)=1\\cdot10^{-4}+0.01\\cdot(1-10^{-4})=0.010099$"
   ],
   "metadata": {
    "collapsed": false,
    "pycharm": {
     "name": "#%% md\n"
    }
   }
  },
  {
   "cell_type": "markdown",
   "source": [
    "The probability of being ill:\n",
    "$P(H/E)=\\frac{1\\cdot10^{-4}}{0.010099}=\\frac{100}{10099}\\approx0.0099$"
   ],
   "metadata": {
    "collapsed": false,
    "pycharm": {
     "name": "#%% md\n"
    }
   }
  },
  {
   "cell_type": "markdown",
   "source": [
    "### B."
   ],
   "metadata": {
    "collapsed": false,
    "pycharm": {
     "name": "#%% md\n"
    }
   }
  },
  {
   "cell_type": "markdown",
   "source": [
    "Likelihood the test is positive:\n",
    "$P(E/H)=1$"
   ],
   "metadata": {
    "collapsed": false
   }
  },
  {
   "cell_type": "markdown",
   "source": [
    "The probability that a person is sick:\n",
    "$P(H)=\\frac{1}{200}$"
   ],
   "metadata": {
    "collapsed": false
   }
  },
  {
   "cell_type": "markdown",
   "source": [
    "The probability that the test result is positive:\n",
    "$P(E)=1\\cdot\\frac{1}{200}+0.01\\cdot(1-\\frac{1}{200})=0.01495$"
   ],
   "metadata": {
    "collapsed": false
   }
  },
  {
   "cell_type": "markdown",
   "source": [
    "The probability of being ill:\n",
    "$P(H/E)=\\frac{1\\cdot\\frac{1}{200}}{0.01495}=\\frac{100}{299}\\approx0.334$"
   ],
   "metadata": {
    "collapsed": false
   }
  },
  {
   "cell_type": "markdown",
   "source": [
    "## **Random Variables**"
   ],
   "metadata": {
    "collapsed": false,
    "pycharm": {
     "name": "#%% md\n"
    }
   }
  },
  {
   "cell_type": "markdown",
   "source": [
    "#### The expected value of a finite case:\n",
    "$X$ is a random value. The expectation of $X$ is:\n",
    "\n",
    "$E(X)=\\sum_{i=0}^{k}x_{i}P(X_{i})$"
   ],
   "metadata": {
    "collapsed": false,
    "pycharm": {
     "name": "#%% md\n"
    }
   }
  },
  {
   "cell_type": "markdown",
   "source": [
    "### Question 1"
   ],
   "metadata": {
    "collapsed": false,
    "pycharm": {
     "name": "#%% md\n"
    }
   }
  },
  {
   "cell_type": "markdown",
   "source": [
    "There are $6^2=36$ possible outcomes when rolling two dices."
   ],
   "metadata": {
    "collapsed": false,
    "pycharm": {
     "name": "#%% md\n"
    }
   }
  },
  {
   "cell_type": "markdown",
   "source": [
    "Outcomes with a sum that is divisible by $3$:\n",
    "\n",
    "Dice 1|Dice 2\n",
    "----|----\n",
    "1|2\n",
    "1|5\n",
    "2|1\n",
    "2|4\n",
    "3|3\n",
    "3|6\n",
    "4|2\n",
    "4|5\n",
    "5|1\n",
    "5|4\n",
    "6|3\n",
    "6|6\n",
    "\n",
    "Total number of possible outcomes: $12$"
   ],
   "metadata": {
    "collapsed": false,
    "pycharm": {
     "name": "#%% md\n"
    }
   }
  },
  {
   "cell_type": "markdown",
   "source": [
    "Probability that the sum of the dice is divisible by $3$:\n",
    "$\\frac{12}{36}=\\frac{1}{3}$\n",
    "\n",
    "Win: $\\$5$"
   ],
   "metadata": {
    "collapsed": false,
    "pycharm": {
     "name": "#%% md\n"
    }
   }
  },
  {
   "cell_type": "markdown",
   "source": [
    "Probability that the sum is not divisible by $3$:\n",
    "$1-\\frac{12}{36}=\\frac{2}{3}$\n",
    "\n",
    "Loose: $\\$3$"
   ],
   "metadata": {
    "collapsed": false,
    "pycharm": {
     "name": "#%% md\n"
    }
   }
  },
  {
   "cell_type": "markdown",
   "source": [
    "Expected value of playing the game:\n",
    "$E(X)=6\\cdot\\frac{1}{3}+(-3)\\cdot\\frac{2}{3}=0$"
   ],
   "metadata": {
    "collapsed": false,
    "pycharm": {
     "name": "#%% md\n"
    }
   }
  },
  {
   "cell_type": "markdown",
   "source": [],
   "metadata": {
    "collapsed": false,
    "pycharm": {
     "name": "#%% md\n"
    }
   }
  }
 ],
 "metadata": {
  "kernelspec": {
   "name": "pycharm-6b1cb0de",
   "language": "python",
   "display_name": "PyCharm (1SA-Final-Project)"
  },
  "language_info": {
   "codemirror_mode": {
    "name": "ipython",
    "version": 2
   },
   "file_extension": ".py",
   "mimetype": "text/x-python",
   "name": "python",
   "nbconvert_exporter": "python",
   "pygments_lexer": "ipython2",
   "version": "2.7.6"
  }
 },
 "nbformat": 4,
 "nbformat_minor": 0
}