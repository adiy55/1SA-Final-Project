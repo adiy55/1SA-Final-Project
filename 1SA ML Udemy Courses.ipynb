{
 "cells": [
  {
   "cell_type": "code",
   "execution_count": 1,
   "outputs": [],
   "source": [
    "# common imports\n",
    "import numpy as np\n",
    "import pandas as pd\n",
    "import seaborn as sns\n",
    "import matplotlib.pyplot as plt\n",
    "%matplotlib inline\n",
    "\n",
    "# pandas imports\n",
    "from pandas.plotting import scatter_matrix\n",
    "\n",
    "from sklearn.model_selection import train_test_split\n",
    "\n",
    "# display setup\n",
    "pd.set_option(\"display.max_columns\", None) # the None parameter displays unlimited columns\n",
    "sns.set(style=\"whitegrid\") # for plots"
   ],
   "metadata": {
    "collapsed": false,
    "pycharm": {
     "name": "#%%\n"
    }
   }
  },
  {
   "cell_type": "markdown",
   "source": [
    "## 1. Getting the Data"
   ],
   "metadata": {
    "collapsed": false
   }
  },
  {
   "cell_type": "code",
   "execution_count": 2,
   "outputs": [],
   "source": [
    "# read the csv file\n",
    "df = pd.read_csv(\"udemy_courses.csv\")"
   ],
   "metadata": {
    "collapsed": false,
    "pycharm": {
     "name": "#%%\n"
    }
   }
  },
  {
   "cell_type": "code",
   "execution_count": 3,
   "outputs": [
    {
     "data": {
      "text/plain": "   course_id                                       course_title  \\\n0    1070968                 Ultimate Investment Banking Course   \n1    1113822  Complete GST Course & Certification - Grow You...   \n2    1006314  Financial Modeling for Business Analysts and C...   \n3    1210588  Beginner to Pro - Financial Analysis in Excel ...   \n4    1011058       How To Maximize Your Profits Trading Options   \n\n                                                 url  is_paid  price  \\\n0  https://www.udemy.com/ultimate-investment-bank...     True    200   \n1      https://www.udemy.com/goods-and-services-tax/     True     75   \n2  https://www.udemy.com/financial-modeling-for-b...     True     45   \n3  https://www.udemy.com/complete-excel-finance-c...     True     95   \n4  https://www.udemy.com/how-to-maximize-your-pro...     True    200   \n\n   num_subscribers  num_reviews  num_lectures               level  \\\n0             2147           23            51          All Levels   \n1             2792          923           274          All Levels   \n2             2174           74            51  Intermediate Level   \n3             2451           11            36          All Levels   \n4             1276           45            26  Intermediate Level   \n\n   content_duration   published_timestamp           subject  \n0               1.5  2017-01-18T20:58:58Z  Business Finance  \n1              39.0  2017-03-09T16:34:20Z  Business Finance  \n2               2.5  2016-12-19T19:26:30Z  Business Finance  \n3               3.0  2017-05-30T20:07:24Z  Business Finance  \n4               2.0  2016-12-13T14:57:18Z  Business Finance  ",
      "text/html": "<div>\n<style scoped>\n    .dataframe tbody tr th:only-of-type {\n        vertical-align: middle;\n    }\n\n    .dataframe tbody tr th {\n        vertical-align: top;\n    }\n\n    .dataframe thead th {\n        text-align: right;\n    }\n</style>\n<table border=\"1\" class=\"dataframe\">\n  <thead>\n    <tr style=\"text-align: right;\">\n      <th></th>\n      <th>course_id</th>\n      <th>course_title</th>\n      <th>url</th>\n      <th>is_paid</th>\n      <th>price</th>\n      <th>num_subscribers</th>\n      <th>num_reviews</th>\n      <th>num_lectures</th>\n      <th>level</th>\n      <th>content_duration</th>\n      <th>published_timestamp</th>\n      <th>subject</th>\n    </tr>\n  </thead>\n  <tbody>\n    <tr>\n      <th>0</th>\n      <td>1070968</td>\n      <td>Ultimate Investment Banking Course</td>\n      <td>https://www.udemy.com/ultimate-investment-bank...</td>\n      <td>True</td>\n      <td>200</td>\n      <td>2147</td>\n      <td>23</td>\n      <td>51</td>\n      <td>All Levels</td>\n      <td>1.5</td>\n      <td>2017-01-18T20:58:58Z</td>\n      <td>Business Finance</td>\n    </tr>\n    <tr>\n      <th>1</th>\n      <td>1113822</td>\n      <td>Complete GST Course &amp; Certification - Grow You...</td>\n      <td>https://www.udemy.com/goods-and-services-tax/</td>\n      <td>True</td>\n      <td>75</td>\n      <td>2792</td>\n      <td>923</td>\n      <td>274</td>\n      <td>All Levels</td>\n      <td>39.0</td>\n      <td>2017-03-09T16:34:20Z</td>\n      <td>Business Finance</td>\n    </tr>\n    <tr>\n      <th>2</th>\n      <td>1006314</td>\n      <td>Financial Modeling for Business Analysts and C...</td>\n      <td>https://www.udemy.com/financial-modeling-for-b...</td>\n      <td>True</td>\n      <td>45</td>\n      <td>2174</td>\n      <td>74</td>\n      <td>51</td>\n      <td>Intermediate Level</td>\n      <td>2.5</td>\n      <td>2016-12-19T19:26:30Z</td>\n      <td>Business Finance</td>\n    </tr>\n    <tr>\n      <th>3</th>\n      <td>1210588</td>\n      <td>Beginner to Pro - Financial Analysis in Excel ...</td>\n      <td>https://www.udemy.com/complete-excel-finance-c...</td>\n      <td>True</td>\n      <td>95</td>\n      <td>2451</td>\n      <td>11</td>\n      <td>36</td>\n      <td>All Levels</td>\n      <td>3.0</td>\n      <td>2017-05-30T20:07:24Z</td>\n      <td>Business Finance</td>\n    </tr>\n    <tr>\n      <th>4</th>\n      <td>1011058</td>\n      <td>How To Maximize Your Profits Trading Options</td>\n      <td>https://www.udemy.com/how-to-maximize-your-pro...</td>\n      <td>True</td>\n      <td>200</td>\n      <td>1276</td>\n      <td>45</td>\n      <td>26</td>\n      <td>Intermediate Level</td>\n      <td>2.0</td>\n      <td>2016-12-13T14:57:18Z</td>\n      <td>Business Finance</td>\n    </tr>\n  </tbody>\n</table>\n</div>"
     },
     "execution_count": 3,
     "metadata": {},
     "output_type": "execute_result"
    }
   ],
   "source": [
    "# display the first 5 rows for a quick look\n",
    "df.head()"
   ],
   "metadata": {
    "collapsed": false,
    "pycharm": {
     "name": "#%%\n"
    }
   }
  },
  {
   "cell_type": "code",
   "execution_count": 4,
   "outputs": [
    {
     "data": {
      "text/plain": "(3678, 12)"
     },
     "execution_count": 4,
     "metadata": {},
     "output_type": "execute_result"
    }
   ],
   "source": [
    "# DataFrame shape (rows, columns)\n",
    "# understand the amount of data we are working with\n",
    "df.shape"
   ],
   "metadata": {
    "collapsed": false,
    "pycharm": {
     "name": "#%%\n"
    }
   }
  },
  {
   "cell_type": "code",
   "execution_count": 5,
   "outputs": [
    {
     "name": "stdout",
     "output_type": "stream",
     "text": [
      "<class 'pandas.core.frame.DataFrame'>\n",
      "RangeIndex: 3678 entries, 0 to 3677\n",
      "Data columns (total 12 columns):\n",
      " #   Column               Non-Null Count  Dtype  \n",
      "---  ------               --------------  -----  \n",
      " 0   course_id            3678 non-null   int64  \n",
      " 1   course_title         3678 non-null   object \n",
      " 2   url                  3678 non-null   object \n",
      " 3   is_paid              3678 non-null   bool   \n",
      " 4   price                3678 non-null   int64  \n",
      " 5   num_subscribers      3678 non-null   int64  \n",
      " 6   num_reviews          3678 non-null   int64  \n",
      " 7   num_lectures         3678 non-null   int64  \n",
      " 8   level                3678 non-null   object \n",
      " 9   content_duration     3678 non-null   float64\n",
      " 10  published_timestamp  3678 non-null   object \n",
      " 11  subject              3678 non-null   object \n",
      "dtypes: bool(1), float64(1), int64(5), object(5)\n",
      "memory usage: 319.8+ KB\n"
     ]
    }
   ],
   "source": [
    "# description of data\n",
    "df.info()"
   ],
   "metadata": {
    "collapsed": false,
    "pycharm": {
     "name": "#%%\n"
    }
   }
  },
  {
   "cell_type": "code",
   "execution_count": 6,
   "outputs": [
    {
     "data": {
      "text/plain": "course_id              0\ncourse_title           0\nurl                    0\nis_paid                0\nprice                  0\nnum_subscribers        0\nnum_reviews            0\nnum_lectures           0\nlevel                  0\ncontent_duration       0\npublished_timestamp    0\nsubject                0\ndtype: int64"
     },
     "execution_count": 6,
     "metadata": {},
     "output_type": "execute_result"
    }
   ],
   "source": [
    "# check if there are null values\n",
    "df.isna().sum()"
   ],
   "metadata": {
    "collapsed": false,
    "pycharm": {
     "name": "#%%\n"
    }
   }
  },
  {
   "cell_type": "code",
   "execution_count": 7,
   "outputs": [
    {
     "data": {
      "text/plain": "          course_id        price  num_subscribers   num_reviews  num_lectures  \\\ncount  3.678000e+03  3678.000000      3678.000000   3678.000000   3678.000000   \nmean   6.759720e+05    66.049483      3197.150625    156.259108     40.108755   \nstd    3.432732e+05    61.005755      9504.117010    935.452044     50.383346   \nmin    8.324000e+03     0.000000         0.000000      0.000000      0.000000   \n25%    4.076925e+05    20.000000       111.000000      4.000000     15.000000   \n50%    6.879170e+05    45.000000       911.500000     18.000000     25.000000   \n75%    9.613555e+05    95.000000      2546.000000     67.000000     45.750000   \nmax    1.282064e+06   200.000000    268923.000000  27445.000000    779.000000   \n\n       content_duration  \ncount       3678.000000  \nmean           4.094517  \nstd            6.053840  \nmin            0.000000  \n25%            1.000000  \n50%            2.000000  \n75%            4.500000  \nmax           78.500000  ",
      "text/html": "<div>\n<style scoped>\n    .dataframe tbody tr th:only-of-type {\n        vertical-align: middle;\n    }\n\n    .dataframe tbody tr th {\n        vertical-align: top;\n    }\n\n    .dataframe thead th {\n        text-align: right;\n    }\n</style>\n<table border=\"1\" class=\"dataframe\">\n  <thead>\n    <tr style=\"text-align: right;\">\n      <th></th>\n      <th>course_id</th>\n      <th>price</th>\n      <th>num_subscribers</th>\n      <th>num_reviews</th>\n      <th>num_lectures</th>\n      <th>content_duration</th>\n    </tr>\n  </thead>\n  <tbody>\n    <tr>\n      <th>count</th>\n      <td>3.678000e+03</td>\n      <td>3678.000000</td>\n      <td>3678.000000</td>\n      <td>3678.000000</td>\n      <td>3678.000000</td>\n      <td>3678.000000</td>\n    </tr>\n    <tr>\n      <th>mean</th>\n      <td>6.759720e+05</td>\n      <td>66.049483</td>\n      <td>3197.150625</td>\n      <td>156.259108</td>\n      <td>40.108755</td>\n      <td>4.094517</td>\n    </tr>\n    <tr>\n      <th>std</th>\n      <td>3.432732e+05</td>\n      <td>61.005755</td>\n      <td>9504.117010</td>\n      <td>935.452044</td>\n      <td>50.383346</td>\n      <td>6.053840</td>\n    </tr>\n    <tr>\n      <th>min</th>\n      <td>8.324000e+03</td>\n      <td>0.000000</td>\n      <td>0.000000</td>\n      <td>0.000000</td>\n      <td>0.000000</td>\n      <td>0.000000</td>\n    </tr>\n    <tr>\n      <th>25%</th>\n      <td>4.076925e+05</td>\n      <td>20.000000</td>\n      <td>111.000000</td>\n      <td>4.000000</td>\n      <td>15.000000</td>\n      <td>1.000000</td>\n    </tr>\n    <tr>\n      <th>50%</th>\n      <td>6.879170e+05</td>\n      <td>45.000000</td>\n      <td>911.500000</td>\n      <td>18.000000</td>\n      <td>25.000000</td>\n      <td>2.000000</td>\n    </tr>\n    <tr>\n      <th>75%</th>\n      <td>9.613555e+05</td>\n      <td>95.000000</td>\n      <td>2546.000000</td>\n      <td>67.000000</td>\n      <td>45.750000</td>\n      <td>4.500000</td>\n    </tr>\n    <tr>\n      <th>max</th>\n      <td>1.282064e+06</td>\n      <td>200.000000</td>\n      <td>268923.000000</td>\n      <td>27445.000000</td>\n      <td>779.000000</td>\n      <td>78.500000</td>\n    </tr>\n  </tbody>\n</table>\n</div>"
     },
     "execution_count": 7,
     "metadata": {},
     "output_type": "execute_result"
    }
   ],
   "source": [
    "# summary of the numerical attributes\n",
    "df.describe()"
   ],
   "metadata": {
    "collapsed": false,
    "pycharm": {
     "name": "#%%\n"
    }
   }
  },
  {
   "cell_type": "markdown",
   "source": [
    "> As shown above, there are no missing values which is excellent!\n",
    ">\n",
    "> *It is vital to understand the features we are working with.*\n",
    "> ### Features in the DataFrame:\n",
    ">> 1. course_id: Course identification number\n",
    ">> 2. course_title: Title of course\n",
    ">> 3. url: Course URL\n",
    ">> 4. is_paid: True if the course costs money, False if the course is free\n",
    ">> 5. price: Price of course\n",
    ">> 6. num_subscribers: Number of subscribers for the course\n",
    ">> 7. num_lectures: Number of lectures in the course\n",
    ">> 8. level: Difficulty level of the course\n",
    ">> 9. content_duration: Duration of all course materials\n",
    ">> 10. published_timestamp: Course publication date\n",
    ">> 11. subject: Subject of course"
   ],
   "metadata": {
    "collapsed": false
   }
  },
  {
   "cell_type": "code",
   "execution_count": 8,
   "outputs": [
    {
     "data": {
      "text/plain": "<Figure size 1440x1080 with 6 Axes>",
      "image/png": "[encoded data removed]"
     },
     "metadata": {},
     "output_type": "display_data"
    }
   ],
   "source": [
    "# a histogram plot for each numerical attribute\n",
    "df.drop(\"is_paid\", axis=1).hist(bins=30, figsize=(20,15))\n",
    "# plt.tight_layout()\n",
    "plt.show()"
   ],
   "metadata": {
    "collapsed": false,
    "pycharm": {
     "name": "#%%\n"
    }
   }
  },
  {
   "cell_type": "markdown",
   "source": [
    "> Initial observations from the histograms:\n",
    ">> 1. Most course durations are between 0-5 hours.\n",
    ">> 2. There are usually around 1-50 lectures per course.\n",
    ">> 3. Courses tend to have few reviews. There are probably a handful of courses\n",
    ">> with a large amount of reviews since the X axis goes up to 25000 while over 3000\n",
    ">> instances are represented in the first bin.\n",
    ">> 4. The majority of courses are in the same range of subscribers. The instances farther up\n",
    ">> the scale were probably more successful or perhaps courses on a trending topic.\n",
    ">> 5. Assuming the prices are in USD, the range is between 0-250 dollars.\n",
    ">> The plot shows the most common price roughly $25.\n",
    ">>\n",
    ">> It would probably be a good idea to look further into some of these values.\n",
    ">> For instance, if the content duration or number of lectures is listed as 0."
   ],
   "metadata": {
    "collapsed": false
   }
  },
  {
   "cell_type": "markdown",
   "source": [
    "> ### Objective:\n",
    "> #### Predicting the number of subscribers for a course.\n",
    ">> ##### Chosen Feature:\n",
    ">> *num_subscribers column*\n",
    ">>> The column represents how many people have subscribed for each individual course.\n",
    ">>> ##### Motive:\n",
    ">>> Predicting the number of people interested in a course. The more subscribers, the\n",
    ">>> more popular the course."
   ],
   "metadata": {
    "collapsed": false
   }
  },
  {
   "cell_type": "markdown",
   "source": [
    "> #### Splitting the Data:\n",
    ">> Before further analysis let's split the data into a training set and a testing set.\n",
    ">> This will ensure avoidance of bias that could occur from learning the data as a whole."
   ],
   "metadata": {
    "collapsed": false
   }
  },
  {
   "cell_type": "code",
   "execution_count": 9,
   "outputs": [],
   "source": [
    "# use sklearn train_test_split function to split the data\n",
    "# the random state parameter ensures that data will be shuffled and split the same way in each run\n",
    "train_set, test_set = train_test_split(df, test_size=0.20, random_state=42)"
   ],
   "metadata": {
    "collapsed": false,
    "pycharm": {
     "name": "#%%\n"
    }
   }
  },
  {
   "cell_type": "code",
   "execution_count": 10,
   "outputs": [
    {
     "name": "stdout",
     "output_type": "stream",
     "text": [
      "Number of instances in training set:  2942\n",
      "Number of instances in testing set:  736\n"
     ]
    }
   ],
   "source": [
    "print(\"Number of instances in training set: \", len(train_set))\n",
    "print(\"Number of instances in testing set: \", len(test_set))"
   ],
   "metadata": {
    "collapsed": false,
    "pycharm": {
     "name": "#%%\n"
    }
   }
  },
  {
   "cell_type": "markdown",
   "source": [
    "## 2. Understanding and Visualizing the Data\n",
    "> ##### *The motivation for this section is to gain more insights*"
   ],
   "metadata": {
    "collapsed": false
   }
  },
  {
   "cell_type": "code",
   "execution_count": 11,
   "outputs": [],
   "source": [
    "# deep copy of the training set\n",
    "df2 = train_set.copy()"
   ],
   "metadata": {
    "collapsed": false,
    "pycharm": {
     "name": "#%%\n"
    }
   }
  },
  {
   "cell_type": "code",
   "execution_count": 12,
   "outputs": [
    {
     "data": {
      "text/plain": "      course_id                                       course_title  \\\n2490    1146014                     Learn JavaScript for beginners   \n2886     241590  Make a professional website - 30 Day Guarantee...   \n\n                                                    url  is_paid  price  \\\n2490     https://www.udemy.com/learn-javascript-course/     True    200   \n2886  https://www.udemy.com/make-your-own-business-w...     True     20   \n\n      num_subscribers  num_reviews  num_lectures           level  \\\n2490            15276          167            19  Beginner Level   \n2886            11167           34            13      All Levels   \n\n      content_duration   published_timestamp          subject  \n2490               1.5  2017-03-16T20:57:12Z  Web Development  \n2886               2.0  2014-06-23T16:03:41Z  Web Development  ",
      "text/html": "<div>\n<style scoped>\n    .dataframe tbody tr th:only-of-type {\n        vertical-align: middle;\n    }\n\n    .dataframe tbody tr th {\n        vertical-align: top;\n    }\n\n    .dataframe thead th {\n        text-align: right;\n    }\n</style>\n<table border=\"1\" class=\"dataframe\">\n  <thead>\n    <tr style=\"text-align: right;\">\n      <th></th>\n      <th>course_id</th>\n      <th>course_title</th>\n      <th>url</th>\n      <th>is_paid</th>\n      <th>price</th>\n      <th>num_subscribers</th>\n      <th>num_reviews</th>\n      <th>num_lectures</th>\n      <th>level</th>\n      <th>content_duration</th>\n      <th>published_timestamp</th>\n      <th>subject</th>\n    </tr>\n  </thead>\n  <tbody>\n    <tr>\n      <th>2490</th>\n      <td>1146014</td>\n      <td>Learn JavaScript for beginners</td>\n      <td>https://www.udemy.com/learn-javascript-course/</td>\n      <td>True</td>\n      <td>200</td>\n      <td>15276</td>\n      <td>167</td>\n      <td>19</td>\n      <td>Beginner Level</td>\n      <td>1.5</td>\n      <td>2017-03-16T20:57:12Z</td>\n      <td>Web Development</td>\n    </tr>\n    <tr>\n      <th>2886</th>\n      <td>241590</td>\n      <td>Make a professional website - 30 Day Guarantee...</td>\n      <td>https://www.udemy.com/make-your-own-business-w...</td>\n      <td>True</td>\n      <td>20</td>\n      <td>11167</td>\n      <td>34</td>\n      <td>13</td>\n      <td>All Levels</td>\n      <td>2.0</td>\n      <td>2014-06-23T16:03:41Z</td>\n      <td>Web Development</td>\n    </tr>\n  </tbody>\n</table>\n</div>"
     },
     "execution_count": 12,
     "metadata": {},
     "output_type": "execute_result"
    }
   ],
   "source": [
    "df2.head(2)"
   ],
   "metadata": {
    "collapsed": false,
    "pycharm": {
     "name": "#%%\n"
    }
   }
  },
  {
   "cell_type": "markdown",
   "source": [
    "> ## Exploring Attribute Combinations"
   ],
   "metadata": {
    "collapsed": false
   }
  },
  {
   "cell_type": "code",
   "execution_count": 13,
   "outputs": [],
   "source": [
    "# method creates a correlations matrix\n",
    "corr_matrix = df2.corr()"
   ],
   "metadata": {
    "collapsed": false,
    "pycharm": {
     "name": "#%%\n"
    }
   }
  },
  {
   "cell_type": "code",
   "execution_count": 14,
   "outputs": [
    {
     "data": {
      "text/plain": "num_subscribers     1.000000\nnum_reviews         0.641087\nnum_lectures        0.164072\ncontent_duration    0.161800\nprice               0.046734\ncourse_id          -0.168235\nis_paid            -0.270822\nName: num_subscribers, dtype: float64"
     },
     "execution_count": 14,
     "metadata": {},
     "output_type": "execute_result"
    }
   ],
   "source": [
    "# looking at attributes correlation with num_subscribers feature\n",
    "corr_matrix[\"num_subscribers\"].sort_values(ascending=False)"
   ],
   "metadata": {
    "collapsed": false,
    "pycharm": {
     "name": "#%%\n"
    }
   }
  },
  {
   "cell_type": "code",
   "execution_count": 14,
   "outputs": [],
   "source": [],
   "metadata": {
    "collapsed": false,
    "pycharm": {
     "name": "#%%\n"
    }
   }
  }
 ],
 "metadata": {
  "kernelspec": {
   "display_name": "PyCharm (1SA-Final-Project)",
   "language": "python",
   "name": "pycharm-6b1cb0de"
  },
  "language_info": {
   "codemirror_mode": {
    "name": "ipython",
    "version": 2
   },
   "file_extension": ".py",
   "mimetype": "text/x-python",
   "name": "python",
   "nbconvert_exporter": "python",
   "pygments_lexer": "ipython2",
   "version": "2.7.6"
  }
 },
 "nbformat": 4,
 "nbformat_minor": 0
}