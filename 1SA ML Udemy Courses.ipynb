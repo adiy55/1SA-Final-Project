{
 "cells": [
  {
   "cell_type": "code",
   "execution_count": null,
   "outputs": [],
   "source": [
    "# common imports\n",
    "import numpy as np\n",
    "import pandas as pd\n",
    "import seaborn as sns\n",
    "import matplotlib.pyplot as plt\n",
    "%matplotlib inline\n",
    "\n",
    "# pandas imports\n",
    "from pandas.plotting import scatter_matrix\n",
    "\n",
    "from sklearn.model_selection import train_test_split\n",
    "from sklearn.preprocessing import OrdinalEncoder\n",
    "from sklearn.preprocessing import OneHotEncoder\n",
    "from sklearn.pipeline import Pipeline\n",
    "from sklearn.compose import ColumnTransformer\n",
    "from sklearn.preprocessing import MinMaxScaler\n",
    "\n",
    "# display setup\n",
    "pd.set_option(\"display.max_columns\", None) # the None parameter displays unlimited columns\n",
    "sns.set(style=\"whitegrid\") # for plots"
   ],
   "metadata": {
    "collapsed": false,
    "pycharm": {
     "name": "#%%\n"
    }
   }
  },
  {
   "cell_type": "markdown",
   "source": [
    "## 1. Getting the Data"
   ],
   "metadata": {
    "collapsed": false
   }
  },
  {
   "cell_type": "code",
   "execution_count": null,
   "outputs": [],
   "source": [
    "# read the csv file\n",
    "df = pd.read_csv(\"udemy_courses.csv\")"
   ],
   "metadata": {
    "collapsed": false,
    "pycharm": {
     "name": "#%%\n"
    }
   }
  },
  {
   "cell_type": "code",
   "execution_count": null,
   "outputs": [],
   "source": [
    "# display the first 5 rows for a quick look\n",
    "df.head()"
   ],
   "metadata": {
    "collapsed": false,
    "pycharm": {
     "name": "#%%\n"
    }
   }
  },
  {
   "cell_type": "code",
   "execution_count": null,
   "outputs": [],
   "source": [
    "# DataFrame shape (rows, columns)\n",
    "# understand the amount of data we are working with\n",
    "df.shape"
   ],
   "metadata": {
    "collapsed": false,
    "pycharm": {
     "name": "#%%\n"
    }
   }
  },
  {
   "cell_type": "code",
   "execution_count": null,
   "outputs": [],
   "source": [
    "# description of data\n",
    "df.info()"
   ],
   "metadata": {
    "collapsed": false,
    "pycharm": {
     "name": "#%%\n"
    }
   }
  },
  {
   "cell_type": "code",
   "execution_count": null,
   "outputs": [],
   "source": [
    "# check if there are null values\n",
    "df.isna().sum()"
   ],
   "metadata": {
    "collapsed": false,
    "pycharm": {
     "name": "#%%\n"
    }
   }
  },
  {
   "cell_type": "code",
   "execution_count": null,
   "outputs": [],
   "source": [
    "# summary of the numerical attributes\n",
    "df.describe()"
   ],
   "metadata": {
    "collapsed": false,
    "pycharm": {
     "name": "#%%\n"
    }
   }
  },
  {
   "cell_type": "markdown",
   "source": [
    "> As shown above, there are no missing values which is excellent!\n",
    ">\n",
    "> *It is vital to understand the features we are working with.*\n",
    "> ### Features in the DataFrame:\n",
    ">> 1. course_id: Course identification number\n",
    ">> 2. course_title: Title of course\n",
    ">> 3. url: Course URL\n",
    ">> 4. is_paid: True if the course costs money, False if the course is free\n",
    ">> 5. price: Price of course\n",
    ">> 6. num_subscribers: Number of subscribers for the course\n",
    ">> 7. num_lectures: Number of lectures in the course\n",
    ">> 8. level: Difficulty level of the course\n",
    ">> 9. content_duration: Duration of all course materials\n",
    ">> 10. published_timestamp: Course publication date\n",
    ">> 11. subject: Subject of course"
   ],
   "metadata": {
    "collapsed": false
   }
  },
  {
   "cell_type": "code",
   "execution_count": null,
   "outputs": [],
   "source": [
    "# a histogram plot for each numerical attribute\n",
    "df.drop(\"is_paid\", axis=1).hist(bins=30, figsize=(20,15))\n",
    "# plt.tight_layout()\n",
    "plt.show()"
   ],
   "metadata": {
    "collapsed": false,
    "pycharm": {
     "name": "#%%\n"
    }
   }
  },
  {
   "cell_type": "markdown",
   "source": [
    "> Initial observations from the histograms:\n",
    ">> 1. Most course durations are between 0-5 hours.\n",
    ">> 2. There are usually around 1-50 lectures per course.\n",
    ">> 3. Courses tend to have few reviews. There are probably a handful of courses\n",
    ">> with a large amount of reviews since the X axis goes up to 25000 while over 3000\n",
    ">> instances are represented in the first bin.\n",
    ">> 4. The majority of courses are in the same range of subscribers. The instances farther up\n",
    ">> the scale were probably more successful or perhaps courses on a trending topic.\n",
    ">> 5. Assuming the prices are in USD, the range is between 0-250 dollars.\n",
    ">> The plot shows the most common price roughly $25.\n",
    ">>\n",
    ">> It would probably be a good idea to look further into some of these values.\n",
    ">> For instance, if the content duration or number of lectures is listed as 0."
   ],
   "metadata": {
    "collapsed": false
   }
  },
  {
   "cell_type": "markdown",
   "source": [
    "> ### Objective:\n",
    "> #### Predicting the number of subscribers for a course.\n",
    ">> ##### Chosen Feature:\n",
    ">> *num_subscribers column*\n",
    ">>> The column represents how many people have subscribed for each individual course.\n",
    ">>> ##### Motive:\n",
    ">>> Predicting the number of people interested in a course. The more subscribers, the\n",
    ">>> more popular the course."
   ],
   "metadata": {
    "collapsed": false
   }
  },
  {
   "cell_type": "markdown",
   "source": [
    "> #### Splitting the Data:\n",
    ">> Before further analysis let's split the data into a training set and a testing set.\n",
    ">> This will ensure avoidance of bias that could occur from learning the data as a whole."
   ],
   "metadata": {
    "collapsed": false
   }
  },
  {
   "cell_type": "code",
   "execution_count": null,
   "outputs": [],
   "source": [
    "# use sklearn train_test_split function to split the data\n",
    "# the random state parameter ensures that data will be shuffled and split the same way in each run\n",
    "train_set, test_set = train_test_split(df, test_size=0.20, random_state=42)"
   ],
   "metadata": {
    "collapsed": false,
    "pycharm": {
     "name": "#%%\n"
    }
   }
  },
  {
   "cell_type": "code",
   "execution_count": null,
   "outputs": [],
   "source": [
    "print(\"Number of instances in training set: \", len(train_set))\n",
    "print(\"Number of instances in testing set: \", len(test_set))"
   ],
   "metadata": {
    "collapsed": false,
    "pycharm": {
     "name": "#%%\n"
    }
   }
  },
  {
   "cell_type": "markdown",
   "source": [
    "## 2. Understanding and Visualizing the Data\n",
    "> ##### *The motivation for this section is to gain more insights*"
   ],
   "metadata": {
    "collapsed": false
   }
  },
  {
   "cell_type": "code",
   "execution_count": null,
   "outputs": [],
   "source": [
    "# deep copy of the training set\n",
    "df2 = train_set.copy()"
   ],
   "metadata": {
    "collapsed": false,
    "pycharm": {
     "name": "#%%\n"
    }
   }
  },
  {
   "cell_type": "code",
   "execution_count": null,
   "outputs": [],
   "source": [
    "df2.head(2)"
   ],
   "metadata": {
    "collapsed": false,
    "pycharm": {
     "name": "#%%\n"
    }
   }
  },
  {
   "cell_type": "markdown",
   "source": [
    "> ## Exploring Attribute Combinations"
   ],
   "metadata": {
    "collapsed": false
   }
  },
  {
   "cell_type": "code",
   "execution_count": null,
   "outputs": [],
   "source": [
    "# method creates a correlations matrix\n",
    "corr_matrix = df2.corr()"
   ],
   "metadata": {
    "collapsed": false,
    "pycharm": {
     "name": "#%%\n"
    }
   }
  },
  {
   "cell_type": "code",
   "execution_count": null,
   "outputs": [],
   "source": [
    "# looking at attributes correlation with num_subscribers feature\n",
    "corr_matrix[\"num_subscribers\"].sort_values(ascending=False)"
   ],
   "metadata": {
    "collapsed": false,
    "pycharm": {
     "name": "#%%\n"
    }
   }
  },
  {
   "cell_type": "code",
   "execution_count": null,
   "outputs": [],
   "source": [
    "# a histogram plot for attributes with a high correlation\n",
    "\n",
    "attributes = [\"num_subscribers\", \"num_reviews\", \"num_lectures\",\n",
    "              \"content_duration\", \"course_id\"]\n",
    "\n",
    "scatter_matrix(df2[attributes], figsize=(12,8))\n",
    "plt.tight_layout()\n",
    "plt.show()"
   ],
   "metadata": {
    "collapsed": false,
    "pycharm": {
     "name": "#%%\n"
    }
   }
  },
  {
   "cell_type": "code",
   "execution_count": null,
   "outputs": [],
   "source": [
    "# scatter plot of the strongest correlation in the corr matrix\n",
    "# the alpha is set to show the distribution more clearly\n",
    "df2.plot(kind=\"scatter\", x=\"num_reviews\", y=\"num_subscribers\", alpha=0.1,\n",
    "         color='b', figsize=(10,5))\n",
    "plt.title(\"Reviews and Subscribers Correlation\", size=20)\n",
    "plt.xlabel(\"num_reviews\", size=15)\n",
    "plt.ylabel(\"num_subscribers\", size=15)\n",
    "plt.tight_layout()\n",
    "plt.show()"
   ],
   "metadata": {
    "collapsed": false,
    "pycharm": {
     "name": "#%%\n"
    }
   }
  },
  {
   "cell_type": "markdown",
   "source": [
    "> #### Correlations with num_subscribers Attribute- Overview:\n",
    "> The strongest positive correlations (0.1 or more) are:\n",
    "> * num_reviews\n",
    "> * num_lectures\n",
    "> * content_duration\n",
    ">\n",
    "> The strongest negative correlations (-0.1 or less) are:\n",
    "> * course_id\n",
    "> * is_paid"
   ],
   "metadata": {
    "collapsed": false
   }
  },
  {
   "cell_type": "markdown",
   "source": [
    "> ### Examining Course ID Feature"
   ],
   "metadata": {
    "collapsed": false
   }
  },
  {
   "cell_type": "code",
   "execution_count": null,
   "outputs": [],
   "source": [
    "print(\"Number of unique course IDs:\", df2[\"course_id\"].nunique())\n",
    "print(\"Length of DataFrame:\", len(df2))"
   ],
   "metadata": {
    "collapsed": false,
    "pycharm": {
     "name": "#%%\n"
    }
   }
  },
  {
   "cell_type": "markdown",
   "source": [
    "> Since there is a unique value for almost every course ID, the correlation probably\n",
    "> coincidental."
   ],
   "metadata": {
    "collapsed": false
   }
  },
  {
   "cell_type": "code",
   "execution_count": null,
   "outputs": [],
   "source": [
    "# show duplicated listings\n",
    "df2[df2.duplicated(\"course_id\")]"
   ],
   "metadata": {
    "collapsed": false,
    "pycharm": {
     "name": "#%%\n"
    }
   }
  },
  {
   "cell_type": "code",
   "execution_count": null,
   "outputs": [],
   "source": [
    "# remove duplicated listings\n",
    "df2.drop_duplicates(inplace=True)"
   ],
   "metadata": {
    "collapsed": false,
    "pycharm": {
     "name": "#%%\n"
    }
   }
  },
  {
   "cell_type": "code",
   "execution_count": null,
   "outputs": [],
   "source": [
    "# examine changes\n",
    "df2.shape"
   ],
   "metadata": {
    "collapsed": false,
    "pycharm": {
     "name": "#%%\n"
    }
   }
  },
  {
   "cell_type": "markdown",
   "source": [
    "> ### Overview:\n",
    "> * The course ID is unique for each course.\n",
    "> * This column should be removed when training a model in order to generalize better."
   ],
   "metadata": {
    "collapsed": false
   }
  },
  {
   "cell_type": "markdown",
   "source": [
    "> ### Assessing Price Features"
   ],
   "metadata": {
    "collapsed": false
   }
  },
  {
   "cell_type": "code",
   "execution_count": null,
   "outputs": [],
   "source": [
    "# evaluate current values in column\n",
    "df2[\"is_paid\"].head(10)"
   ],
   "metadata": {
    "collapsed": false,
    "pycharm": {
     "name": "#%%\n"
    }
   }
  },
  {
   "cell_type": "code",
   "execution_count": null,
   "outputs": [],
   "source": [
    "# use encoder to convert \"is_paid\" column to binary outcome\n",
    "ordinal_encoder = OrdinalEncoder(dtype=int)\n",
    "df2[\"is_paid\"] = ordinal_encoder.fit_transform(df2[[\"is_paid\"]])"
   ],
   "metadata": {
    "collapsed": false,
    "pycharm": {
     "name": "#%%\n"
    }
   }
  },
  {
   "cell_type": "code",
   "execution_count": null,
   "outputs": [],
   "source": [
    "# evaluate changes\n",
    "df2[\"is_paid\"].head(10)"
   ],
   "metadata": {
    "collapsed": false,
    "pycharm": {
     "name": "#%%\n"
    }
   }
  },
  {
   "cell_type": "code",
   "execution_count": null,
   "outputs": [],
   "source": [
    "# 0 is False, 1 is True\n",
    "ordinal_encoder.categories_"
   ],
   "metadata": {
    "collapsed": false,
    "pycharm": {
     "name": "#%%\n"
    }
   }
  },
  {
   "cell_type": "code",
   "execution_count": null,
   "outputs": [],
   "source": [
    "# count number of instances for each outcome\n",
    "df2[\"is_paid\"].value_counts()"
   ],
   "metadata": {
    "collapsed": false,
    "pycharm": {
     "name": "#%%\n"
    }
   }
  },
  {
   "cell_type": "code",
   "execution_count": null,
   "outputs": [],
   "source": [
    "# use groupby for price attribute\n",
    "price_values = df2.groupby(\"price\")"
   ],
   "metadata": {
    "collapsed": false,
    "pycharm": {
     "name": "#%%\n"
    }
   }
  },
  {
   "cell_type": "code",
   "execution_count": null,
   "outputs": [],
   "source": [
    "# check if number of free courses matches when the price is 0\n",
    "price_values_0 = price_values.get_group(0)\n",
    "price_values_0.shape"
   ],
   "metadata": {
    "collapsed": false,
    "pycharm": {
     "name": "#%%\n"
    }
   }
  },
  {
   "cell_type": "code",
   "execution_count": null,
   "outputs": [],
   "source": [
    "# plot of free and paid courses\n",
    "plt.figure(figsize=(10,5))\n",
    "sns.countplot(x=df2[\"is_paid\"])\n",
    "plt.title(\"Free and Paid Courses\", size=20)\n",
    "plt.xlabel(\"is_paid\", size = 15)\n",
    "plt.ylabel(\"count\", size=15)\n",
    "plt.tight_layout()\n",
    "plt.show()"
   ],
   "metadata": {
    "collapsed": false,
    "pycharm": {
     "name": "#%%\n"
    }
   }
  },
  {
   "cell_type": "code",
   "execution_count": null,
   "outputs": [],
   "source": [
    "# course price values sorted by prices\n",
    "df2[\"price\"].value_counts().sort_index()"
   ],
   "metadata": {
    "collapsed": false,
    "pycharm": {
     "name": "#%%\n"
    }
   }
  },
  {
   "cell_type": "code",
   "execution_count": null,
   "outputs": [],
   "source": [
    "# top ten course price values sorted by value counts\n",
    "prices_top10 = df2[\"price\"].value_counts().sort_values(ascending=False).head(10)"
   ],
   "metadata": {
    "collapsed": false,
    "pycharm": {
     "name": "#%%\n"
    }
   }
  },
  {
   "cell_type": "code",
   "execution_count": null,
   "outputs": [],
   "source": [
    "# calculate percentage of instances per price in data\n",
    "prices_percent_in_data = []\n",
    "num_subscribed = []\n",
    "\n",
    "for i in range(len(prices_top10.index)):\n",
    "    prices_percent_in_data.append(round((prices_top10.values[i]/len(df2))*100,2))\n",
    "    num_subscribed.append(price_values.get_group(prices_top10.index[i])[\"num_subscribers\"].sum())"
   ],
   "metadata": {
    "collapsed": false,
    "pycharm": {
     "name": "#%%\n"
    }
   }
  },
  {
   "cell_type": "code",
   "execution_count": null,
   "outputs": [],
   "source": [
    "# create a DataFrame with the results\n",
    "prices_top10_dict = {\"price\": prices_top10.index, \"number_of_instances\": prices_top10.values,\n",
    "                     \"% of data\": prices_percent_in_data, \"num_subscribers\": num_subscribed}\n",
    "prices_top10_df = pd.DataFrame(prices_top10_dict, index=range(1,11))\n",
    "prices_top10_df"
   ],
   "metadata": {
    "collapsed": false,
    "pycharm": {
     "name": "#%%\n"
    }
   }
  },
  {
   "cell_type": "code",
   "execution_count": null,
   "outputs": [],
   "source": [
    "# plot of top 10 common prices by amount of subscribers\n",
    "plt.figure(figsize=(10,5))\n",
    "sns.barplot(x=prices_top10_df[\"price\"], y=prices_top10_df[\"num_subscribers\"])\n",
    "plt.xlabel(\"price\", size=15)\n",
    "plt.ylabel(\"num_subscribers\\n(millions)\", size=15)\n",
    "plt.title(\"Top 10 Common Prices by Subscribers\", size=20)\n",
    "plt.tight_layout()\n",
    "plt.show()"
   ],
   "metadata": {
    "collapsed": false,
    "pycharm": {
     "name": "#%%\n"
    }
   }
  },
  {
   "cell_type": "code",
   "execution_count": null,
   "outputs": [],
   "source": [
    "# plot of content duration by free or paid course\n",
    "plt.figure(figsize=(10,5))\n",
    "sns.scatterplot(x=df2[\"content_duration\"], y=df2[\"is_paid\"], alpha=0.1)\n",
    "plt.title(\"Content Duration by Type of Course Payment\", size=20)\n",
    "plt.xlabel(\"content_duration\", size=15)\n",
    "plt.ylabel(\"is_paid\", size=15)\n",
    "plt.tight_layout()\n",
    "plt.show()"
   ],
   "metadata": {
    "collapsed": false,
    "pycharm": {
     "name": "#%%\n"
    }
   }
  },
  {
   "cell_type": "code",
   "execution_count": null,
   "outputs": [],
   "source": [
    "plt.figure(figsize=(10,5))\n",
    "sns.barplot(x=df2[\"subject\"], y=df2[\"num_subscribers\"], hue=df2[\"level\"])\n"
   ],
   "metadata": {
    "collapsed": false,
    "pycharm": {
     "name": "#%%\n"
    }
   }
  },
  {
   "cell_type": "markdown",
   "source": [
    "> ### Observations:\n",
    "> * As speculated earlier in the initial observations,$20 is the most common price for a course.\n",
    "> * The number of listings with the price $0 matches the number of instances that were\n",
    "> labeled \"False\" in the is_paid column.\n",
    "> * The prices listed tend to increase by 5 dollars until they reach the maximum price\n",
    "> which is $200.\n",
    "> * Among the 10 most common prices in the data, most are subscribed to the free courses.\n",
    "> * Content duration is longer for paid courses."
   ],
   "metadata": {
    "collapsed": false
   }
  },
  {
   "cell_type": "markdown",
   "source": [
    "> ### Researching Level and Subject Feature"
   ],
   "metadata": {
    "collapsed": false
   }
  },
  {
   "cell_type": "code",
   "execution_count": null,
   "outputs": [],
   "source": [
    "# count number of instances for each level\n",
    "level_values = df2[\"level\"].value_counts()\n",
    "level_values"
   ],
   "metadata": {
    "collapsed": false,
    "pycharm": {
     "name": "#%%\n"
    }
   }
  },
  {
   "cell_type": "code",
   "execution_count": null,
   "outputs": [],
   "source": [
    "# count number of instances for each subject\n",
    "subject_values = df2[\"subject\"].value_counts()\n",
    "subject_values"
   ],
   "metadata": {
    "collapsed": false,
    "pycharm": {
     "name": "#%%\n"
    }
   }
  },
  {
   "cell_type": "code",
   "execution_count": null,
   "outputs": [],
   "source": [
    "# pie plot of course levels and subjects in data\n",
    "fig, ax = plt.subplots(1,2, figsize=(10,5))\n",
    "ax[0].pie(level_values, startangle=180, labels=level_values.index, autopct=\"%1.1f%%\")\n",
    "ax[0].set_title(\"Course Levels\", size=20)\n",
    "ax[1].pie(subject_values, startangle=180, labels=subject_values.index, autopct=\"%1.1f%%\")\n",
    "ax[1].set_title(\"Course Subjects\", size=20)\n",
    "plt.tight_layout()\n",
    "plt.show()"
   ],
   "metadata": {
    "collapsed": false,
    "pycharm": {
     "name": "#%%\n"
    }
   }
  },
  {
   "cell_type": "code",
   "execution_count": null,
   "outputs": [],
   "source": [
    "# scatter plot of price by course level\n",
    "plt.figure(figsize=(10,5))\n",
    "sns.scatterplot(y=df2[\"level\"], x=df2[\"price\"], alpha=0.1)\n",
    "plt.title(\"Price by Course Level\", size=20)\n",
    "plt.xlabel(\"price\", size=15)\n",
    "plt.ylabel(\"level\", size=15)\n",
    "plt.tight_layout()\n",
    "plt.show()"
   ],
   "metadata": {
    "collapsed": false,
    "pycharm": {
     "name": "#%%\n"
    }
   }
  },
  {
   "cell_type": "code",
   "execution_count": null,
   "outputs": [],
   "source": [
    "# plot subject by number of subscribers and level\n",
    "# the black bars represent the error\n",
    "plt.figure(figsize=(10,5))\n",
    "sns.barplot(x=df2[\"subject\"], y=df2[\"num_subscribers\"], hue=df2[\"level\"])\n",
    "plt.title(\"Subject by Number of Subscribers and Level\", size=20)\n",
    "plt.xlabel(\"subject\", size=15)\n",
    "plt.ylabel(\"num_subscribers\\n(millions)\", size=15)\n",
    "plt.tight_layout()\n",
    "plt.show()"
   ],
   "metadata": {
    "collapsed": false,
    "pycharm": {
     "name": "#%%\n"
    }
   }
  },
  {
   "cell_type": "markdown",
   "source": [
    "> ### Observations:\n",
    "> * All Levels is the most common level, representing over 50%.\n",
    "> * Web Development is the most common subject, and Business Finance is second with\n",
    "> approximately 1% difference respectively.\n",
    "> * Price variations according to the level of the course also show that Expert is\n",
    "> the least common level in the data. It is also the only level that does not\n",
    "> provide free courses. The other levels are dispersed more frequently\n",
    "> throughout the line.\n",
    "> * Web Development courses are significantly higher in subscribers than the other subjects.\n",
    "> Since Business Finance falls shortly behind in content, it is likely that people are more\n",
    "> interested in studying Web Development courses."
   ],
   "metadata": {
    "collapsed": false
   }
  },
  {
   "cell_type": "markdown",
   "source": [
    "> ### Analyzing Additional Columns"
   ],
   "metadata": {
    "collapsed": false
   }
  },
  {
   "cell_type": "code",
   "execution_count": null,
   "outputs": [],
   "source": [
    "# examine current shape\n",
    "df2.shape"
   ],
   "metadata": {
    "collapsed": false,
    "pycharm": {
     "name": "#%%\n"
    }
   }
  },
  {
   "cell_type": "code",
   "execution_count": null,
   "outputs": [],
   "source": [
    "# every course has a unique URL\n",
    "df2[\"url\"].nunique()"
   ],
   "metadata": {
    "collapsed": false,
    "pycharm": {
     "name": "#%%\n"
    }
   }
  },
  {
   "cell_type": "code",
   "execution_count": null,
   "outputs": [],
   "source": [
    "# some courses have an identical title\n",
    "df2[\"course_title\"].nunique()"
   ],
   "metadata": {
    "collapsed": false,
    "pycharm": {
     "name": "#%%\n"
    }
   }
  },
  {
   "cell_type": "code",
   "execution_count": null,
   "outputs": [],
   "source": [
    "# find duplicated instances\n",
    "# false marks all duplicates as true\n",
    "title_df = df2[df2.duplicated(\"course_title\", keep=False)].copy()\n",
    "# show duplicated titles\n",
    "title_df[\"course_title\"].unique()"
   ],
   "metadata": {
    "collapsed": false,
    "pycharm": {
     "name": "#%%\n"
    }
   }
  },
  {
   "cell_type": "code",
   "execution_count": null,
   "outputs": [],
   "source": [
    "# groupy course title\n",
    "title = title_df.groupby(\"course_title\")"
   ],
   "metadata": {
    "collapsed": false,
    "pycharm": {
     "name": "#%%\n"
    }
   }
  },
  {
   "cell_type": "code",
   "execution_count": null,
   "outputs": [],
   "source": [
    "# examining one of the duplicated courses\n",
    "# the courses have the same name and different values for some features\n",
    "title.get_group(\"Acoustic Blues Guitar Lessons\")"
   ],
   "metadata": {
    "collapsed": false,
    "pycharm": {
     "name": "#%%\n"
    }
   }
  },
  {
   "cell_type": "code",
   "execution_count": null,
   "outputs": [],
   "source": [],
   "metadata": {
    "collapsed": false,
    "pycharm": {
     "name": "#%%\n"
    }
   }
  }
 ],
 "metadata": {
  "kernelspec": {
   "display_name": "PyCharm (1SA-Final-Project)",
   "language": "python",
   "name": "pycharm-6b1cb0de"
  },
  "language_info": {
   "codemirror_mode": {
    "name": "ipython",
    "version": 2
   },
   "file_extension": ".py",
   "mimetype": "text/x-python",
   "name": "python",
   "nbconvert_exporter": "python",
   "pygments_lexer": "ipython2",
   "version": "2.7.6"
  }
 },
 "nbformat": 4,
 "nbformat_minor": 0
}