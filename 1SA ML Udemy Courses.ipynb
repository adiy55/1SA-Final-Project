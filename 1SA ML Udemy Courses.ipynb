{
 "cells": [
  {
   "cell_type": "code",
   "execution_count": null,
   "outputs": [],
   "source": [
    "# common imports\n",
    "import numpy as np\n",
    "import pandas as pd\n",
    "import seaborn as sns\n",
    "import matplotlib.pyplot as plt\n",
    "%matplotlib inline\n",
    "\n",
    "# pandas imports\n",
    "from pandas.plotting import scatter_matrix\n",
    "\n",
    "from sklearn.model_selection import train_test_split\n",
    "\n",
    "# display setup\n",
    "pd.set_option(\"display.max_columns\", None) # the None parameter displays unlimited columns\n",
    "sns.set(style=\"whitegrid\") # for plots"
   ],
   "metadata": {
    "collapsed": false,
    "pycharm": {
     "name": "#%%\n"
    }
   }
  },
  {
   "cell_type": "markdown",
   "source": [
    "## 1. Getting the Data"
   ],
   "metadata": {
    "collapsed": false
   }
  },
  {
   "cell_type": "code",
   "execution_count": null,
   "outputs": [],
   "source": [
    "# read the csv file\n",
    "df = pd.read_csv(\"udemy_courses.csv\")"
   ],
   "metadata": {
    "collapsed": false,
    "pycharm": {
     "name": "#%%\n"
    }
   }
  },
  {
   "cell_type": "code",
   "execution_count": null,
   "outputs": [],
   "source": [
    "# display the first 5 rows for a quick look\n",
    "df.head()"
   ],
   "metadata": {
    "collapsed": false,
    "pycharm": {
     "name": "#%%\n"
    }
   }
  },
  {
   "cell_type": "code",
   "execution_count": null,
   "outputs": [],
   "source": [
    "# DataFrame shape (rows, columns)\n",
    "# understand the amount of data we are working with\n",
    "df.shape"
   ],
   "metadata": {
    "collapsed": false,
    "pycharm": {
     "name": "#%%\n"
    }
   }
  },
  {
   "cell_type": "code",
   "execution_count": null,
   "outputs": [],
   "source": [
    "# description of data\n",
    "df.info()"
   ],
   "metadata": {
    "collapsed": false,
    "pycharm": {
     "name": "#%%\n"
    }
   }
  },
  {
   "cell_type": "code",
   "execution_count": null,
   "outputs": [],
   "source": [
    "# check if there are null values\n",
    "df.isna().sum()"
   ],
   "metadata": {
    "collapsed": false,
    "pycharm": {
     "name": "#%%\n"
    }
   }
  },
  {
   "cell_type": "code",
   "execution_count": null,
   "outputs": [],
   "source": [
    "# summary of the numerical attributes\n",
    "df.describe()"
   ],
   "metadata": {
    "collapsed": false,
    "pycharm": {
     "name": "#%%\n"
    }
   }
  },
  {
   "cell_type": "markdown",
   "source": [
    "> As shown above, there are no missing values which is excellent!\n",
    ">\n",
    "> *It is vital to understand the features we are working with.*\n",
    "> ### Features in the DataFrame:\n",
    ">> 1. course_id: Course identification number\n",
    ">> 2. course_title: Title of course\n",
    ">> 3. url: Course URL\n",
    ">> 4. is_paid: True if the course costs money, False if the course is free\n",
    ">> 5. price: Price of course\n",
    ">> 6. num_subscribers: Number of subscribers for the course\n",
    ">> 7. num_lectures: Number of lectures in the course\n",
    ">> 8. level: Difficulty level of the course\n",
    ">> 9. content_duration: Duration of all course materials\n",
    ">> 10. published_timestamp: Course publication date\n",
    ">> 11. subject: Subject of course"
   ],
   "metadata": {
    "collapsed": false
   }
  },
  {
   "cell_type": "code",
   "execution_count": null,
   "outputs": [],
   "source": [
    "# a histogram plot for each numerical attribute\n",
    "df.drop(\"is_paid\", axis=1).hist(bins=30, figsize=(20,15))\n",
    "# plt.tight_layout()\n",
    "plt.show()"
   ],
   "metadata": {
    "collapsed": false,
    "pycharm": {
     "name": "#%%\n"
    }
   }
  },
  {
   "cell_type": "markdown",
   "source": [
    "> Initial observations from the histograms:\n",
    ">> 1. Most course durations are between 0-5 hours.\n",
    ">> 2. There are usually around 1-50 lectures per course.\n",
    ">> 3. Courses tend to have few reviews. There are probably a handful of courses\n",
    ">> with a large amount of reviews since the X axis goes up to 25000 while over 3000\n",
    ">> instances are represented in the first bin.\n",
    ">> 4. The majority of courses are in the same range of subscribers. The instances farther up\n",
    ">> the scale were probably more successful or perhaps courses on a trending topic.\n",
    ">> 5. Assuming the prices are in USD, the range is between 0-250 dollars.\n",
    ">> The plot shows the most common price roughly $25.\n",
    ">>\n",
    ">> It would probably be a good idea to look further into some of these values.\n",
    ">> For instance, if the content duration or number of lectures is listed as 0."
   ],
   "metadata": {
    "collapsed": false
   }
  },
  {
   "cell_type": "markdown",
   "source": [
    "> ### Objective:\n",
    "> #### Predicting the number of subscribers for a course.\n",
    ">> ##### Chosen Feature:\n",
    ">> *num_subscribers column*\n",
    ">>> The column represents how many people have subscribed for each individual course.\n",
    ">>> ##### Motive:\n",
    ">>> Predicting the number of people interested in a course. The more subscribers, the\n",
    ">>> more popular the course."
   ],
   "metadata": {
    "collapsed": false
   }
  },
  {
   "cell_type": "markdown",
   "source": [
    "> #### Splitting the Data:\n",
    ">> Before further analysis let's split the data into a training set and a testing set.\n",
    ">> This will ensure avoidance of bias that could occur from learning the data as a whole."
   ],
   "metadata": {
    "collapsed": false
   }
  },
  {
   "cell_type": "code",
   "execution_count": null,
   "outputs": [],
   "source": [
    "# use sklearn train_test_split function to split the data\n",
    "# the random state parameter ensures that data will be shuffled and split the same way in each run\n",
    "train_set, test_set = train_test_split(df, test_size=0.20, random_state=42)"
   ],
   "metadata": {
    "collapsed": false,
    "pycharm": {
     "name": "#%%\n"
    }
   }
  },
  {
   "cell_type": "code",
   "execution_count": null,
   "outputs": [],
   "source": [
    "print(\"Number of instances in training set: \", len(train_set))\n",
    "print(\"Number of instances in testing set: \", len(test_set))"
   ],
   "metadata": {
    "collapsed": false,
    "pycharm": {
     "name": "#%%\n"
    }
   }
  },
  {
   "cell_type": "markdown",
   "source": [
    "## 2. Understanding and Visualizing the Data\n",
    "> ##### *The motivation for this section is to gain more insights*"
   ],
   "metadata": {
    "collapsed": false
   }
  },
  {
   "cell_type": "code",
   "execution_count": null,
   "outputs": [],
   "source": [
    "# deep copy of the training set\n",
    "df2 = train_set.copy()"
   ],
   "metadata": {
    "collapsed": false,
    "pycharm": {
     "name": "#%%\n"
    }
   }
  },
  {
   "cell_type": "code",
   "execution_count": null,
   "outputs": [],
   "source": [
    "df2.head(2)"
   ],
   "metadata": {
    "collapsed": false,
    "pycharm": {
     "name": "#%%\n"
    }
   }
  },
  {
   "cell_type": "code",
   "execution_count": null,
   "outputs": [],
   "source": [],
   "metadata": {
    "collapsed": false,
    "pycharm": {
     "name": "#%%\n"
    }
   }
  }
 ],
 "metadata": {
  "kernelspec": {
   "display_name": "PyCharm (1SA-Final-Project)",
   "language": "python",
   "name": "pycharm-6b1cb0de"
  },
  "language_info": {
   "codemirror_mode": {
    "name": "ipython",
    "version": 2
   },
   "file_extension": ".py",
   "mimetype": "text/x-python",
   "name": "python",
   "nbconvert_exporter": "python",
   "pygments_lexer": "ipython2",
   "version": "2.7.6"
  }
 },
 "nbformat": 4,
 "nbformat_minor": 0
}