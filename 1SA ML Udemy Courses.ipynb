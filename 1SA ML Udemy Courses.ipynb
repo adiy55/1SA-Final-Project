{
 "cells": [
  {
   "cell_type": "markdown",
   "source": [
    "<h1 style=\"text-align: center;\">Data Science Project</h1>\n",
    "<h2 style=\"text-align: center;\">Part 3</h2>\n",
    "<h2 style=\"text-align: center;\">EDA of Udemy Courses and ML to Predict Subscribers</h2>"
   ],
   "metadata": {
    "collapsed": false,
    "pycharm": {
     "name": "#%% md\n"
    }
   }
  },
  {
   "cell_type": "code",
   "execution_count": 1,
   "outputs": [],
   "source": [
    "# common imports\n",
    "import numpy as np\n",
    "import pandas as pd\n",
    "import seaborn as sns\n",
    "import matplotlib.pyplot as plt\n",
    "%matplotlib inline\n",
    "\n",
    "# pandas imports\n",
    "from pandas.plotting import scatter_matrix\n",
    "\n",
    "# machine learning imports\n",
    "from sklearn.linear_model import LinearRegression\n",
    "from sklearn.ensemble import RandomForestRegressor\n",
    "from sklearn.model_selection import train_test_split\n",
    "from sklearn.model_selection import cross_val_score\n",
    "from sklearn.model_selection import cross_val_predict\n",
    "from sklearn.model_selection import GridSearchCV\n",
    "from sklearn.dummy import DummyRegressor\n",
    "from sklearn.preprocessing import OrdinalEncoder\n",
    "from sklearn.preprocessing import OneHotEncoder\n",
    "from sklearn.preprocessing import MinMaxScaler\n",
    "from sklearn.pipeline import Pipeline\n",
    "from sklearn.compose import ColumnTransformer\n",
    "from sklearn import metrics\n",
    "\n",
    "# display setup\n",
    "pd.set_option(\"display.max_columns\", None) # the None parameter displays unlimited columns\n",
    "sns.set(style=\"whitegrid\") # for plots"
   ],
   "metadata": {
    "collapsed": false,
    "pycharm": {
     "name": "#%%\n"
    }
   }
  },
  {
   "cell_type": "markdown",
   "source": [
    "## 1. Getting the Data"
   ],
   "metadata": {
    "collapsed": false
   }
  },
  {
   "cell_type": "code",
   "execution_count": 2,
   "outputs": [],
   "source": [
    "# read the csv file\n",
    "df = pd.read_csv(\"udemy_courses.csv\")"
   ],
   "metadata": {
    "collapsed": false,
    "pycharm": {
     "name": "#%%\n"
    }
   }
  },
  {
   "cell_type": "code",
   "execution_count": 3,
   "outputs": [
    {
     "data": {
      "text/plain": "   course_id                                       course_title  \\\n0    1070968                 Ultimate Investment Banking Course   \n1    1113822  Complete GST Course & Certification - Grow You...   \n2    1006314  Financial Modeling for Business Analysts and C...   \n3    1210588  Beginner to Pro - Financial Analysis in Excel ...   \n4    1011058       How To Maximize Your Profits Trading Options   \n\n                                                 url  is_paid  price  \\\n0  https://www.udemy.com/ultimate-investment-bank...     True    200   \n1      https://www.udemy.com/goods-and-services-tax/     True     75   \n2  https://www.udemy.com/financial-modeling-for-b...     True     45   \n3  https://www.udemy.com/complete-excel-finance-c...     True     95   \n4  https://www.udemy.com/how-to-maximize-your-pro...     True    200   \n\n   num_subscribers  num_reviews  num_lectures               level  \\\n0             2147           23            51          All Levels   \n1             2792          923           274          All Levels   \n2             2174           74            51  Intermediate Level   \n3             2451           11            36          All Levels   \n4             1276           45            26  Intermediate Level   \n\n   content_duration   published_timestamp           subject  \n0               1.5  2017-01-18T20:58:58Z  Business Finance  \n1              39.0  2017-03-09T16:34:20Z  Business Finance  \n2               2.5  2016-12-19T19:26:30Z  Business Finance  \n3               3.0  2017-05-30T20:07:24Z  Business Finance  \n4               2.0  2016-12-13T14:57:18Z  Business Finance  ",
      "text/html": "<div>\n<style scoped>\n    .dataframe tbody tr th:only-of-type {\n        vertical-align: middle;\n    }\n\n    .dataframe tbody tr th {\n        vertical-align: top;\n    }\n\n    .dataframe thead th {\n        text-align: right;\n    }\n</style>\n<table border=\"1\" class=\"dataframe\">\n  <thead>\n    <tr style=\"text-align: right;\">\n      <th></th>\n      <th>course_id</th>\n      <th>course_title</th>\n      <th>url</th>\n      <th>is_paid</th>\n      <th>price</th>\n      <th>num_subscribers</th>\n      <th>num_reviews</th>\n      <th>num_lectures</th>\n      <th>level</th>\n      <th>content_duration</th>\n      <th>published_timestamp</th>\n      <th>subject</th>\n    </tr>\n  </thead>\n  <tbody>\n    <tr>\n      <th>0</th>\n      <td>1070968</td>\n      <td>Ultimate Investment Banking Course</td>\n      <td>https://www.udemy.com/ultimate-investment-bank...</td>\n      <td>True</td>\n      <td>200</td>\n      <td>2147</td>\n      <td>23</td>\n      <td>51</td>\n      <td>All Levels</td>\n      <td>1.5</td>\n      <td>2017-01-18T20:58:58Z</td>\n      <td>Business Finance</td>\n    </tr>\n    <tr>\n      <th>1</th>\n      <td>1113822</td>\n      <td>Complete GST Course &amp; Certification - Grow You...</td>\n      <td>https://www.udemy.com/goods-and-services-tax/</td>\n      <td>True</td>\n      <td>75</td>\n      <td>2792</td>\n      <td>923</td>\n      <td>274</td>\n      <td>All Levels</td>\n      <td>39.0</td>\n      <td>2017-03-09T16:34:20Z</td>\n      <td>Business Finance</td>\n    </tr>\n    <tr>\n      <th>2</th>\n      <td>1006314</td>\n      <td>Financial Modeling for Business Analysts and C...</td>\n      <td>https://www.udemy.com/financial-modeling-for-b...</td>\n      <td>True</td>\n      <td>45</td>\n      <td>2174</td>\n      <td>74</td>\n      <td>51</td>\n      <td>Intermediate Level</td>\n      <td>2.5</td>\n      <td>2016-12-19T19:26:30Z</td>\n      <td>Business Finance</td>\n    </tr>\n    <tr>\n      <th>3</th>\n      <td>1210588</td>\n      <td>Beginner to Pro - Financial Analysis in Excel ...</td>\n      <td>https://www.udemy.com/complete-excel-finance-c...</td>\n      <td>True</td>\n      <td>95</td>\n      <td>2451</td>\n      <td>11</td>\n      <td>36</td>\n      <td>All Levels</td>\n      <td>3.0</td>\n      <td>2017-05-30T20:07:24Z</td>\n      <td>Business Finance</td>\n    </tr>\n    <tr>\n      <th>4</th>\n      <td>1011058</td>\n      <td>How To Maximize Your Profits Trading Options</td>\n      <td>https://www.udemy.com/how-to-maximize-your-pro...</td>\n      <td>True</td>\n      <td>200</td>\n      <td>1276</td>\n      <td>45</td>\n      <td>26</td>\n      <td>Intermediate Level</td>\n      <td>2.0</td>\n      <td>2016-12-13T14:57:18Z</td>\n      <td>Business Finance</td>\n    </tr>\n  </tbody>\n</table>\n</div>"
     },
     "execution_count": 3,
     "metadata": {},
     "output_type": "execute_result"
    }
   ],
   "source": [
    "# display the first 5 rows for a quick look\n",
    "df.head()"
   ],
   "metadata": {
    "collapsed": false,
    "pycharm": {
     "name": "#%%\n"
    }
   }
  },
  {
   "cell_type": "code",
   "execution_count": 4,
   "outputs": [
    {
     "data": {
      "text/plain": "(3678, 12)"
     },
     "execution_count": 4,
     "metadata": {},
     "output_type": "execute_result"
    }
   ],
   "source": [
    "# DataFrame shape (rows, columns)\n",
    "# understand the amount of data we are working with\n",
    "df.shape"
   ],
   "metadata": {
    "collapsed": false,
    "pycharm": {
     "name": "#%%\n"
    }
   }
  },
  {
   "cell_type": "code",
   "execution_count": 5,
   "outputs": [
    {
     "name": "stdout",
     "output_type": "stream",
     "text": [
      "<class 'pandas.core.frame.DataFrame'>\n",
      "RangeIndex: 3678 entries, 0 to 3677\n",
      "Data columns (total 12 columns):\n",
      " #   Column               Non-Null Count  Dtype  \n",
      "---  ------               --------------  -----  \n",
      " 0   course_id            3678 non-null   int64  \n",
      " 1   course_title         3678 non-null   object \n",
      " 2   url                  3678 non-null   object \n",
      " 3   is_paid              3678 non-null   bool   \n",
      " 4   price                3678 non-null   int64  \n",
      " 5   num_subscribers      3678 non-null   int64  \n",
      " 6   num_reviews          3678 non-null   int64  \n",
      " 7   num_lectures         3678 non-null   int64  \n",
      " 8   level                3678 non-null   object \n",
      " 9   content_duration     3678 non-null   float64\n",
      " 10  published_timestamp  3678 non-null   object \n",
      " 11  subject              3678 non-null   object \n",
      "dtypes: bool(1), float64(1), int64(5), object(5)\n",
      "memory usage: 319.8+ KB\n"
     ]
    }
   ],
   "source": [
    "# description of data\n",
    "df.info()"
   ],
   "metadata": {
    "collapsed": false,
    "pycharm": {
     "name": "#%%\n"
    }
   }
  },
  {
   "cell_type": "code",
   "execution_count": 6,
   "outputs": [
    {
     "data": {
      "text/plain": "course_id              0\ncourse_title           0\nurl                    0\nis_paid                0\nprice                  0\nnum_subscribers        0\nnum_reviews            0\nnum_lectures           0\nlevel                  0\ncontent_duration       0\npublished_timestamp    0\nsubject                0\ndtype: int64"
     },
     "execution_count": 6,
     "metadata": {},
     "output_type": "execute_result"
    }
   ],
   "source": [
    "# check if there are null values\n",
    "df.isna().sum()"
   ],
   "metadata": {
    "collapsed": false,
    "pycharm": {
     "name": "#%%\n"
    }
   }
  },
  {
   "cell_type": "code",
   "execution_count": 7,
   "outputs": [
    {
     "data": {
      "text/plain": "          course_id        price  num_subscribers   num_reviews  num_lectures  \\\ncount  3.678000e+03  3678.000000      3678.000000   3678.000000   3678.000000   \nmean   6.759720e+05    66.049483      3197.150625    156.259108     40.108755   \nstd    3.432732e+05    61.005755      9504.117010    935.452044     50.383346   \nmin    8.324000e+03     0.000000         0.000000      0.000000      0.000000   \n25%    4.076925e+05    20.000000       111.000000      4.000000     15.000000   \n50%    6.879170e+05    45.000000       911.500000     18.000000     25.000000   \n75%    9.613555e+05    95.000000      2546.000000     67.000000     45.750000   \nmax    1.282064e+06   200.000000    268923.000000  27445.000000    779.000000   \n\n       content_duration  \ncount       3678.000000  \nmean           4.094517  \nstd            6.053840  \nmin            0.000000  \n25%            1.000000  \n50%            2.000000  \n75%            4.500000  \nmax           78.500000  ",
      "text/html": "<div>\n<style scoped>\n    .dataframe tbody tr th:only-of-type {\n        vertical-align: middle;\n    }\n\n    .dataframe tbody tr th {\n        vertical-align: top;\n    }\n\n    .dataframe thead th {\n        text-align: right;\n    }\n</style>\n<table border=\"1\" class=\"dataframe\">\n  <thead>\n    <tr style=\"text-align: right;\">\n      <th></th>\n      <th>course_id</th>\n      <th>price</th>\n      <th>num_subscribers</th>\n      <th>num_reviews</th>\n      <th>num_lectures</th>\n      <th>content_duration</th>\n    </tr>\n  </thead>\n  <tbody>\n    <tr>\n      <th>count</th>\n      <td>3.678000e+03</td>\n      <td>3678.000000</td>\n      <td>3678.000000</td>\n      <td>3678.000000</td>\n      <td>3678.000000</td>\n      <td>3678.000000</td>\n    </tr>\n    <tr>\n      <th>mean</th>\n      <td>6.759720e+05</td>\n      <td>66.049483</td>\n      <td>3197.150625</td>\n      <td>156.259108</td>\n      <td>40.108755</td>\n      <td>4.094517</td>\n    </tr>\n    <tr>\n      <th>std</th>\n      <td>3.432732e+05</td>\n      <td>61.005755</td>\n      <td>9504.117010</td>\n      <td>935.452044</td>\n      <td>50.383346</td>\n      <td>6.053840</td>\n    </tr>\n    <tr>\n      <th>min</th>\n      <td>8.324000e+03</td>\n      <td>0.000000</td>\n      <td>0.000000</td>\n      <td>0.000000</td>\n      <td>0.000000</td>\n      <td>0.000000</td>\n    </tr>\n    <tr>\n      <th>25%</th>\n      <td>4.076925e+05</td>\n      <td>20.000000</td>\n      <td>111.000000</td>\n      <td>4.000000</td>\n      <td>15.000000</td>\n      <td>1.000000</td>\n    </tr>\n    <tr>\n      <th>50%</th>\n      <td>6.879170e+05</td>\n      <td>45.000000</td>\n      <td>911.500000</td>\n      <td>18.000000</td>\n      <td>25.000000</td>\n      <td>2.000000</td>\n    </tr>\n    <tr>\n      <th>75%</th>\n      <td>9.613555e+05</td>\n      <td>95.000000</td>\n      <td>2546.000000</td>\n      <td>67.000000</td>\n      <td>45.750000</td>\n      <td>4.500000</td>\n    </tr>\n    <tr>\n      <th>max</th>\n      <td>1.282064e+06</td>\n      <td>200.000000</td>\n      <td>268923.000000</td>\n      <td>27445.000000</td>\n      <td>779.000000</td>\n      <td>78.500000</td>\n    </tr>\n  </tbody>\n</table>\n</div>"
     },
     "execution_count": 7,
     "metadata": {},
     "output_type": "execute_result"
    }
   ],
   "source": [
    "# summary of the numerical attributes\n",
    "df.describe()"
   ],
   "metadata": {
    "collapsed": false,
    "pycharm": {
     "name": "#%%\n"
    }
   }
  },
  {
   "cell_type": "markdown",
   "source": [
    "> As shown above, there are no missing values which is excellent!\n",
    ">\n",
    "> ##### *It is vital to understand the features we are working with.*\n",
    "> ### Features in the DataFrame:\n",
    ">> 1. course_id: Course identification number\n",
    ">> 2. course_title: Title of course\n",
    ">> 3. url: Course URL\n",
    ">> 4. is_paid: True if the course costs money, false if the course is free\n",
    ">> 5. price: Price of course\n",
    ">> 6. num_subscribers: Number of subscribers for the course\n",
    ">> 7. num_lectures: Number of lectures in the course\n",
    ">> 8. level: Difficulty level of the course\n",
    ">> 9. content_duration: Duration of all course materials\n",
    ">> 10. published_timestamp: Course publication date\n",
    ">> 11. subject: Subject of course"
   ],
   "metadata": {
    "collapsed": false
   }
  },
  {
   "cell_type": "code",
   "execution_count": 8,
   "outputs": [
    {
     "data": {
      "text/plain": "<Figure size 1440x1080 with 6 Axes>",
      "image/png": "[encoded data removed]"
     },
     "metadata": {},
     "output_type": "display_data"
    }
   ],
   "source": [
    "# a histogram plot for each numerical attribute\n",
    "df.drop(\"is_paid\", axis=1).hist(bins=30, figsize=(20,15))\n",
    "plt.tight_layout()\n",
    "plt.show()"
   ],
   "metadata": {
    "collapsed": false,
    "pycharm": {
     "name": "#%%\n"
    }
   }
  },
  {
   "cell_type": "markdown",
   "source": [
    "> Initial observations from the histograms:\n",
    ">> 1. Most course durations are between 0-5 hours.\n",
    ">> 2. There are usually around 1-50 lectures per course.\n",
    ">> 3. Courses tend to have few reviews. There are probably a handful of courses\n",
    ">> with a large amount of reviews since the X axis goes up to 25000 while over 3000\n",
    ">> instances are represented in the first bin.\n",
    ">> 4. The majority of courses are in the same range of subscribers. The instances farther up\n",
    ">> the scale were probably more successful or perhaps courses on a trending topic.\n",
    ">> 5. Assuming the prices are in USD, the range is between 0-250 dollars.\n",
    ">> The plot shows the most common price roughly $25."
   ],
   "metadata": {
    "collapsed": false
   }
  },
  {
   "cell_type": "markdown",
   "source": [
    "> # Objective:\n",
    "> ## Predicting the number of subscribers for a course.\n",
    ">> ### Chosen Feature:\n",
    ">> #### *num_subscribers* column\n",
    ">>> The column represents how many people have subscribed to each course.\n",
    ">>> ### Motive:\n",
    ">>> Predicting the number of people subscribed to a course, course popularity."
   ],
   "metadata": {
    "collapsed": false
   }
  },
  {
   "cell_type": "markdown",
   "source": [
    "> ### Splitting the Data:\n",
    ">> Before further analysis let's split the data into a training set and a testing set.\n",
    ">> This will ensure avoidance of bias that could occur from learning the data as a whole."
   ],
   "metadata": {
    "collapsed": false
   }
  },
  {
   "cell_type": "code",
   "execution_count": 9,
   "outputs": [],
   "source": [
    "# use sklearn train_test_split function to split the data\n",
    "# the random state parameter ensures that data will be shuffled and split the same way in each run\n",
    "train_set, test_set = train_test_split(df, test_size=0.20, random_state=42)"
   ],
   "metadata": {
    "collapsed": false,
    "pycharm": {
     "name": "#%%\n"
    }
   }
  },
  {
   "cell_type": "code",
   "execution_count": 10,
   "outputs": [
    {
     "name": "stdout",
     "output_type": "stream",
     "text": [
      "Number of instances in training set:  2942\n",
      "Number of instances in testing set:  736\n"
     ]
    }
   ],
   "source": [
    "print(\"Number of instances in training set: \", len(train_set))\n",
    "print(\"Number of instances in testing set: \", len(test_set))"
   ],
   "metadata": {
    "collapsed": false,
    "pycharm": {
     "name": "#%%\n"
    }
   }
  },
  {
   "cell_type": "markdown",
   "source": [
    "## 2. Understanding and Visualizing the Data\n",
    "> ##### *The motivation for this section is to gain more insights*"
   ],
   "metadata": {
    "collapsed": false
   }
  },
  {
   "cell_type": "code",
   "execution_count": 11,
   "outputs": [],
   "source": [
    "# deep copy of the training set\n",
    "df2 = train_set.copy()"
   ],
   "metadata": {
    "collapsed": false,
    "pycharm": {
     "name": "#%%\n"
    }
   }
  },
  {
   "cell_type": "code",
   "execution_count": 12,
   "outputs": [
    {
     "data": {
      "text/plain": "      course_id                                       course_title  \\\n2490    1146014                     Learn JavaScript for beginners   \n2886     241590  Make a professional website - 30 Day Guarantee...   \n\n                                                    url  is_paid  price  \\\n2490     https://www.udemy.com/learn-javascript-course/     True    200   \n2886  https://www.udemy.com/make-your-own-business-w...     True     20   \n\n      num_subscribers  num_reviews  num_lectures           level  \\\n2490            15276          167            19  Beginner Level   \n2886            11167           34            13      All Levels   \n\n      content_duration   published_timestamp          subject  \n2490               1.5  2017-03-16T20:57:12Z  Web Development  \n2886               2.0  2014-06-23T16:03:41Z  Web Development  ",
      "text/html": "<div>\n<style scoped>\n    .dataframe tbody tr th:only-of-type {\n        vertical-align: middle;\n    }\n\n    .dataframe tbody tr th {\n        vertical-align: top;\n    }\n\n    .dataframe thead th {\n        text-align: right;\n    }\n</style>\n<table border=\"1\" class=\"dataframe\">\n  <thead>\n    <tr style=\"text-align: right;\">\n      <th></th>\n      <th>course_id</th>\n      <th>course_title</th>\n      <th>url</th>\n      <th>is_paid</th>\n      <th>price</th>\n      <th>num_subscribers</th>\n      <th>num_reviews</th>\n      <th>num_lectures</th>\n      <th>level</th>\n      <th>content_duration</th>\n      <th>published_timestamp</th>\n      <th>subject</th>\n    </tr>\n  </thead>\n  <tbody>\n    <tr>\n      <th>2490</th>\n      <td>1146014</td>\n      <td>Learn JavaScript for beginners</td>\n      <td>https://www.udemy.com/learn-javascript-course/</td>\n      <td>True</td>\n      <td>200</td>\n      <td>15276</td>\n      <td>167</td>\n      <td>19</td>\n      <td>Beginner Level</td>\n      <td>1.5</td>\n      <td>2017-03-16T20:57:12Z</td>\n      <td>Web Development</td>\n    </tr>\n    <tr>\n      <th>2886</th>\n      <td>241590</td>\n      <td>Make a professional website - 30 Day Guarantee...</td>\n      <td>https://www.udemy.com/make-your-own-business-w...</td>\n      <td>True</td>\n      <td>20</td>\n      <td>11167</td>\n      <td>34</td>\n      <td>13</td>\n      <td>All Levels</td>\n      <td>2.0</td>\n      <td>2014-06-23T16:03:41Z</td>\n      <td>Web Development</td>\n    </tr>\n  </tbody>\n</table>\n</div>"
     },
     "execution_count": 12,
     "metadata": {},
     "output_type": "execute_result"
    }
   ],
   "source": [
    "df2.head(2)"
   ],
   "metadata": {
    "collapsed": false,
    "pycharm": {
     "name": "#%%\n"
    }
   }
  },
  {
   "cell_type": "markdown",
   "source": [
    "> ## Exploring Attribute Combinations"
   ],
   "metadata": {
    "collapsed": false
   }
  },
  {
   "cell_type": "code",
   "execution_count": 13,
   "outputs": [],
   "source": [
    "# method creates a correlations matrix\n",
    "corr_matrix = df2.corr()"
   ],
   "metadata": {
    "collapsed": false,
    "pycharm": {
     "name": "#%%\n"
    }
   }
  },
  {
   "cell_type": "code",
   "execution_count": 14,
   "outputs": [
    {
     "data": {
      "text/plain": "num_subscribers     1.000000\nnum_reviews         0.641087\nnum_lectures        0.164072\ncontent_duration    0.161800\nprice               0.046734\ncourse_id          -0.168235\nis_paid            -0.270822\nName: num_subscribers, dtype: float64"
     },
     "execution_count": 14,
     "metadata": {},
     "output_type": "execute_result"
    }
   ],
   "source": [
    "# looking at attributes correlation with num_subscribers feature\n",
    "corr_matrix[\"num_subscribers\"].sort_values(ascending=False)"
   ],
   "metadata": {
    "collapsed": false,
    "pycharm": {
     "name": "#%%\n"
    }
   }
  },
  {
   "cell_type": "code",
   "execution_count": 15,
   "outputs": [
    {
     "data": {
      "text/plain": "<Figure size 864x576 with 25 Axes>",
      "image/png": "[encoded data removed]"
     },
     "metadata": {},
     "output_type": "display_data"
    }
   ],
   "source": [
    "# a histogram plot for attributes with a high correlation\n",
    "\n",
    "attributes = [\"num_subscribers\", \"num_reviews\", \"num_lectures\",\n",
    "              \"content_duration\", \"course_id\"]\n",
    "\n",
    "scatter_matrix(df2[attributes], figsize=(12,8))\n",
    "plt.tight_layout()\n",
    "plt.show()"
   ],
   "metadata": {
    "collapsed": false,
    "pycharm": {
     "name": "#%%\n"
    }
   }
  },
  {
   "cell_type": "code",
   "execution_count": 16,
   "outputs": [
    {
     "data": {
      "text/plain": "<Figure size 720x360 with 1 Axes>",
      "image/png": "[encoded data removed]"
     },
     "metadata": {},
     "output_type": "display_data"
    }
   ],
   "source": [
    "# scatter plot of the strongest correlation in the corr matrix\n",
    "# the alpha is set to show the distribution more clearly\n",
    "df2.plot(kind=\"scatter\", x=\"num_reviews\", y=\"num_subscribers\", alpha=0.1,\n",
    "         color='b', figsize=(10,5))\n",
    "plt.title(\"Reviews and Subscribers Correlation\", size=20)\n",
    "plt.xlabel(\"num_reviews\", size=15)\n",
    "plt.ylabel(\"num_subscribers\", size=15)\n",
    "plt.tight_layout()\n",
    "plt.show()"
   ],
   "metadata": {
    "collapsed": false,
    "pycharm": {
     "name": "#%%\n"
    }
   }
  },
  {
   "cell_type": "markdown",
   "source": [
    "> ### Correlations with num_subscribers Attribute- Overview:\n",
    "> The strongest positive correlations (0.1 or more) are:\n",
    "> * num_reviews\n",
    "> * num_lectures\n",
    "> * content_duration\n",
    ">\n",
    "> The strongest negative correlations (-0.1 or less) are:\n",
    "> * course_id\n",
    "> * is_paid"
   ],
   "metadata": {
    "collapsed": false
   }
  },
  {
   "cell_type": "markdown",
   "source": [
    "> ### Examining Course ID Feature"
   ],
   "metadata": {
    "collapsed": false
   }
  },
  {
   "cell_type": "code",
   "execution_count": 17,
   "outputs": [
    {
     "name": "stdout",
     "output_type": "stream",
     "text": [
      "Number of unique course IDs: 2939\n",
      "Length of DataFrame: 2942\n"
     ]
    }
   ],
   "source": [
    "print(\"Number of unique course IDs:\", df2[\"course_id\"].nunique())\n",
    "print(\"Length of DataFrame:\", len(df2))"
   ],
   "metadata": {
    "collapsed": false,
    "pycharm": {
     "name": "#%%\n"
    }
   }
  },
  {
   "cell_type": "code",
   "execution_count": 18,
   "outputs": [
    {
     "data": {
      "text/plain": "2939"
     },
     "execution_count": 18,
     "metadata": {},
     "output_type": "execute_result"
    }
   ],
   "source": [
    "# check if number of unique urls\n",
    "# should be individual for each instance\n",
    "df2[\"url\"].nunique()"
   ],
   "metadata": {
    "collapsed": false,
    "pycharm": {
     "name": "#%%\n"
    }
   }
  },
  {
   "cell_type": "markdown",
   "source": [
    "> Since there is a unique value for almost every course ID, the correlation was probably\n",
    "> coincidental."
   ],
   "metadata": {
    "collapsed": false
   }
  },
  {
   "cell_type": "code",
   "execution_count": 19,
   "outputs": [
    {
     "data": {
      "text/plain": "      course_id                                       course_title  \\\n454     1157298  Introduction to Forex Trading Business For Beg...   \n1473     185526                             MicroStation - Células   \n894     1035638                 Understanding Financial Statements   \n\n                                                    url  is_paid  price  \\\n454   https://www.udemy.com/introduction-to-forex-tr...     True     20   \n1473        https://www.udemy.com/microstation-celulas/     True     20   \n894   https://www.udemy.com/understanding-financial-...     True     25   \n\n      num_subscribers  num_reviews  num_lectures           level  \\\n454                 0            0            27  Beginner Level   \n1473                0            0             9  Beginner Level   \n894                 0            0            10      All Levels   \n\n      content_duration   published_timestamp           subject  \n454           1.500000  2017-04-23T16:19:01Z  Business Finance  \n1473          0.616667  2014-04-15T21:48:55Z    Graphic Design  \n894           1.000000  2016-12-15T14:56:17Z  Business Finance  ",
      "text/html": "<div>\n<style scoped>\n    .dataframe tbody tr th:only-of-type {\n        vertical-align: middle;\n    }\n\n    .dataframe tbody tr th {\n        vertical-align: top;\n    }\n\n    .dataframe thead th {\n        text-align: right;\n    }\n</style>\n<table border=\"1\" class=\"dataframe\">\n  <thead>\n    <tr style=\"text-align: right;\">\n      <th></th>\n      <th>course_id</th>\n      <th>course_title</th>\n      <th>url</th>\n      <th>is_paid</th>\n      <th>price</th>\n      <th>num_subscribers</th>\n      <th>num_reviews</th>\n      <th>num_lectures</th>\n      <th>level</th>\n      <th>content_duration</th>\n      <th>published_timestamp</th>\n      <th>subject</th>\n    </tr>\n  </thead>\n  <tbody>\n    <tr>\n      <th>454</th>\n      <td>1157298</td>\n      <td>Introduction to Forex Trading Business For Beg...</td>\n      <td>https://www.udemy.com/introduction-to-forex-tr...</td>\n      <td>True</td>\n      <td>20</td>\n      <td>0</td>\n      <td>0</td>\n      <td>27</td>\n      <td>Beginner Level</td>\n      <td>1.500000</td>\n      <td>2017-04-23T16:19:01Z</td>\n      <td>Business Finance</td>\n    </tr>\n    <tr>\n      <th>1473</th>\n      <td>185526</td>\n      <td>MicroStation - Células</td>\n      <td>https://www.udemy.com/microstation-celulas/</td>\n      <td>True</td>\n      <td>20</td>\n      <td>0</td>\n      <td>0</td>\n      <td>9</td>\n      <td>Beginner Level</td>\n      <td>0.616667</td>\n      <td>2014-04-15T21:48:55Z</td>\n      <td>Graphic Design</td>\n    </tr>\n    <tr>\n      <th>894</th>\n      <td>1035638</td>\n      <td>Understanding Financial Statements</td>\n      <td>https://www.udemy.com/understanding-financial-...</td>\n      <td>True</td>\n      <td>25</td>\n      <td>0</td>\n      <td>0</td>\n      <td>10</td>\n      <td>All Levels</td>\n      <td>1.000000</td>\n      <td>2016-12-15T14:56:17Z</td>\n      <td>Business Finance</td>\n    </tr>\n  </tbody>\n</table>\n</div>"
     },
     "execution_count": 19,
     "metadata": {},
     "output_type": "execute_result"
    }
   ],
   "source": [
    "# show duplicated listings\n",
    "df2[df2.duplicated(\"course_id\")]"
   ],
   "metadata": {
    "collapsed": false,
    "pycharm": {
     "name": "#%%\n"
    }
   }
  },
  {
   "cell_type": "code",
   "execution_count": 20,
   "outputs": [],
   "source": [
    "# remove duplicated listings\n",
    "df2.drop_duplicates(inplace=True)"
   ],
   "metadata": {
    "collapsed": false,
    "pycharm": {
     "name": "#%%\n"
    }
   }
  },
  {
   "cell_type": "code",
   "execution_count": 21,
   "outputs": [
    {
     "data": {
      "text/plain": "(2939, 12)"
     },
     "execution_count": 21,
     "metadata": {},
     "output_type": "execute_result"
    }
   ],
   "source": [
    "# examine changes\n",
    "df2.shape"
   ],
   "metadata": {
    "collapsed": false,
    "pycharm": {
     "name": "#%%\n"
    }
   }
  },
  {
   "cell_type": "markdown",
   "source": [
    "> ### Overview:\n",
    "> * The course ID is unique for each course.\n",
    "> * This column should be removed when training a model in order to generalize better."
   ],
   "metadata": {
    "collapsed": false
   }
  },
  {
   "cell_type": "markdown",
   "source": [
    "> ### Assessing Price Features"
   ],
   "metadata": {
    "collapsed": false
   }
  },
  {
   "cell_type": "code",
   "execution_count": 22,
   "outputs": [
    {
     "data": {
      "text/plain": "2490     True\n2886     True\n3198     True\n2899     True\n1053     True\n2554     True\n2990     True\n1904     True\n67       True\n1846    False\nName: is_paid, dtype: bool"
     },
     "execution_count": 22,
     "metadata": {},
     "output_type": "execute_result"
    }
   ],
   "source": [
    "# evaluate current values in column\n",
    "df2[\"is_paid\"].head(10)"
   ],
   "metadata": {
    "collapsed": false,
    "pycharm": {
     "name": "#%%\n"
    }
   }
  },
  {
   "cell_type": "code",
   "execution_count": 23,
   "outputs": [],
   "source": [
    "# use encoder to convert \"is_paid\" column to binary outcome\n",
    "ordinal_encoder = OrdinalEncoder(dtype=int)\n",
    "df2[\"is_paid\"] = ordinal_encoder.fit_transform(df2[[\"is_paid\"]])"
   ],
   "metadata": {
    "collapsed": false,
    "pycharm": {
     "name": "#%%\n"
    }
   }
  },
  {
   "cell_type": "code",
   "execution_count": 24,
   "outputs": [
    {
     "data": {
      "text/plain": "2490    1\n2886    1\n3198    1\n2899    1\n1053    1\n2554    1\n2990    1\n1904    1\n67      1\n1846    0\nName: is_paid, dtype: int32"
     },
     "execution_count": 24,
     "metadata": {},
     "output_type": "execute_result"
    }
   ],
   "source": [
    "# evaluate changes\n",
    "df2[\"is_paid\"].head(10)"
   ],
   "metadata": {
    "collapsed": false,
    "pycharm": {
     "name": "#%%\n"
    }
   }
  },
  {
   "cell_type": "code",
   "execution_count": 25,
   "outputs": [
    {
     "data": {
      "text/plain": "[array([False,  True])]"
     },
     "execution_count": 25,
     "metadata": {},
     "output_type": "execute_result"
    }
   ],
   "source": [
    "# 0 is False, 1 is True\n",
    "ordinal_encoder.categories_"
   ],
   "metadata": {
    "collapsed": false,
    "pycharm": {
     "name": "#%%\n"
    }
   }
  },
  {
   "cell_type": "code",
   "execution_count": 26,
   "outputs": [
    {
     "data": {
      "text/plain": "1    2700\n0     239\nName: is_paid, dtype: int64"
     },
     "execution_count": 26,
     "metadata": {},
     "output_type": "execute_result"
    }
   ],
   "source": [
    "# count number of instances for each outcome\n",
    "df2[\"is_paid\"].value_counts()"
   ],
   "metadata": {
    "collapsed": false,
    "pycharm": {
     "name": "#%%\n"
    }
   }
  },
  {
   "cell_type": "code",
   "execution_count": 27,
   "outputs": [],
   "source": [
    "# use groupby for price attribute\n",
    "price_values = df2.groupby(\"price\")"
   ],
   "metadata": {
    "collapsed": false,
    "pycharm": {
     "name": "#%%\n"
    }
   }
  },
  {
   "cell_type": "code",
   "execution_count": 28,
   "outputs": [
    {
     "data": {
      "text/plain": "(239, 12)"
     },
     "execution_count": 28,
     "metadata": {},
     "output_type": "execute_result"
    }
   ],
   "source": [
    "# check if number of free courses matches when the price is 0\n",
    "price_values_0 = price_values.get_group(0)\n",
    "price_values_0.shape"
   ],
   "metadata": {
    "collapsed": false,
    "pycharm": {
     "name": "#%%\n"
    }
   }
  },
  {
   "cell_type": "code",
   "execution_count": 29,
   "outputs": [
    {
     "data": {
      "text/plain": "<Figure size 720x360 with 1 Axes>",
      "image/png": "[encoded data removed]"
     },
     "metadata": {},
     "output_type": "display_data"
    }
   ],
   "source": [
    "# plot of free and paid courses\n",
    "plt.figure(figsize=(10,5))\n",
    "sns.countplot(x=df2[\"is_paid\"])\n",
    "plt.title(\"Free and Paid Courses\", size=20)\n",
    "plt.xlabel(\"is_paid\", size = 15)\n",
    "plt.ylabel(\"count\", size=15)\n",
    "plt.tight_layout()\n",
    "plt.show()"
   ],
   "metadata": {
    "collapsed": false,
    "pycharm": {
     "name": "#%%\n"
    }
   }
  },
  {
   "cell_type": "code",
   "execution_count": 30,
   "outputs": [
    {
     "data": {
      "text/plain": "0      239\n20     672\n25     122\n30     133\n35      94\n40     173\n45      63\n50     376\n55      27\n60      64\n65      23\n70      23\n75      65\n80      24\n85      28\n90      14\n95     119\n100    105\n105     10\n110      8\n115     13\n120     30\n125     20\n130      2\n135      7\n140      5\n145     21\n150     67\n155      2\n160      4\n165      5\n170      5\n175     10\n180     15\n185      5\n190      9\n195    100\n200    237\nName: price, dtype: int64"
     },
     "execution_count": 30,
     "metadata": {},
     "output_type": "execute_result"
    }
   ],
   "source": [
    "# course price values sorted by prices\n",
    "df2[\"price\"].value_counts().sort_index()"
   ],
   "metadata": {
    "collapsed": false,
    "pycharm": {
     "name": "#%%\n"
    }
   }
  },
  {
   "cell_type": "code",
   "execution_count": 31,
   "outputs": [],
   "source": [
    "# top ten course price values sorted by value counts\n",
    "prices_top10 = df2[\"price\"].value_counts().sort_values(ascending=False).head(10)"
   ],
   "metadata": {
    "collapsed": false,
    "pycharm": {
     "name": "#%%\n"
    }
   }
  },
  {
   "cell_type": "code",
   "execution_count": 32,
   "outputs": [],
   "source": [
    "# calculate percentage of instances per price in data\n",
    "prices_percent_in_data = []\n",
    "num_subscribed = []\n",
    "\n",
    "for i in range(len(prices_top10.index)):\n",
    "    prices_percent_in_data.append(round((prices_top10.values[i]/len(df2))*100,2))\n",
    "    num_subscribed.append(price_values.get_group(prices_top10.index[i])[\"num_subscribers\"].sum())"
   ],
   "metadata": {
    "collapsed": false,
    "pycharm": {
     "name": "#%%\n"
    }
   }
  },
  {
   "cell_type": "code",
   "execution_count": 33,
   "outputs": [
    {
     "data": {
      "text/plain": "    price  number_of_instances  % of data  num_subscribers\n1      20                  672      22.86          1086051\n2      50                  376      12.79           592522\n3       0                  239       8.13          2969312\n4     200                  237       8.06          1095015\n5      40                  173       5.89           169486\n6      30                  133       4.53           247634\n7      25                  122       4.15           133833\n8      95                  119       4.05           255956\n9     100                  105       3.57           331746\n10    195                  100       3.40           799940",
      "text/html": "<div>\n<style scoped>\n    .dataframe tbody tr th:only-of-type {\n        vertical-align: middle;\n    }\n\n    .dataframe tbody tr th {\n        vertical-align: top;\n    }\n\n    .dataframe thead th {\n        text-align: right;\n    }\n</style>\n<table border=\"1\" class=\"dataframe\">\n  <thead>\n    <tr style=\"text-align: right;\">\n      <th></th>\n      <th>price</th>\n      <th>number_of_instances</th>\n      <th>% of data</th>\n      <th>num_subscribers</th>\n    </tr>\n  </thead>\n  <tbody>\n    <tr>\n      <th>1</th>\n      <td>20</td>\n      <td>672</td>\n      <td>22.86</td>\n      <td>1086051</td>\n    </tr>\n    <tr>\n      <th>2</th>\n      <td>50</td>\n      <td>376</td>\n      <td>12.79</td>\n      <td>592522</td>\n    </tr>\n    <tr>\n      <th>3</th>\n      <td>0</td>\n      <td>239</td>\n      <td>8.13</td>\n      <td>2969312</td>\n    </tr>\n    <tr>\n      <th>4</th>\n      <td>200</td>\n      <td>237</td>\n      <td>8.06</td>\n      <td>1095015</td>\n    </tr>\n    <tr>\n      <th>5</th>\n      <td>40</td>\n      <td>173</td>\n      <td>5.89</td>\n      <td>169486</td>\n    </tr>\n    <tr>\n      <th>6</th>\n      <td>30</td>\n      <td>133</td>\n      <td>4.53</td>\n      <td>247634</td>\n    </tr>\n    <tr>\n      <th>7</th>\n      <td>25</td>\n      <td>122</td>\n      <td>4.15</td>\n      <td>133833</td>\n    </tr>\n    <tr>\n      <th>8</th>\n      <td>95</td>\n      <td>119</td>\n      <td>4.05</td>\n      <td>255956</td>\n    </tr>\n    <tr>\n      <th>9</th>\n      <td>100</td>\n      <td>105</td>\n      <td>3.57</td>\n      <td>331746</td>\n    </tr>\n    <tr>\n      <th>10</th>\n      <td>195</td>\n      <td>100</td>\n      <td>3.40</td>\n      <td>799940</td>\n    </tr>\n  </tbody>\n</table>\n</div>"
     },
     "execution_count": 33,
     "metadata": {},
     "output_type": "execute_result"
    }
   ],
   "source": [
    "# create a DataFrame with the results\n",
    "prices_top10_dict = {\"price\": prices_top10.index, \"number_of_instances\": prices_top10.values,\n",
    "                     \"% of data\": prices_percent_in_data, \"num_subscribers\": num_subscribed}\n",
    "prices_top10_df = pd.DataFrame(prices_top10_dict, index=range(1,11))\n",
    "prices_top10_df"
   ],
   "metadata": {
    "collapsed": false,
    "pycharm": {
     "name": "#%%\n"
    }
   }
  },
  {
   "cell_type": "code",
   "execution_count": 34,
   "outputs": [
    {
     "data": {
      "text/plain": "<Figure size 720x360 with 1 Axes>",
      "image/png": "[encoded data removed]"
     },
     "metadata": {},
     "output_type": "display_data"
    }
   ],
   "source": [
    "# plot of top 10 common prices by amount of subscribers\n",
    "plt.figure(figsize=(10,5))\n",
    "sns.barplot(x=prices_top10_df[\"price\"], y=prices_top10_df[\"num_subscribers\"])\n",
    "plt.xlabel(\"price\", size=15)\n",
    "plt.ylabel(\"num_subscribers\\n(millions)\", size=15)\n",
    "plt.title(\"Top 10 Common Prices by Subscribers\", size=20)\n",
    "plt.tight_layout()\n",
    "plt.show()"
   ],
   "metadata": {
    "collapsed": false,
    "pycharm": {
     "name": "#%%\n"
    }
   }
  },
  {
   "cell_type": "code",
   "execution_count": 35,
   "outputs": [
    {
     "data": {
      "text/plain": "<Figure size 720x360 with 1 Axes>",
      "image/png": "[encoded data removed]"
     },
     "metadata": {},
     "output_type": "display_data"
    }
   ],
   "source": [
    "# plot of content duration by free or paid course\n",
    "plt.figure(figsize=(10,5))\n",
    "sns.scatterplot(x=df2[\"content_duration\"], y=df2[\"is_paid\"], alpha=0.1)\n",
    "plt.title(\"Content Duration by Type of Course Payment\", size=20)\n",
    "plt.xlabel(\"content_duration\", size=15)\n",
    "plt.ylabel(\"is_paid\", size=15)\n",
    "plt.tight_layout()\n",
    "plt.show()"
   ],
   "metadata": {
    "collapsed": false,
    "pycharm": {
     "name": "#%%\n"
    }
   }
  },
  {
   "cell_type": "markdown",
   "source": [
    "> ### Observations:\n",
    "> * As speculated earlier in the initial observations, $20 is the most common price for a course.\n",
    "> * The number of listings with the price $0 matches the number of instances that were\n",
    "> labeled \"False\" in the is_paid column.\n",
    "> * The prices listed tend to increase by 5 dollars until they reach the maximum price\n",
    "> which is $200.\n",
    "> * Amongst the 10 most common prices in the data, most are subscribed to the free courses.\n",
    "> * Content duration is longer for paid courses."
   ],
   "metadata": {
    "collapsed": false
   }
  },
  {
   "cell_type": "markdown",
   "source": [
    "> ### Researching Level and Subject Features"
   ],
   "metadata": {
    "collapsed": false
   }
  },
  {
   "cell_type": "code",
   "execution_count": 36,
   "outputs": [
    {
     "data": {
      "text/plain": "All Levels            1536\nBeginner Level        1018\nIntermediate Level     332\nExpert Level            53\nName: level, dtype: int64"
     },
     "execution_count": 36,
     "metadata": {},
     "output_type": "execute_result"
    }
   ],
   "source": [
    "# count number of instances\n",
    "level_values = df2[\"level\"].value_counts()\n",
    "level_values"
   ],
   "metadata": {
    "collapsed": false,
    "pycharm": {
     "name": "#%%\n"
    }
   }
  },
  {
   "cell_type": "code",
   "execution_count": 37,
   "outputs": [
    {
     "data": {
      "text/plain": "Web Development        968\nBusiness Finance       929\nMusical Instruments    553\nGraphic Design         489\nName: subject, dtype: int64"
     },
     "execution_count": 37,
     "metadata": {},
     "output_type": "execute_result"
    }
   ],
   "source": [
    "# count number of instances\n",
    "subject_values = df2[\"subject\"].value_counts()\n",
    "subject_values"
   ],
   "metadata": {
    "collapsed": false,
    "pycharm": {
     "name": "#%%\n"
    }
   }
  },
  {
   "cell_type": "code",
   "execution_count": 38,
   "outputs": [
    {
     "data": {
      "text/plain": "<Figure size 720x360 with 2 Axes>",
      "image/png": "[encoded data removed]"
     },
     "metadata": {},
     "output_type": "display_data"
    }
   ],
   "source": [
    "# pie plot of course levels and subjects in data\n",
    "fig, ax = plt.subplots(1,2, figsize=(10,5))\n",
    "ax[0].pie(level_values, startangle=180, labels=level_values.index, autopct=\"%1.1f%%\")\n",
    "ax[0].set_title(\"Course Levels\", size=20)\n",
    "ax[1].pie(subject_values, startangle=180, labels=subject_values.index, autopct=\"%1.1f%%\")\n",
    "ax[1].set_title(\"Course Subjects\", size=20)\n",
    "plt.tight_layout()\n",
    "plt.show()"
   ],
   "metadata": {
    "collapsed": false,
    "pycharm": {
     "name": "#%%\n"
    }
   }
  },
  {
   "cell_type": "code",
   "execution_count": 39,
   "outputs": [
    {
     "data": {
      "text/plain": "<Figure size 720x360 with 1 Axes>",
      "image/png": "[encoded data removed]"
     },
     "metadata": {},
     "output_type": "display_data"
    }
   ],
   "source": [
    "# scatter plot of price by course level\n",
    "plt.figure(figsize=(10,5))\n",
    "sns.scatterplot(y=df2[\"level\"], x=df2[\"price\"], alpha=0.1)\n",
    "plt.title(\"Price by Course Level\", size=20)\n",
    "plt.xlabel(\"price\", size=15)\n",
    "plt.ylabel(\"level\", size=15)\n",
    "plt.tight_layout()\n",
    "plt.show()"
   ],
   "metadata": {
    "collapsed": false,
    "pycharm": {
     "name": "#%%\n"
    }
   }
  },
  {
   "cell_type": "code",
   "execution_count": 40,
   "outputs": [
    {
     "data": {
      "text/plain": "<Figure size 720x360 with 1 Axes>",
      "image/png": "[encoded data removed]"
     },
     "metadata": {},
     "output_type": "display_data"
    }
   ],
   "source": [
    "# plot subject by number of subscribers and level\n",
    "# the black bars represent the error\n",
    "plt.figure(figsize=(10,5))\n",
    "sns.barplot(x=df2[\"subject\"], y=df2[\"num_subscribers\"], hue=df2[\"level\"])\n",
    "plt.title(\"Subject by Number of Subscribers and Level\", size=20)\n",
    "plt.xlabel(\"subject\", size=15)\n",
    "plt.ylabel(\"num_subscribers\", size=15)\n",
    "plt.tight_layout()\n",
    "plt.show()"
   ],
   "metadata": {
    "collapsed": false,
    "pycharm": {
     "name": "#%%\n"
    }
   }
  },
  {
   "cell_type": "markdown",
   "source": [
    "> ### Observations:\n",
    "> * All Levels is the most common level, representing over 50%.\n",
    "> * Web Development is the most common subject, and Business Finance is second with\n",
    "> approximately a 1% differential.\n",
    "> * Price variations according to the level of the course also show that Expert is\n",
    "> the least common level in the data. It is also the only level that does not\n",
    "> provide free courses. The other levels are dispersed more frequently\n",
    "> throughout the line.\n",
    "> * Web Development courses are significantly higher in subscribers than the other subjects.\n",
    "> Since Business Finance falls shortly behind in content, it is likely that people are more\n",
    "> interested in studying Web Development courses."
   ],
   "metadata": {
    "collapsed": false
   }
  },
  {
   "cell_type": "markdown",
   "source": [
    "> ### Analyzing Additional Columns"
   ],
   "metadata": {
    "collapsed": false
   }
  },
  {
   "cell_type": "code",
   "execution_count": 41,
   "outputs": [
    {
     "data": {
      "text/plain": "(2939, 12)"
     },
     "execution_count": 41,
     "metadata": {},
     "output_type": "execute_result"
    }
   ],
   "source": [
    "# examine current shape\n",
    "df2.shape"
   ],
   "metadata": {
    "collapsed": false,
    "pycharm": {
     "name": "#%%\n"
    }
   }
  },
  {
   "cell_type": "code",
   "execution_count": 42,
   "outputs": [
    {
     "data": {
      "text/plain": "2939"
     },
     "execution_count": 42,
     "metadata": {},
     "output_type": "execute_result"
    }
   ],
   "source": [
    "# every course has a unique URL\n",
    "df2[\"url\"].nunique()"
   ],
   "metadata": {
    "collapsed": false,
    "pycharm": {
     "name": "#%%\n"
    }
   }
  },
  {
   "cell_type": "code",
   "execution_count": 43,
   "outputs": [
    {
     "data": {
      "text/plain": "2930"
     },
     "execution_count": 43,
     "metadata": {},
     "output_type": "execute_result"
    }
   ],
   "source": [
    "# some courses have an identical title\n",
    "df2[\"course_title\"].nunique()"
   ],
   "metadata": {
    "collapsed": false,
    "pycharm": {
     "name": "#%%\n"
    }
   }
  },
  {
   "cell_type": "code",
   "execution_count": 44,
   "outputs": [
    {
     "data": {
      "text/plain": "array(['Acoustic Blues Guitar Lessons',\n       'Creating an animated greeting card via Google Slides',\n       'The Complete Web Developer Masterclass: Beginner To Advanced',\n       'How to Make a Wordpress Website 2017',\n       'Drum Lessons For Beginners', 'Introduction to Web Development',\n       'Aprende a tocar el acordeón de botones'], dtype=object)"
     },
     "execution_count": 44,
     "metadata": {},
     "output_type": "execute_result"
    }
   ],
   "source": [
    "# find duplicated instances\n",
    "# false marks all duplicates as true\n",
    "title_df = df2[df2.duplicated(\"course_title\", keep=False)].copy()\n",
    "# show duplicated titles\n",
    "title_df[\"course_title\"].unique()"
   ],
   "metadata": {
    "collapsed": false,
    "pycharm": {
     "name": "#%%\n"
    }
   }
  },
  {
   "cell_type": "code",
   "execution_count": 45,
   "outputs": [
    {
     "data": {
      "text/plain": "16"
     },
     "execution_count": 45,
     "metadata": {},
     "output_type": "execute_result"
    }
   ],
   "source": [
    "# examine number of unique subscribers values\n",
    "title_df[\"num_subscribers\"].nunique()"
   ],
   "metadata": {
    "collapsed": false,
    "pycharm": {
     "name": "#%%\n"
    }
   }
  },
  {
   "cell_type": "code",
   "execution_count": 46,
   "outputs": [],
   "source": [
    "# groupy course title\n",
    "title = title_df.groupby(\"course_title\")"
   ],
   "metadata": {
    "collapsed": false,
    "pycharm": {
     "name": "#%%\n"
    }
   }
  },
  {
   "cell_type": "code",
   "execution_count": 47,
   "outputs": [
    {
     "data": {
      "text/plain": "      course_id                   course_title  \\\n2067     112314  Acoustic Blues Guitar Lessons   \n2158     647276  Acoustic Blues Guitar Lessons   \n2062      99324  Acoustic Blues Guitar Lessons   \n\n                                                    url  is_paid  price  \\\n2067  https://www.udemy.com/jim-bruce-blues-guitar-l...        1    125   \n2158  https://www.udemy.com/acoustic-blues-guitar-le...        1     75   \n2062  https://www.udemy.com/finger-picking-blues-gui...        0      0   \n\n      num_subscribers  num_reviews  num_lectures               level  \\\n2067             1284          136            40  Intermediate Level   \n2158              189           18           101  Intermediate Level   \n2062             8217          109            10  Intermediate Level   \n\n      content_duration   published_timestamp              subject  \n2067              12.5  2013-11-28T08:54:00Z  Musical Instruments  \n2158               4.5  2016-01-10T21:39:42Z  Musical Instruments  \n2062               1.0  2013-09-30T20:45:20Z  Musical Instruments  ",
      "text/html": "<div>\n<style scoped>\n    .dataframe tbody tr th:only-of-type {\n        vertical-align: middle;\n    }\n\n    .dataframe tbody tr th {\n        vertical-align: top;\n    }\n\n    .dataframe thead th {\n        text-align: right;\n    }\n</style>\n<table border=\"1\" class=\"dataframe\">\n  <thead>\n    <tr style=\"text-align: right;\">\n      <th></th>\n      <th>course_id</th>\n      <th>course_title</th>\n      <th>url</th>\n      <th>is_paid</th>\n      <th>price</th>\n      <th>num_subscribers</th>\n      <th>num_reviews</th>\n      <th>num_lectures</th>\n      <th>level</th>\n      <th>content_duration</th>\n      <th>published_timestamp</th>\n      <th>subject</th>\n    </tr>\n  </thead>\n  <tbody>\n    <tr>\n      <th>2067</th>\n      <td>112314</td>\n      <td>Acoustic Blues Guitar Lessons</td>\n      <td>https://www.udemy.com/jim-bruce-blues-guitar-l...</td>\n      <td>1</td>\n      <td>125</td>\n      <td>1284</td>\n      <td>136</td>\n      <td>40</td>\n      <td>Intermediate Level</td>\n      <td>12.5</td>\n      <td>2013-11-28T08:54:00Z</td>\n      <td>Musical Instruments</td>\n    </tr>\n    <tr>\n      <th>2158</th>\n      <td>647276</td>\n      <td>Acoustic Blues Guitar Lessons</td>\n      <td>https://www.udemy.com/acoustic-blues-guitar-le...</td>\n      <td>1</td>\n      <td>75</td>\n      <td>189</td>\n      <td>18</td>\n      <td>101</td>\n      <td>Intermediate Level</td>\n      <td>4.5</td>\n      <td>2016-01-10T21:39:42Z</td>\n      <td>Musical Instruments</td>\n    </tr>\n    <tr>\n      <th>2062</th>\n      <td>99324</td>\n      <td>Acoustic Blues Guitar Lessons</td>\n      <td>https://www.udemy.com/finger-picking-blues-gui...</td>\n      <td>0</td>\n      <td>0</td>\n      <td>8217</td>\n      <td>109</td>\n      <td>10</td>\n      <td>Intermediate Level</td>\n      <td>1.0</td>\n      <td>2013-09-30T20:45:20Z</td>\n      <td>Musical Instruments</td>\n    </tr>\n  </tbody>\n</table>\n</div>"
     },
     "execution_count": 47,
     "metadata": {},
     "output_type": "execute_result"
    }
   ],
   "source": [
    "# examining one of the duplicated courses\n",
    "# the courses have the same name and different values for some features\n",
    "title.get_group(\"Acoustic Blues Guitar Lessons\")"
   ],
   "metadata": {
    "collapsed": false,
    "pycharm": {
     "name": "#%%\n"
    }
   }
  },
  {
   "cell_type": "markdown",
   "source": [
    "> ### Observations:\n",
    "> * The duplicated courses have different parameters such as is_paid or published_timestamp.\n",
    "> Maybe the course provides the first lessons free of charge, or they added new content.\n",
    "> * These instances can be kept as they are likely to have various values (i.e. each\n",
    "> value in the num_subscribers column is unique)."
   ],
   "metadata": {
    "collapsed": false
   }
  },
  {
   "cell_type": "markdown",
   "source": [
    "## 3. Data Cleaning"
   ],
   "metadata": {
    "collapsed": false
   }
  },
  {
   "cell_type": "code",
   "execution_count": 48,
   "outputs": [],
   "source": [
    "# clean copy of training set\n",
    "df3 = train_set.copy()"
   ],
   "metadata": {
    "collapsed": false,
    "pycharm": {
     "name": "#%%\n"
    }
   }
  },
  {
   "cell_type": "code",
   "execution_count": 49,
   "outputs": [
    {
     "data": {
      "text/plain": "(2942, 12)"
     },
     "execution_count": 49,
     "metadata": {},
     "output_type": "execute_result"
    }
   ],
   "source": [
    "df3.shape"
   ],
   "metadata": {
    "collapsed": false,
    "pycharm": {
     "name": "#%%\n"
    }
   }
  },
  {
   "cell_type": "code",
   "execution_count": 50,
   "outputs": [],
   "source": [
    "# remove duplicated instances\n",
    "df3.drop_duplicates(\"course_id\", inplace=True)"
   ],
   "metadata": {
    "collapsed": false,
    "pycharm": {
     "name": "#%%\n"
    }
   }
  },
  {
   "cell_type": "code",
   "execution_count": 51,
   "outputs": [
    {
     "data": {
      "text/plain": "(2939, 12)"
     },
     "execution_count": 51,
     "metadata": {},
     "output_type": "execute_result"
    }
   ],
   "source": [
    "# evaluate changes\n",
    "df3.shape"
   ],
   "metadata": {
    "collapsed": false,
    "pycharm": {
     "name": "#%%\n"
    }
   }
  },
  {
   "cell_type": "code",
   "execution_count": 52,
   "outputs": [],
   "source": [
    "# separate predictors from target values\n",
    "\n",
    "# drop creates a copy without changing the training set\n",
    "X_train = df3.drop(\"num_subscribers\", axis=1)\n",
    "\n",
    "# create a deep copy of the target values\n",
    "y_train = df3[\"num_subscribers\"].copy()"
   ],
   "metadata": {
    "collapsed": false,
    "pycharm": {
     "name": "#%%\n"
    }
   }
  },
  {
   "cell_type": "markdown",
   "source": [
    "> ### Removing the Following Columns:\n",
    "> The reason for removing these columns is for the model to generalize better.\n",
    "> Furthermore, these columns have a unique value for each instance (i.e. URL, course ID) which\n",
    "> does not provide information the model can learn from to predict on new data.\n",
    ">> * course_id\n",
    ">> * course_title\n",
    ">> * url\n",
    ">> * published_timestamp"
   ],
   "metadata": {
    "collapsed": false,
    "pycharm": {
     "name": "#%% md\n"
    }
   }
  },
  {
   "cell_type": "code",
   "execution_count": 53,
   "outputs": [],
   "source": [
    "# list of numerical features\n",
    "num_features = [\"price\", \"num_reviews\", \"num_lectures\", \"content_duration\"]\n",
    "\n",
    "# list of level feature categories\n",
    "levels = [\"All Levels\", \"Beginner Level\", \"Intermediate Level\", \"Expert Level\"]\n",
    "\n",
    "# column transformer:\n",
    "# features generated by each transformer will be concatenated to form a single feature space\n",
    "# columns of the original feature matrix that are not specified are dropped\n",
    "full_pipeline = ColumnTransformer([\n",
    "\n",
    "# MinMaxScaler normalizes data (rescales between 0-1)\n",
    "    (\"num\", MinMaxScaler(), num_features),\n",
    "\n",
    "# OrdinalEncoder converts categories to integers according to order specified in list\n",
    "    (\"level\", OrdinalEncoder(categories=[levels]), [\"level\"]),\n",
    "\n",
    "# OrdinalEncoder converts True and False values to integers\n",
    "# True=1, False=0\n",
    "    (\"is_paid\", OrdinalEncoder(dtype=int), [\"is_paid\"]),\n",
    "\n",
    "# OneHotEncoder converts categories to a binary dummy array\n",
    "    (\"subject\", OneHotEncoder(handle_unknown=\"ignore\"), [\"subject\"])\n",
    "])"
   ],
   "metadata": {
    "collapsed": false,
    "pycharm": {
     "name": "#%%\n"
    }
   }
  },
  {
   "cell_type": "code",
   "execution_count": 54,
   "outputs": [],
   "source": [
    "features = num_features+[\"level\", \"is_paid\", \"subject\"]\n",
    "\n",
    "# transform training data using pipeline\n",
    "X_train_prepared = full_pipeline.fit_transform(X_train)\n",
    "X_tr_testing = full_pipeline.transform(X_train)"
   ],
   "metadata": {
    "collapsed": false,
    "pycharm": {
     "name": "#%%\n"
    }
   }
  },
  {
   "cell_type": "markdown",
   "source": [
    "## 4. Training and Evaluating Models"
   ],
   "metadata": {
    "collapsed": false,
    "pycharm": {
     "name": "#%% md\n"
    }
   }
  },
  {
   "cell_type": "code",
   "execution_count": 55,
   "outputs": [],
   "source": [
    "# function prints scores, mean and std\n",
    "def display_scores(scores):\n",
    "    print(\"Scores:\", scores)\n",
    "    print(\"Mean:\", scores.mean())\n",
    "    print(\"Standard deviation:\", scores.std())\n",
    "\n",
    "# function prints evaluation metrics\n",
    "def display_evaluation(actual, pred):\n",
    "    mse = metrics.mean_squared_error(actual, pred)\n",
    "    print(\"Mean Squared Error:\", mse)\n",
    "    print(\"Root Mean Squared Error:\", np.sqrt(mse))\n",
    "    print(\"Mean Absolute Error:\", metrics.mean_absolute_error(actual, pred))"
   ],
   "metadata": {
    "collapsed": false,
    "pycharm": {
     "name": "#%%\n"
    }
   }
  },
  {
   "cell_type": "markdown",
   "source": [
    "#### Model 1: Linear Regression"
   ],
   "metadata": {
    "collapsed": false,
    "pycharm": {
     "name": "#%% md\n"
    }
   }
  },
  {
   "cell_type": "code",
   "execution_count": 56,
   "outputs": [],
   "source": [
    "# instantiate model\n",
    "lr = LinearRegression()"
   ],
   "metadata": {
    "collapsed": false,
    "pycharm": {
     "name": "#%%\n"
    }
   }
  },
  {
   "cell_type": "code",
   "execution_count": 57,
   "outputs": [
    {
     "data": {
      "text/plain": "LinearRegression()"
     },
     "execution_count": 57,
     "metadata": {},
     "output_type": "execute_result"
    }
   ],
   "source": [
    "# fit the training data\n",
    "lr.fit(X_train_prepared, y_train)"
   ],
   "metadata": {
    "collapsed": false,
    "pycharm": {
     "name": "#%%\n"
    }
   }
  },
  {
   "cell_type": "code",
   "execution_count": 58,
   "outputs": [],
   "source": [
    "# predict using training data\n",
    "lr_pred = lr.predict(X_tr_testing)"
   ],
   "metadata": {
    "collapsed": false,
    "pycharm": {
     "name": "#%%\n"
    }
   }
  },
  {
   "cell_type": "code",
   "execution_count": 59,
   "outputs": [
    {
     "name": "stdout",
     "output_type": "stream",
     "text": [
      "Predictions: [5162.96234286 3927.62313876 8187.32257224 4131.73052301 4473.68519118\n",
      " 4335.31400442 3362.78995206 1597.76703523 3878.89962701 8174.71523968]\n",
      "Labels: [15276, 11167, 5811, 3688, 1673, 9773, 2964, 362, 5050, 662]\n"
     ]
    }
   ],
   "source": [
    "# test on a few instances from training data\n",
    "some_data = X_train.iloc[:10]\n",
    "some_labels = y_train.iloc[:10]\n",
    "some_data_prepared = full_pipeline.transform(some_data)\n",
    "print(\"Predictions:\", lr.predict(some_data_prepared))\n",
    "print(\"Labels:\", list(some_labels))"
   ],
   "metadata": {
    "collapsed": false,
    "pycharm": {
     "name": "#%%\n"
    }
   }
  },
  {
   "cell_type": "code",
   "execution_count": 60,
   "outputs": [
    {
     "name": "stdout",
     "output_type": "stream",
     "text": [
      "Mean Squared Error: 52575760.100949846\n",
      "Root Mean Squared Error: 7250.91443205268\n",
      "Mean Absolute Error: 2562.482469548012\n"
     ]
    }
   ],
   "source": [
    "# use function to show results\n",
    "display_evaluation(y_train, lr_pred)"
   ],
   "metadata": {
    "collapsed": false,
    "pycharm": {
     "name": "#%%\n"
    }
   }
  },
  {
   "cell_type": "markdown",
   "source": [
    "##### Cross Validation for Linear Regression Model"
   ],
   "metadata": {
    "collapsed": false,
    "pycharm": {
     "name": "#%% md\n"
    }
   }
  },
  {
   "cell_type": "code",
   "execution_count": 61,
   "outputs": [
    {
     "name": "stdout",
     "output_type": "stream",
     "text": [
      "Scores: [ 4075.60234032 14249.17394043  6197.68650297  3306.67122948\n",
      "  4580.65056362  6588.77780558  9416.96783957  7441.23306139\n",
      "  6391.36852895  5816.38942049]\n",
      "Mean: 6806.4521232802335\n",
      "Standard deviation: 2980.646621981965\n"
     ]
    }
   ],
   "source": [
    "# 10 fold cross validation\n",
    "lr_scores = cross_val_score(lr, X_train_prepared, y_train, cv=10,\n",
    "                scoring=\"neg_mean_squared_error\", )\n",
    "\n",
    "# scoring function returns a negative value for MSE (need to add the minus)\n",
    "lr_rmse_scores = np.sqrt(-lr_scores)\n",
    "display_scores(lr_rmse_scores)"
   ],
   "metadata": {
    "collapsed": false,
    "pycharm": {
     "name": "#%%\n"
    }
   }
  },
  {
   "cell_type": "code",
   "execution_count": 62,
   "outputs": [],
   "source": [
    "# estimate prediction using cross validation\n",
    "lr_pred = cross_val_predict(lr, X_tr_testing, y_train, cv=10)"
   ],
   "metadata": {
    "collapsed": false,
    "pycharm": {
     "name": "#%%\n"
    }
   }
  },
  {
   "cell_type": "code",
   "execution_count": 63,
   "outputs": [
    {
     "name": "stdout",
     "output_type": "stream",
     "text": [
      "Predictions: [5162.96234286 3927.62313876 8187.32257224 4131.73052301 4473.68519118\n",
      " 4335.31400442 3362.78995206 1597.76703523 3878.89962701 8174.71523968]\n",
      "Labels: [15276, 11167, 5811, 3688, 1673, 9773, 2964, 362, 5050, 662]\n"
     ]
    }
   ],
   "source": [
    "# test on a few instances from training data\n",
    "some_data = X_train.iloc[:10]\n",
    "some_labels = y_train.iloc[:10]\n",
    "some_data_prepared = full_pipeline.transform(some_data)\n",
    "print(\"Predictions:\", lr.predict(some_data_prepared))\n",
    "print(\"Labels:\", list(some_labels))"
   ],
   "metadata": {
    "collapsed": false,
    "pycharm": {
     "name": "#%%\n"
    }
   }
  },
  {
   "cell_type": "code",
   "execution_count": 64,
   "outputs": [
    {
     "name": "stdout",
     "output_type": "stream",
     "text": [
      "Mean Squared Error: 55219319.93927403\n",
      "Root Mean Squared Error: 7430.970322863228\n",
      "Mean Absolute Error: 2592.196409514562\n"
     ]
    }
   ],
   "source": [
    "# use function to show results\n",
    "display_evaluation(y_train, lr_pred)"
   ],
   "metadata": {
    "collapsed": false,
    "pycharm": {
     "name": "#%%\n"
    }
   }
  },
  {
   "cell_type": "markdown",
   "source": [
    "#### Model 2: Random Forest Regressor"
   ],
   "metadata": {
    "collapsed": false,
    "pycharm": {
     "name": "#%% md\n"
    }
   }
  },
  {
   "cell_type": "code",
   "execution_count": 65,
   "outputs": [],
   "source": [
    "# instantiate model\n",
    "rfr = RandomForestRegressor(random_state=42)"
   ],
   "metadata": {
    "collapsed": false,
    "pycharm": {
     "name": "#%%\n"
    }
   }
  },
  {
   "cell_type": "code",
   "execution_count": 66,
   "outputs": [
    {
     "data": {
      "text/plain": "RandomForestRegressor(random_state=42)"
     },
     "execution_count": 66,
     "metadata": {},
     "output_type": "execute_result"
    }
   ],
   "source": [
    "# fit the training data\n",
    "rfr.fit(X_train_prepared, y_train)"
   ],
   "metadata": {
    "collapsed": false,
    "pycharm": {
     "name": "#%%\n"
    }
   }
  },
  {
   "cell_type": "code",
   "execution_count": 67,
   "outputs": [],
   "source": [
    "# predict using training data\n",
    "rfr_pred = rfr.predict(X_tr_testing)"
   ],
   "metadata": {
    "collapsed": false,
    "pycharm": {
     "name": "#%%\n"
    }
   }
  },
  {
   "cell_type": "code",
   "execution_count": 68,
   "outputs": [
    {
     "name": "stdout",
     "output_type": "stream",
     "text": [
      "Mean Squared Error: 7311529.899835733\n",
      "Root Mean Squared Error: 2703.9840790647663\n",
      "Mean Absolute Error: 854.7372330619174\n"
     ]
    }
   ],
   "source": [
    "# use function to show results\n",
    "display_evaluation(y_train, rfr_pred)"
   ],
   "metadata": {
    "collapsed": false,
    "pycharm": {
     "name": "#%%\n"
    }
   }
  },
  {
   "cell_type": "markdown",
   "source": [
    "> The Random Forest Regression model performed better than the linear regression model,\n",
    "> even after cross validation. The next step is to find the hyperparameters\n",
    "> that provide the best results.\n",
    ">\n",
    "> For this task we can use grid search cv. The grid search works by trying all parameter\n",
    "> combinations from the ones instantiated, then shows the best combination according to\n",
    "> the scores."
   ],
   "metadata": {
    "collapsed": false,
    "pycharm": {
     "name": "#%% md\n"
    }
   }
  },
  {
   "cell_type": "markdown",
   "source": [
    "#### Grid Search Cross Validation 1"
   ],
   "metadata": {
    "collapsed": false,
    "pycharm": {
     "name": "#%% md\n"
    }
   }
  },
  {
   "cell_type": "code",
   "execution_count": 69,
   "outputs": [],
   "source": [
    "# parameters for grid search\n",
    "param_grid = {\"n_estimators\": [10,50,100,500], \"max_features\":[2,4,8],\n",
    "              \"bootstrap\": [True, False]}"
   ],
   "metadata": {
    "collapsed": false,
    "pycharm": {
     "name": "#%%\n"
    }
   }
  },
  {
   "cell_type": "code",
   "execution_count": 70,
   "outputs": [],
   "source": [
    "# instantiate grid search\n",
    "grid_search = GridSearchCV(rfr, param_grid, cv=5,\n",
    "                           scoring=\"neg_mean_squared_error\",\n",
    "                           return_train_score=True)"
   ],
   "metadata": {
    "collapsed": false,
    "pycharm": {
     "name": "#%%\n"
    }
   }
  },
  {
   "cell_type": "code",
   "execution_count": 71,
   "outputs": [
    {
     "data": {
      "text/plain": "GridSearchCV(cv=5, estimator=RandomForestRegressor(random_state=42),\n             param_grid={'bootstrap': [True, False], 'max_features': [2, 4, 8],\n                         'n_estimators': [10, 50, 100, 500]},\n             return_train_score=True, scoring='neg_mean_squared_error')"
     },
     "execution_count": 71,
     "metadata": {},
     "output_type": "execute_result"
    }
   ],
   "source": [
    "# fit to the training data\n",
    "grid_search.fit(X_train_prepared, y_train)"
   ],
   "metadata": {
    "collapsed": false,
    "pycharm": {
     "name": "#%%\n"
    }
   }
  },
  {
   "cell_type": "code",
   "execution_count": 72,
   "outputs": [
    {
     "data": {
      "text/plain": "6708.086032713522"
     },
     "execution_count": 72,
     "metadata": {},
     "output_type": "execute_result"
    }
   ],
   "source": [
    "# show the best score\n",
    "np.sqrt(-grid_search.best_score_)"
   ],
   "metadata": {
    "collapsed": false,
    "pycharm": {
     "name": "#%%\n"
    }
   }
  },
  {
   "cell_type": "code",
   "execution_count": 73,
   "outputs": [
    {
     "data": {
      "text/plain": "RandomForestRegressor(max_features=4, random_state=42)"
     },
     "execution_count": 73,
     "metadata": {},
     "output_type": "execute_result"
    }
   ],
   "source": [
    "# show the best parameters\n",
    "grid_search.best_estimator_"
   ],
   "metadata": {
    "collapsed": false,
    "pycharm": {
     "name": "#%%\n"
    }
   }
  },
  {
   "cell_type": "code",
   "execution_count": 74,
   "outputs": [
    {
     "name": "stdout",
     "output_type": "stream",
     "text": [
      "7235.075536933335 {'bootstrap': True, 'max_features': 2, 'n_estimators': 10}\n",
      "6983.810814541545 {'bootstrap': True, 'max_features': 2, 'n_estimators': 50}\n",
      "6973.766880912973 {'bootstrap': True, 'max_features': 2, 'n_estimators': 100}\n",
      "6895.918966165327 {'bootstrap': True, 'max_features': 2, 'n_estimators': 500}\n",
      "6931.402544788081 {'bootstrap': True, 'max_features': 4, 'n_estimators': 10}\n",
      "6733.864506820534 {'bootstrap': True, 'max_features': 4, 'n_estimators': 50}\n",
      "6708.086032713522 {'bootstrap': True, 'max_features': 4, 'n_estimators': 100}\n",
      "6740.428512307033 {'bootstrap': True, 'max_features': 4, 'n_estimators': 500}\n",
      "7145.716849485809 {'bootstrap': True, 'max_features': 8, 'n_estimators': 10}\n",
      "6867.169074732817 {'bootstrap': True, 'max_features': 8, 'n_estimators': 50}\n",
      "6836.773619680845 {'bootstrap': True, 'max_features': 8, 'n_estimators': 100}\n",
      "6769.955538975476 {'bootstrap': True, 'max_features': 8, 'n_estimators': 500}\n",
      "7512.413935471035 {'bootstrap': False, 'max_features': 2, 'n_estimators': 10}\n",
      "7139.476608292283 {'bootstrap': False, 'max_features': 2, 'n_estimators': 50}\n",
      "7077.7526332493935 {'bootstrap': False, 'max_features': 2, 'n_estimators': 100}\n",
      "7011.332486601498 {'bootstrap': False, 'max_features': 2, 'n_estimators': 500}\n",
      "7239.311885125723 {'bootstrap': False, 'max_features': 4, 'n_estimators': 10}\n",
      "7207.984009774725 {'bootstrap': False, 'max_features': 4, 'n_estimators': 50}\n",
      "7167.082018136742 {'bootstrap': False, 'max_features': 4, 'n_estimators': 100}\n",
      "7103.898493473507 {'bootstrap': False, 'max_features': 4, 'n_estimators': 500}\n",
      "8006.7074246428165 {'bootstrap': False, 'max_features': 8, 'n_estimators': 10}\n",
      "7762.932382178735 {'bootstrap': False, 'max_features': 8, 'n_estimators': 50}\n",
      "7671.7629338770275 {'bootstrap': False, 'max_features': 8, 'n_estimators': 100}\n",
      "7743.12205990793 {'bootstrap': False, 'max_features': 8, 'n_estimators': 500}\n"
     ]
    }
   ],
   "source": [
    "# show results for each iteration\n",
    "cvres = grid_search.cv_results_\n",
    "for mean_score, params in zip(cvres[\"mean_test_score\"], cvres[\"params\"]):\n",
    "    print(np.sqrt(-mean_score), params)"
   ],
   "metadata": {
    "collapsed": false,
    "pycharm": {
     "name": "#%%\n"
    }
   }
  },
  {
   "cell_type": "markdown",
   "source": [
    "#### Model 3: Random Forest Regressor"
   ],
   "metadata": {
    "collapsed": false,
    "pycharm": {
     "name": "#%% md\n"
    }
   }
  },
  {
   "cell_type": "code",
   "execution_count": 75,
   "outputs": [
    {
     "data": {
      "text/plain": "RandomForestRegressor(max_features=4, random_state=42)"
     },
     "execution_count": 75,
     "metadata": {},
     "output_type": "execute_result"
    }
   ],
   "source": [
    "# instantiate model\n",
    "rfr = grid_search.best_estimator_\n",
    "rfr"
   ],
   "metadata": {
    "collapsed": false,
    "pycharm": {
     "name": "#%%\n"
    }
   }
  },
  {
   "cell_type": "code",
   "execution_count": 76,
   "outputs": [
    {
     "name": "stdout",
     "output_type": "stream",
     "text": [
      "Predictions: [13757.6   7398.65  6518.15  3400.07  4498.41  7513.68  2396.06   677.94\n",
      "  5097.51   982.14]\n",
      "Labels: [15276, 11167, 5811, 3688, 1673, 9773, 2964, 362, 5050, 662]\n"
     ]
    }
   ],
   "source": [
    "# test on a few instances from training data\n",
    "some_data = X_train.iloc[:10]\n",
    "some_labels = y_train.iloc[:10]\n",
    "some_data_prepared = full_pipeline.transform(some_data)\n",
    "print(\"Predictions:\", rfr.predict(some_data_prepared))\n",
    "print(\"Labels:\", list(some_labels))"
   ],
   "metadata": {
    "collapsed": false,
    "pycharm": {
     "name": "#%%\n"
    }
   }
  },
  {
   "cell_type": "code",
   "execution_count": 77,
   "outputs": [],
   "source": [
    "# predict using training data\n",
    "rfr_pred_2 = rfr.predict(X_tr_testing)"
   ],
   "metadata": {
    "collapsed": false,
    "pycharm": {
     "name": "#%%\n"
    }
   }
  },
  {
   "cell_type": "code",
   "execution_count": 78,
   "outputs": [
    {
     "name": "stdout",
     "output_type": "stream",
     "text": [
      "Mean Squared Error: 6510620.101597099\n",
      "Root Mean Squared Error: 2551.591680029761\n",
      "Mean Absolute Error: 814.3179414931407\n"
     ]
    }
   ],
   "source": [
    "# use function to show results\n",
    "display_evaluation(y_train, rfr_pred_2)"
   ],
   "metadata": {
    "collapsed": false,
    "pycharm": {
     "name": "#%%\n"
    }
   }
  },
  {
   "cell_type": "markdown",
   "source": [
    "#### Feature Importance"
   ],
   "metadata": {
    "collapsed": false,
    "pycharm": {
     "name": "#%% md\n"
    }
   }
  },
  {
   "cell_type": "code",
   "execution_count": 79,
   "outputs": [],
   "source": [
    "level_encoder = full_pipeline.named_transformers_[\"level\"]\n",
    "level_encoder_attribs = list(level_encoder.categories_[0])\n",
    "\n",
    "subject_encoder = full_pipeline.named_transformers_[\"subject\"]\n",
    "subject_encoder_attribs = list(subject_encoder.categories_[0])\n",
    "\n",
    "features_sub = num_features+level_encoder_attribs+subject_encoder_attribs+[\"is_paid\"]"
   ],
   "metadata": {
    "collapsed": false,
    "pycharm": {
     "name": "#%%\n"
    }
   }
  },
  {
   "cell_type": "code",
   "execution_count": 80,
   "outputs": [
    {
     "data": {
      "text/plain": "[(0.5942155860933445, 'num_reviews'),\n (0.12829633603869972, 'num_lectures'),\n (0.11495519866177327, 'content_duration'),\n (0.07380930202213762, 'price'),\n (0.03294790836094098, 'Graphic Design'),\n (0.026744326654528545, 'Beginner Level'),\n (0.016473505382837334, 'All Levels'),\n (0.005023797515605328, 'Business Finance'),\n (0.005013280978810641, 'Intermediate Level'),\n (0.0025207582913221874, 'Expert Level')]"
     },
     "execution_count": 80,
     "metadata": {},
     "output_type": "execute_result"
    }
   ],
   "source": [
    "# pair the feature names with the results from randomized search\n",
    "feature_importance = grid_search.best_estimator_.feature_importances_\n",
    "sorted(zip(feature_importance,features_sub), reverse=True)"
   ],
   "metadata": {
    "collapsed": false,
    "pycharm": {
     "name": "#%%\n"
    }
   }
  },
  {
   "cell_type": "markdown",
   "source": [
    "> Next, lets train a model without the parameters that have less than 0.05 feature importance\n",
    "> and compare the model performances.\n",
    ">\n",
    "> In this case, all categorical features will be removed."
   ],
   "metadata": {
    "collapsed": false,
    "pycharm": {
     "name": "#%% md\n"
    }
   }
  },
  {
   "cell_type": "code",
   "execution_count": 81,
   "outputs": [],
   "source": [
    "features_2 = num_features\n",
    "\n",
    "# column transformer with numerical attributes only\n",
    "full_pipeline_2 = ColumnTransformer([\n",
    "    (\"num\", MinMaxScaler(), num_features),\n",
    "])"
   ],
   "metadata": {
    "collapsed": false,
    "pycharm": {
     "name": "#%%\n"
    }
   }
  },
  {
   "cell_type": "code",
   "execution_count": 82,
   "outputs": [],
   "source": [
    "X_train_prepared_2 = full_pipeline_2.fit_transform(X_train)\n",
    "X_tr_testing_2 = full_pipeline_2.transform(X_train)"
   ],
   "metadata": {
    "collapsed": false,
    "pycharm": {
     "name": "#%%\n"
    }
   }
  },
  {
   "cell_type": "markdown",
   "source": [
    "#### Model 4: Random Forest Regressor"
   ],
   "metadata": {
    "collapsed": false,
    "pycharm": {
     "name": "#%% md\n"
    }
   }
  },
  {
   "cell_type": "code",
   "execution_count": 83,
   "outputs": [],
   "source": [
    "# instantiate model\n",
    "rfr = RandomForestRegressor(random_state=42)"
   ],
   "metadata": {
    "collapsed": false,
    "pycharm": {
     "name": "#%%\n"
    }
   }
  },
  {
   "cell_type": "code",
   "execution_count": 84,
   "outputs": [
    {
     "data": {
      "text/plain": "RandomForestRegressor(random_state=42)"
     },
     "execution_count": 84,
     "metadata": {},
     "output_type": "execute_result"
    }
   ],
   "source": [
    "# fit the training data\n",
    "rfr.fit(X_train_prepared_2, y_train)"
   ],
   "metadata": {
    "collapsed": false,
    "pycharm": {
     "name": "#%%\n"
    }
   }
  },
  {
   "cell_type": "code",
   "execution_count": 85,
   "outputs": [
    {
     "name": "stdout",
     "output_type": "stream",
     "text": [
      "Predictions: [10736.98        7031.71        6680.59        3054.18\n",
      "  4834.6         8360.4         2017.92166667  1147.05\n",
      "  6609.63         805.53666667]\n",
      "Labels: [15276, 11167, 5811, 3688, 1673, 9773, 2964, 362, 5050, 662]\n"
     ]
    }
   ],
   "source": [
    "# test on a few instances from training data\n",
    "some_data = X_train.iloc[:10]\n",
    "some_labels = y_train.iloc[:10]\n",
    "some_data_prepared = full_pipeline_2.transform(some_data)\n",
    "print(\"Predictions:\", rfr.predict(some_data_prepared))\n",
    "print(\"Labels:\", list(some_labels))"
   ],
   "metadata": {
    "collapsed": false,
    "pycharm": {
     "name": "#%%\n"
    }
   }
  },
  {
   "cell_type": "code",
   "execution_count": 86,
   "outputs": [],
   "source": [
    "# predict using training data\n",
    "rfr_pred_3 = rfr.predict(X_tr_testing_2)"
   ],
   "metadata": {
    "collapsed": false,
    "pycharm": {
     "name": "#%%\n"
    }
   }
  },
  {
   "cell_type": "code",
   "execution_count": 87,
   "outputs": [
    {
     "name": "stdout",
     "output_type": "stream",
     "text": [
      "Mean Squared Error: 7079518.998276917\n",
      "Root Mean Squared Error: 2660.7365518361485\n",
      "Mean Absolute Error: 878.4056691917964\n"
     ]
    }
   ],
   "source": [
    "# use function to show results\n",
    "display_evaluation(y_train, rfr_pred_3)"
   ],
   "metadata": {
    "collapsed": false,
    "pycharm": {
     "name": "#%%\n"
    }
   }
  },
  {
   "cell_type": "markdown",
   "source": [
    "#### Grid Search Cross Validation 2"
   ],
   "metadata": {
    "collapsed": false,
    "pycharm": {
     "name": "#%% md\n"
    }
   }
  },
  {
   "cell_type": "code",
   "execution_count": 88,
   "outputs": [],
   "source": [
    "# parameters for grid search\n",
    "param_grid_2 = {\"n_estimators\": [10,50,100,500], \"max_features\":[2,3,4],\n",
    "              \"bootstrap\": [True, False]}"
   ],
   "metadata": {
    "collapsed": false,
    "pycharm": {
     "name": "#%%\n"
    }
   }
  },
  {
   "cell_type": "code",
   "execution_count": 89,
   "outputs": [],
   "source": [
    "# instantiate grid search\n",
    "grid_search_2 = GridSearchCV(rfr, param_grid_2, cv=5,\n",
    "                           scoring=\"neg_mean_squared_error\",\n",
    "                           return_train_score=True)"
   ],
   "metadata": {
    "collapsed": false,
    "pycharm": {
     "name": "#%%\n"
    }
   }
  },
  {
   "cell_type": "code",
   "execution_count": 90,
   "outputs": [
    {
     "data": {
      "text/plain": "GridSearchCV(cv=5, estimator=RandomForestRegressor(random_state=42),\n             param_grid={'bootstrap': [True, False], 'max_features': [2, 3, 4],\n                         'n_estimators': [10, 50, 100, 500]},\n             return_train_score=True, scoring='neg_mean_squared_error')"
     },
     "execution_count": 90,
     "metadata": {},
     "output_type": "execute_result"
    }
   ],
   "source": [
    "# fit the training data\n",
    "grid_search_2.fit(X_train_prepared_2, y_train)"
   ],
   "metadata": {
    "collapsed": false,
    "pycharm": {
     "name": "#%%\n"
    }
   }
  },
  {
   "cell_type": "code",
   "execution_count": 91,
   "outputs": [
    {
     "data": {
      "text/plain": "6708.086032713522"
     },
     "execution_count": 91,
     "metadata": {},
     "output_type": "execute_result"
    }
   ],
   "source": [
    "# show the best score\n",
    "np.sqrt(-grid_search.best_score_)"
   ],
   "metadata": {
    "collapsed": false,
    "pycharm": {
     "name": "#%%\n"
    }
   }
  },
  {
   "cell_type": "code",
   "execution_count": 92,
   "outputs": [
    {
     "data": {
      "text/plain": "RandomForestRegressor(max_features=2, n_estimators=500, random_state=42)"
     },
     "execution_count": 92,
     "metadata": {},
     "output_type": "execute_result"
    }
   ],
   "source": [
    "# show the best parameters\n",
    "grid_search_2.best_estimator_"
   ],
   "metadata": {
    "collapsed": false,
    "pycharm": {
     "name": "#%%\n"
    }
   }
  },
  {
   "cell_type": "code",
   "execution_count": 93,
   "outputs": [
    {
     "name": "stdout",
     "output_type": "stream",
     "text": [
      "7161.488034024975 {'bootstrap': True, 'max_features': 2, 'n_estimators': 10}\n",
      "6863.261664285727 {'bootstrap': True, 'max_features': 2, 'n_estimators': 50}\n",
      "6797.153012864206 {'bootstrap': True, 'max_features': 2, 'n_estimators': 100}\n",
      "6770.916776090698 {'bootstrap': True, 'max_features': 2, 'n_estimators': 500}\n",
      "7011.589049790011 {'bootstrap': True, 'max_features': 3, 'n_estimators': 10}\n",
      "6880.469352145703 {'bootstrap': True, 'max_features': 3, 'n_estimators': 50}\n",
      "6898.787816438176 {'bootstrap': True, 'max_features': 3, 'n_estimators': 100}\n",
      "6799.534585227115 {'bootstrap': True, 'max_features': 3, 'n_estimators': 500}\n",
      "7200.429033392723 {'bootstrap': True, 'max_features': 4, 'n_estimators': 10}\n",
      "6946.069317467764 {'bootstrap': True, 'max_features': 4, 'n_estimators': 50}\n",
      "6996.322638664705 {'bootstrap': True, 'max_features': 4, 'n_estimators': 100}\n",
      "6974.138410670635 {'bootstrap': True, 'max_features': 4, 'n_estimators': 500}\n",
      "7604.932232860091 {'bootstrap': False, 'max_features': 2, 'n_estimators': 10}\n",
      "7400.335891115531 {'bootstrap': False, 'max_features': 2, 'n_estimators': 50}\n",
      "7371.356196624821 {'bootstrap': False, 'max_features': 2, 'n_estimators': 100}\n",
      "7320.277170900611 {'bootstrap': False, 'max_features': 2, 'n_estimators': 500}\n",
      "7874.396135776616 {'bootstrap': False, 'max_features': 3, 'n_estimators': 10}\n",
      "7732.454765778718 {'bootstrap': False, 'max_features': 3, 'n_estimators': 50}\n",
      "7857.131284693135 {'bootstrap': False, 'max_features': 3, 'n_estimators': 100}\n",
      "7802.847994760112 {'bootstrap': False, 'max_features': 3, 'n_estimators': 500}\n",
      "9334.83504832575 {'bootstrap': False, 'max_features': 4, 'n_estimators': 10}\n",
      "9267.886125191324 {'bootstrap': False, 'max_features': 4, 'n_estimators': 50}\n",
      "9311.1737789168 {'bootstrap': False, 'max_features': 4, 'n_estimators': 100}\n",
      "9329.783903063368 {'bootstrap': False, 'max_features': 4, 'n_estimators': 500}\n"
     ]
    }
   ],
   "source": [
    "# show results for each iteration\n",
    "cvres = grid_search_2.cv_results_\n",
    "for mean_score, params in zip(cvres[\"mean_test_score\"], cvres[\"params\"]):\n",
    "    print(np.sqrt(-mean_score), params)"
   ],
   "metadata": {
    "collapsed": false,
    "pycharm": {
     "name": "#%%\n"
    }
   }
  },
  {
   "cell_type": "markdown",
   "source": [
    "#### Model 5: Random Forest Regressor"
   ],
   "metadata": {
    "collapsed": false,
    "pycharm": {
     "name": "#%% md\n"
    }
   }
  },
  {
   "cell_type": "code",
   "execution_count": 94,
   "outputs": [
    {
     "data": {
      "text/plain": "RandomForestRegressor(max_features=2, n_estimators=500, random_state=42)"
     },
     "execution_count": 94,
     "metadata": {},
     "output_type": "execute_result"
    }
   ],
   "source": [
    "# instantiate model\n",
    "rfr_2 = grid_search_2.best_estimator_\n",
    "rfr_2"
   ],
   "metadata": {
    "collapsed": false,
    "pycharm": {
     "name": "#%%\n"
    }
   }
  },
  {
   "cell_type": "code",
   "execution_count": 95,
   "outputs": [
    {
     "name": "stdout",
     "output_type": "stream",
     "text": [
      "Predictions: [11987.91        7827.092       6605.662       3154.19\n",
      "  6002.392       7853.414       2083.67985952  1505.82\n",
      "  5926.706       1083.656     ]\n",
      "Labels: [15276, 11167, 5811, 3688, 1673, 9773, 2964, 362, 5050, 662]\n"
     ]
    }
   ],
   "source": [
    "# test on a few instances from training data\n",
    "some_data = X_train.iloc[:10]\n",
    "some_labels = y_train.iloc[:10]\n",
    "some_data_prepared = full_pipeline_2.transform(some_data)\n",
    "print(\"Predictions:\", rfr_2.predict(some_data_prepared))\n",
    "print(\"Labels:\", list(some_labels))"
   ],
   "metadata": {
    "collapsed": false,
    "pycharm": {
     "name": "#%%\n"
    }
   }
  },
  {
   "cell_type": "code",
   "execution_count": 96,
   "outputs": [],
   "source": [
    "# predict using training data\n",
    "rfr_pred_4 = rfr_2.predict(X_tr_testing_2)"
   ],
   "metadata": {
    "collapsed": false,
    "pycharm": {
     "name": "#%%\n"
    }
   }
  },
  {
   "cell_type": "code",
   "execution_count": 97,
   "outputs": [
    {
     "name": "stdout",
     "output_type": "stream",
     "text": [
      "Mean Squared Error: 6353054.58128841\n",
      "Root Mean Squared Error: 2520.5266476053\n",
      "Mean Absolute Error: 825.2432849063227\n"
     ]
    }
   ],
   "source": [
    "# use function to show results\n",
    "display_evaluation(y_train, rfr_pred_4)"
   ],
   "metadata": {
    "collapsed": false,
    "pycharm": {
     "name": "#%%\n"
    }
   }
  },
  {
   "cell_type": "markdown",
   "source": [
    "#### Dummy Regressor\n",
    "> The dummy regressor serves as an indication and comparison for model performance."
   ],
   "metadata": {
    "collapsed": false,
    "pycharm": {
     "name": "#%% md\n"
    }
   }
  },
  {
   "cell_type": "code",
   "execution_count": 98,
   "outputs": [],
   "source": [
    "# instantiate dummy regressor\n",
    "# predicts the mean for each instance\n",
    "dummy = DummyRegressor(strategy=\"mean\")"
   ],
   "metadata": {
    "collapsed": false,
    "pycharm": {
     "name": "#%%\n"
    }
   }
  },
  {
   "cell_type": "code",
   "execution_count": 99,
   "outputs": [
    {
     "data": {
      "text/plain": "DummyRegressor()"
     },
     "execution_count": 99,
     "metadata": {},
     "output_type": "execute_result"
    }
   ],
   "source": [
    "# fit the training set\n",
    "dummy.fit(X_train_prepared_2, y_train)"
   ],
   "metadata": {
    "collapsed": false,
    "pycharm": {
     "name": "#%%\n"
    }
   }
  },
  {
   "cell_type": "code",
   "execution_count": 100,
   "outputs": [],
   "source": [
    "# predict using dummy regressor\n",
    "dummy_pred = dummy.predict(X_train_prepared_2)"
   ],
   "metadata": {
    "collapsed": false,
    "pycharm": {
     "name": "#%%\n"
    }
   }
  },
  {
   "cell_type": "code",
   "execution_count": 101,
   "outputs": [
    {
     "name": "stdout",
     "output_type": "stream",
     "text": [
      "Mean Squared Error: 101041272.42203379\n",
      "Root Mean Squared Error: 10051.928791134256\n",
      "Mean Absolute Error: 3944.710333663244\n"
     ]
    }
   ],
   "source": [
    "# use function to show results\n",
    "display_evaluation(y_train, dummy_pred)"
   ],
   "metadata": {
    "collapsed": false,
    "pycharm": {
     "name": "#%%\n"
    }
   }
  },
  {
   "cell_type": "markdown",
   "source": [
    "> ### Overview:\n",
    ">> ####  Removing the categorical features even slightly improved the score.\n",
    ">> * The RMSE with all features was approximately 2551.\n",
    ">> * The RMSE with only the numerical features was approximately 2520.\n",
    ">> * The model is substantially better than the dummy regressor."
   ],
   "metadata": {
    "collapsed": false,
    "pycharm": {
     "name": "#%% md\n"
    }
   }
  },
  {
   "cell_type": "markdown",
   "source": [
    "## 5. Evaluate the Test Set"
   ],
   "metadata": {
    "collapsed": false
   }
  },
  {
   "cell_type": "code",
   "execution_count": 102,
   "outputs": [],
   "source": [
    "# separate test set predictors and labels\n",
    "X_test = test_set.drop(\"num_subscribers\", axis=1)\n",
    "y_test = test_set[\"num_subscribers\"].copy()"
   ],
   "metadata": {
    "collapsed": false,
    "pycharm": {
     "name": "#%%\n"
    }
   }
  },
  {
   "cell_type": "code",
   "execution_count": 103,
   "outputs": [
    {
     "data": {
      "text/plain": "RandomForestRegressor(max_features=2, n_estimators=500, random_state=42)"
     },
     "execution_count": 103,
     "metadata": {},
     "output_type": "execute_result"
    }
   ],
   "source": [
    "final_model = grid_search_2.best_estimator_\n",
    "final_model"
   ],
   "metadata": {
    "collapsed": false,
    "pycharm": {
     "name": "#%%\n"
    }
   }
  },
  {
   "cell_type": "code",
   "execution_count": 104,
   "outputs": [],
   "source": [
    "# transform test set\n",
    "X_test_prep = full_pipeline_2.transform(X_test)"
   ],
   "metadata": {
    "collapsed": false,
    "pycharm": {
     "name": "#%%\n"
    }
   }
  },
  {
   "cell_type": "code",
   "execution_count": 105,
   "outputs": [],
   "source": [
    "# predict test set\n",
    "final_predictions = final_model.predict(X_test_prep)"
   ],
   "metadata": {
    "collapsed": false,
    "pycharm": {
     "name": "#%%\n"
    }
   }
  },
  {
   "cell_type": "code",
   "execution_count": 106,
   "outputs": [
    {
     "name": "stdout",
     "output_type": "stream",
     "text": [
      "Mean Squared Error: 13472480.486066826\n",
      "Root Mean Squared Error: 3670.48777222685\n",
      "Mean Absolute Error: 1857.3933067393657\n"
     ]
    }
   ],
   "source": [
    "# evaluate predictions\n",
    "display_evaluation(y_test, final_predictions)"
   ],
   "metadata": {
    "collapsed": false,
    "pycharm": {
     "name": "#%%\n"
    }
   }
  },
  {
   "cell_type": "markdown",
   "source": [
    "> #### Resources:\n",
    "> 1. Udemy Courses Dataset <a href=\"https://www.kaggle.com/andrewmvd/udemy-courses\"\n",
    "> title=\"Kaggle\">link</a>\n",
    "> 2. Random Forest Article <a href=\"https://towardsdatascience.com/an-implementation-and-\n",
    "> explanation-of-the-random-forest-in-python-77bf308a9b76\" title=\"towardsdatascience\">link</a>"
   ],
   "metadata": {
    "collapsed": false,
    "pycharm": {
     "name": "#%% md\n"
    }
   }
  },
  {
   "cell_type": "markdown",
   "source": [],
   "metadata": {
    "collapsed": false,
    "pycharm": {
     "name": "#%% md\n"
    }
   }
  }
 ],
 "metadata": {
  "kernelspec": {
   "display_name": "PyCharm (1SA-Final-Project)",
   "language": "python",
   "name": "pycharm-6b1cb0de"
  },
  "language_info": {
   "codemirror_mode": {
    "name": "ipython",
    "version": 2
   },
   "file_extension": ".py",
   "mimetype": "text/x-python",
   "name": "python",
   "nbconvert_exporter": "python",
   "pygments_lexer": "ipython2",
   "version": "2.7.6"
  }
 },
 "nbformat": 4,
 "nbformat_minor": 0
}