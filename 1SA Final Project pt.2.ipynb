{
 "cells": [
  {
   "cell_type": "markdown",
   "metadata": {},
   "source": [
    "<h1><center>Data Science Project</center></h1>\n",
    "<h2><center>Part 2</center></h2>"
   ]
  },
  {
   "cell_type": "markdown",
   "metadata": {},
   "source": [
    "## Question 1:"
   ]
  },
  {
   "cell_type": "code",
   "execution_count": 1,
   "metadata": {},
   "outputs": [],
   "source": [
    "def bases(num):\n",
    "    curr = num\n",
    "    binary = \"\"\n",
    "    while(curr>0):\n",
    "        temp = curr%2\n",
    "        binary = str(temp) + binary\n",
    "        curr=curr//2\n",
    "        \n",
    "    curr = num\n",
    "    octal = \"\"\n",
    "    while(curr>0):\n",
    "        temp = curr%8\n",
    "        if(temp<9):\n",
    "            octal = str(temp) + octal\n",
    "        curr=curr//8\n",
    "        \n",
    "    curr = num\n",
    "    hexa = \"\"\n",
    "    dict = {10: 'A', 11: 'B', 12: 'C', 13: 'D', 14: 'E', 15: 'F'}\n",
    "    while(curr>0):\n",
    "        temp = curr%16\n",
    "        if(temp<9):\n",
    "            hexa = str(temp) + hexa\n",
    "        if(temp>9 and temp<16):\n",
    "            hexa = dict[temp] + hexa\n",
    "        curr = curr//16\n",
    "        \n",
    "    return \"Binary: \" + binary, \"Octal: \" + octal, \"Hex: \" + hexa"
   ]
  },
  {
   "cell_type": "code",
   "execution_count": 2,
   "metadata": {},
   "outputs": [
    {
     "data": {
      "text/plain": [
       "('Binary: 1010', 'Octal: 12', 'Hex: A')"
      ]
     },
     "execution_count": 2,
     "metadata": {},
     "output_type": "execute_result"
    }
   ],
   "source": [
    "bases(10)"
   ]
  },
  {
   "cell_type": "markdown",
   "source": [
    "#### Using Python Functions:"
   ],
   "metadata": {
    "collapsed": false,
    "pycharm": {
     "name": "#%% md\n"
    }
   }
  },
  {
   "cell_type": "code",
   "execution_count": 7,
   "metadata": {},
   "outputs": [],
   "source": [
    "def bases2(n):\n",
    "    return \"Binary: \" + bin(n), \"Octal: \" + oct(n), \"Hex: \" + hex(n)"
   ]
  },
  {
   "cell_type": "code",
   "execution_count": 6,
   "outputs": [
    {
     "data": {
      "text/plain": "('Binary: 0b1010', 'Octal: 0o12', 'Hex: 0xa')"
     },
     "execution_count": 6,
     "metadata": {},
     "output_type": "execute_result"
    }
   ],
   "source": [
    "bases2(10)"
   ],
   "metadata": {
    "collapsed": false,
    "pycharm": {
     "name": "#%%\n"
    }
   }
  },
  {
   "cell_type": "code",
   "execution_count": null,
   "outputs": [],
   "source": [],
   "metadata": {
    "collapsed": false,
    "pycharm": {
     "name": "#%%\n"
    }
   }
  }
 ],
 "metadata": {
  "kernelspec": {
   "display_name": "Python 3",
   "language": "python",
   "name": "python3"
  },
  "language_info": {
   "codemirror_mode": {
    "name": "ipython",
    "version": 3
   },
   "file_extension": ".py",
   "mimetype": "text/x-python",
   "name": "python",
   "nbconvert_exporter": "python",
   "pygments_lexer": "ipython3",
   "version": "3.8.3"
  }
 },
 "nbformat": 4,
 "nbformat_minor": 4
}