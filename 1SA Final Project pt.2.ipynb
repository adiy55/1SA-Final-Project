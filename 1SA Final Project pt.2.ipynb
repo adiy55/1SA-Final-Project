{
 "cells": [
  {
   "cell_type": "markdown",
   "metadata": {},
   "source": [
    "<h1><center>Data Science Project</center></h1>\n",
    "<h2><center>Part 2</center></h2>"
   ]
  },
  {
   "cell_type": "markdown",
   "metadata": {},
   "source": [
    "## Question 1:"
   ]
  },
  {
   "cell_type": "code",
   "execution_count": 1,
   "metadata": {},
   "outputs": [],
   "source": [
    "def bases(num):\n",
    "    curr = num\n",
    "    binary = \"\"\n",
    "    while(curr>0):\n",
    "        temp = curr%2\n",
    "        binary = str(temp) + binary\n",
    "        curr=curr//2\n",
    "        \n",
    "    curr = num\n",
    "    octal = \"\"\n",
    "    while(curr>0):\n",
    "        temp = curr%8\n",
    "        if(temp<9):\n",
    "            octal = str(temp) + octal\n",
    "        curr=curr//8\n",
    "        \n",
    "    curr = num\n",
    "    hexa = \"\"\n",
    "    dict = {10: 'A', 11: 'B', 12: 'C', 13: 'D', 14: 'E', 15: 'F'}\n",
    "    while(curr>0):\n",
    "        temp = curr%16\n",
    "        if(temp<9):\n",
    "            hexa = str(temp) + hexa\n",
    "        if(temp>9 and temp<16):\n",
    "            hexa = dict[temp] + hexa\n",
    "        curr = curr//16\n",
    "        \n",
    "    return \"Binary: \" + binary, \"Octal: \" + octal, \"Hex: \" + hexa"
   ]
  },
  {
   "cell_type": "code",
   "execution_count": 2,
   "metadata": {},
   "outputs": [
    {
     "data": {
      "text/plain": "('Binary: 1010', 'Octal: 12', 'Hex: A')"
     },
     "execution_count": 2,
     "metadata": {},
     "output_type": "execute_result"
    }
   ],
   "source": [
    "bases(10)"
   ]
  },
  {
   "cell_type": "markdown",
   "source": [
    "#### Using Python Functions:"
   ],
   "metadata": {
    "collapsed": false,
    "pycharm": {
     "name": "#%% md\n"
    }
   }
  },
  {
   "cell_type": "code",
   "execution_count": 3,
   "metadata": {},
   "outputs": [],
   "source": [
    "def bases2(n):\n",
    "    return \"Binary: \" + bin(n), \"Octal: \" + oct(n), \"Hex: \" + hex(n)"
   ]
  },
  {
   "cell_type": "code",
   "execution_count": 4,
   "outputs": [
    {
     "data": {
      "text/plain": "('Binary: 0b1010', 'Octal: 0o12', 'Hex: 0xa')"
     },
     "execution_count": 4,
     "metadata": {},
     "output_type": "execute_result"
    }
   ],
   "source": [
    "bases2(10)"
   ],
   "metadata": {
    "collapsed": false,
    "pycharm": {
     "name": "#%%\n"
    }
   }
  },
  {
   "cell_type": "markdown",
   "source": [
    "<h2><center>Cast Dataset</center></h2>"
   ],
   "metadata": {
    "collapsed": false
   }
  },
  {
   "cell_type": "code",
   "execution_count": 5,
   "outputs": [],
   "source": [
    "import pandas as pd"
   ],
   "metadata": {
    "collapsed": false,
    "pycharm": {
     "name": "#%%\n"
    }
   }
  },
  {
   "cell_type": "code",
   "execution_count": 6,
   "outputs": [
    {
     "data": {
      "text/plain": "                               title  year       name   type character     n\n0                    Suuri illusioni  1985     Homo $  actor    Guests  22.0\n1     Gangsta Rap: The Glockumentary  2007  Too $hort  actor   Himself   NaN\n2                  Menace II Society  1993  Too $hort  actor   Lew-Loc  27.0\n3  Porndogs: The Adventures of Sadie  2009  Too $hort  actor     Bosco   3.0\n4                 Stop Pepper Palmer  2014  Too $hort  actor   Himself   NaN",
      "text/html": "<div>\n<style scoped>\n    .dataframe tbody tr th:only-of-type {\n        vertical-align: middle;\n    }\n\n    .dataframe tbody tr th {\n        vertical-align: top;\n    }\n\n    .dataframe thead th {\n        text-align: right;\n    }\n</style>\n<table border=\"1\" class=\"dataframe\">\n  <thead>\n    <tr style=\"text-align: right;\">\n      <th></th>\n      <th>title</th>\n      <th>year</th>\n      <th>name</th>\n      <th>type</th>\n      <th>character</th>\n      <th>n</th>\n    </tr>\n  </thead>\n  <tbody>\n    <tr>\n      <th>0</th>\n      <td>Suuri illusioni</td>\n      <td>1985</td>\n      <td>Homo $</td>\n      <td>actor</td>\n      <td>Guests</td>\n      <td>22.0</td>\n    </tr>\n    <tr>\n      <th>1</th>\n      <td>Gangsta Rap: The Glockumentary</td>\n      <td>2007</td>\n      <td>Too $hort</td>\n      <td>actor</td>\n      <td>Himself</td>\n      <td>NaN</td>\n    </tr>\n    <tr>\n      <th>2</th>\n      <td>Menace II Society</td>\n      <td>1993</td>\n      <td>Too $hort</td>\n      <td>actor</td>\n      <td>Lew-Loc</td>\n      <td>27.0</td>\n    </tr>\n    <tr>\n      <th>3</th>\n      <td>Porndogs: The Adventures of Sadie</td>\n      <td>2009</td>\n      <td>Too $hort</td>\n      <td>actor</td>\n      <td>Bosco</td>\n      <td>3.0</td>\n    </tr>\n    <tr>\n      <th>4</th>\n      <td>Stop Pepper Palmer</td>\n      <td>2014</td>\n      <td>Too $hort</td>\n      <td>actor</td>\n      <td>Himself</td>\n      <td>NaN</td>\n    </tr>\n  </tbody>\n</table>\n</div>"
     },
     "execution_count": 6,
     "metadata": {},
     "output_type": "execute_result"
    }
   ],
   "source": [
    "cast = pd.read_csv('cast.csv')\n",
    "cast.head()"
   ],
   "metadata": {
    "collapsed": false,
    "pycharm": {
     "name": "#%%\n"
    }
   }
  },
  {
   "cell_type": "markdown",
   "source": [
    "> ## Question 1\n",
    "> How many movies have the title \"Hamlet\"?"
   ],
   "metadata": {
    "collapsed": false,
    "pycharm": {
     "name": "#%% md\n"
    }
   }
  },
  {
   "cell_type": "code",
   "execution_count": 7,
   "outputs": [
    {
     "data": {
      "text/plain": "299"
     },
     "execution_count": 7,
     "metadata": {},
     "output_type": "execute_result"
    }
   ],
   "source": [
    "cast.title[cast.title=='Hamlet'].count()"
   ],
   "metadata": {
    "collapsed": false,
    "pycharm": {
     "name": "#%%\n"
    }
   }
  },
  {
   "cell_type": "code",
   "execution_count": 8,
   "outputs": [
    {
     "data": {
      "text/plain": "          title  year              name     type              character     n\n1456     Hamlet  1996        Riz Abbasi    actor  Attendant to Claudius   1.0\n6710     Hamlet  1921  Fritz Achterberg    actor            Fortinbras,   9.0\n10274    Hamlet  2009      Hayden Adams    actor                Laertes   7.0\n10275    Hamlet  2009      Hayden Adams    actor                 Player   7.0\n12743    Hamlet  1913       Eric Adeney    actor               Reynaldo  14.0\n...         ...   ...               ...      ...                    ...   ...\n3212647  Hamlet  1964      Carol Teitel  actress                   Lady   NaN\n3236803  Hamlet  1969    Jennifer Tudor  actress             Court lady  23.0\n3257437  Hamlet  2000      Diane Venora  actress               Gertrude   3.0\n3284728  Hamlet  1996     Perdita Weeks  actress          Second Player  44.0\n3304265  Hamlet  1996      Kate Winslet  actress                Ophelia  46.0\n\n[299 rows x 6 columns]",
      "text/html": "<div>\n<style scoped>\n    .dataframe tbody tr th:only-of-type {\n        vertical-align: middle;\n    }\n\n    .dataframe tbody tr th {\n        vertical-align: top;\n    }\n\n    .dataframe thead th {\n        text-align: right;\n    }\n</style>\n<table border=\"1\" class=\"dataframe\">\n  <thead>\n    <tr style=\"text-align: right;\">\n      <th></th>\n      <th>title</th>\n      <th>year</th>\n      <th>name</th>\n      <th>type</th>\n      <th>character</th>\n      <th>n</th>\n    </tr>\n  </thead>\n  <tbody>\n    <tr>\n      <th>1456</th>\n      <td>Hamlet</td>\n      <td>1996</td>\n      <td>Riz Abbasi</td>\n      <td>actor</td>\n      <td>Attendant to Claudius</td>\n      <td>1.0</td>\n    </tr>\n    <tr>\n      <th>6710</th>\n      <td>Hamlet</td>\n      <td>1921</td>\n      <td>Fritz Achterberg</td>\n      <td>actor</td>\n      <td>Fortinbras,</td>\n      <td>9.0</td>\n    </tr>\n    <tr>\n      <th>10274</th>\n      <td>Hamlet</td>\n      <td>2009</td>\n      <td>Hayden Adams</td>\n      <td>actor</td>\n      <td>Laertes</td>\n      <td>7.0</td>\n    </tr>\n    <tr>\n      <th>10275</th>\n      <td>Hamlet</td>\n      <td>2009</td>\n      <td>Hayden Adams</td>\n      <td>actor</td>\n      <td>Player</td>\n      <td>7.0</td>\n    </tr>\n    <tr>\n      <th>12743</th>\n      <td>Hamlet</td>\n      <td>1913</td>\n      <td>Eric Adeney</td>\n      <td>actor</td>\n      <td>Reynaldo</td>\n      <td>14.0</td>\n    </tr>\n    <tr>\n      <th>...</th>\n      <td>...</td>\n      <td>...</td>\n      <td>...</td>\n      <td>...</td>\n      <td>...</td>\n      <td>...</td>\n    </tr>\n    <tr>\n      <th>3212647</th>\n      <td>Hamlet</td>\n      <td>1964</td>\n      <td>Carol Teitel</td>\n      <td>actress</td>\n      <td>Lady</td>\n      <td>NaN</td>\n    </tr>\n    <tr>\n      <th>3236803</th>\n      <td>Hamlet</td>\n      <td>1969</td>\n      <td>Jennifer Tudor</td>\n      <td>actress</td>\n      <td>Court lady</td>\n      <td>23.0</td>\n    </tr>\n    <tr>\n      <th>3257437</th>\n      <td>Hamlet</td>\n      <td>2000</td>\n      <td>Diane Venora</td>\n      <td>actress</td>\n      <td>Gertrude</td>\n      <td>3.0</td>\n    </tr>\n    <tr>\n      <th>3284728</th>\n      <td>Hamlet</td>\n      <td>1996</td>\n      <td>Perdita Weeks</td>\n      <td>actress</td>\n      <td>Second Player</td>\n      <td>44.0</td>\n    </tr>\n    <tr>\n      <th>3304265</th>\n      <td>Hamlet</td>\n      <td>1996</td>\n      <td>Kate Winslet</td>\n      <td>actress</td>\n      <td>Ophelia</td>\n      <td>46.0</td>\n    </tr>\n  </tbody>\n</table>\n<p>299 rows × 6 columns</p>\n</div>"
     },
     "execution_count": 8,
     "metadata": {},
     "output_type": "execute_result"
    }
   ],
   "source": [
    "cast.loc[cast['title']=='Hamlet']"
   ],
   "metadata": {
    "collapsed": false,
    "pycharm": {
     "name": "#%%\n"
    }
   }
  },
  {
   "cell_type": "markdown",
   "source": [
    "> ## Question 2\n",
    "> List all the \"Treasure Island\" movies from earliest to most recent."
   ],
   "metadata": {
    "collapsed": false,
    "pycharm": {
     "name": "#%% md\n"
    }
   }
  },
  {
   "cell_type": "code",
   "execution_count": 9,
   "outputs": [
    {
     "data": {
      "text/plain": "                  title  year                name   type         character  \\\n313097  Treasure Island  1918   Francis Carpenter  actor       Jim Hawkins   \n345942  Treasure Island  1920          Lon Chaney  actor        Blind Pew    \n8570    Treasure Island  1934        Robert Adair  actor      Tom - Seaman   \n12141   Treasure Island  1950        Chris Adcock  actor              Pike   \n38151   Treasure Island  1972  Cristino Almod?var  actor           O'Brien   \n484325  Treasure Island  1973      Richard Dawson  actor  Long John Silver   \n14899   Treasure Island  1985         Yves Afonso  actor    French captain   \n104905  Treasure Island  1999    Lance (II) Baker  actor             Frank   \n\n           n  \n313097   1.0  \n345942   5.0  \n8570     NaN  \n12141   26.0  \n38151   18.0  \n484325   1.0  \n14899    8.0  \n104905   1.0  ",
      "text/html": "<div>\n<style scoped>\n    .dataframe tbody tr th:only-of-type {\n        vertical-align: middle;\n    }\n\n    .dataframe tbody tr th {\n        vertical-align: top;\n    }\n\n    .dataframe thead th {\n        text-align: right;\n    }\n</style>\n<table border=\"1\" class=\"dataframe\">\n  <thead>\n    <tr style=\"text-align: right;\">\n      <th></th>\n      <th>title</th>\n      <th>year</th>\n      <th>name</th>\n      <th>type</th>\n      <th>character</th>\n      <th>n</th>\n    </tr>\n  </thead>\n  <tbody>\n    <tr>\n      <th>313097</th>\n      <td>Treasure Island</td>\n      <td>1918</td>\n      <td>Francis Carpenter</td>\n      <td>actor</td>\n      <td>Jim Hawkins</td>\n      <td>1.0</td>\n    </tr>\n    <tr>\n      <th>345942</th>\n      <td>Treasure Island</td>\n      <td>1920</td>\n      <td>Lon Chaney</td>\n      <td>actor</td>\n      <td>Blind Pew</td>\n      <td>5.0</td>\n    </tr>\n    <tr>\n      <th>8570</th>\n      <td>Treasure Island</td>\n      <td>1934</td>\n      <td>Robert Adair</td>\n      <td>actor</td>\n      <td>Tom - Seaman</td>\n      <td>NaN</td>\n    </tr>\n    <tr>\n      <th>12141</th>\n      <td>Treasure Island</td>\n      <td>1950</td>\n      <td>Chris Adcock</td>\n      <td>actor</td>\n      <td>Pike</td>\n      <td>26.0</td>\n    </tr>\n    <tr>\n      <th>38151</th>\n      <td>Treasure Island</td>\n      <td>1972</td>\n      <td>Cristino Almod?var</td>\n      <td>actor</td>\n      <td>O'Brien</td>\n      <td>18.0</td>\n    </tr>\n    <tr>\n      <th>484325</th>\n      <td>Treasure Island</td>\n      <td>1973</td>\n      <td>Richard Dawson</td>\n      <td>actor</td>\n      <td>Long John Silver</td>\n      <td>1.0</td>\n    </tr>\n    <tr>\n      <th>14899</th>\n      <td>Treasure Island</td>\n      <td>1985</td>\n      <td>Yves Afonso</td>\n      <td>actor</td>\n      <td>French captain</td>\n      <td>8.0</td>\n    </tr>\n    <tr>\n      <th>104905</th>\n      <td>Treasure Island</td>\n      <td>1999</td>\n      <td>Lance (II) Baker</td>\n      <td>actor</td>\n      <td>Frank</td>\n      <td>1.0</td>\n    </tr>\n  </tbody>\n</table>\n</div>"
     },
     "execution_count": 9,
     "metadata": {},
     "output_type": "execute_result"
    }
   ],
   "source": [
    "cast.loc[cast['title']=='Treasure Island'].drop_duplicates(subset = 'year').sort_values(by = 'year')"
   ],
   "metadata": {
    "collapsed": false,
    "pycharm": {
     "name": "#%%\n"
    }
   }
  },
  {
   "cell_type": "markdown",
   "source": [
    "> ## Question 3\n",
    "> How many roles were credited in the silent 1921 version of Hamlet?"
   ],
   "metadata": {
    "collapsed": false,
    "pycharm": {
     "name": "#%% md\n"
    }
   }
  },
  {
   "cell_type": "code",
   "execution_count": 10,
   "outputs": [
    {
     "data": {
      "text/plain": "          title  year                    name     type         character    n\n6710     Hamlet  1921        Fritz Achterberg    actor       Fortinbras,  9.0\n408456   Hamlet  1921            Paul Conradi    actor      K?nig Hamlet  2.0\n495468   Hamlet  1921        Anton De Verdier    actor           Laertes  7.0\n1015046  Hamlet  1921         Hans Junkermann    actor          Polonius  6.0\n1948795  Hamlet  1921            Heinz Stieda    actor           Horatio  5.0\n2116906  Hamlet  1921  Eduard von Winterstein    actor          Claudius  4.0\n2370048  Hamlet  1921         Mathilde Brandt  actress  K?nigin Gertrude  3.0\n2713980  Hamlet  1921          Lilly Jacobson  actress           Ophelia  8.0\n2964897  Hamlet  1921            Asta Nielsen  actress            Hamlet  1.0",
      "text/html": "<div>\n<style scoped>\n    .dataframe tbody tr th:only-of-type {\n        vertical-align: middle;\n    }\n\n    .dataframe tbody tr th {\n        vertical-align: top;\n    }\n\n    .dataframe thead th {\n        text-align: right;\n    }\n</style>\n<table border=\"1\" class=\"dataframe\">\n  <thead>\n    <tr style=\"text-align: right;\">\n      <th></th>\n      <th>title</th>\n      <th>year</th>\n      <th>name</th>\n      <th>type</th>\n      <th>character</th>\n      <th>n</th>\n    </tr>\n  </thead>\n  <tbody>\n    <tr>\n      <th>6710</th>\n      <td>Hamlet</td>\n      <td>1921</td>\n      <td>Fritz Achterberg</td>\n      <td>actor</td>\n      <td>Fortinbras,</td>\n      <td>9.0</td>\n    </tr>\n    <tr>\n      <th>408456</th>\n      <td>Hamlet</td>\n      <td>1921</td>\n      <td>Paul Conradi</td>\n      <td>actor</td>\n      <td>K?nig Hamlet</td>\n      <td>2.0</td>\n    </tr>\n    <tr>\n      <th>495468</th>\n      <td>Hamlet</td>\n      <td>1921</td>\n      <td>Anton De Verdier</td>\n      <td>actor</td>\n      <td>Laertes</td>\n      <td>7.0</td>\n    </tr>\n    <tr>\n      <th>1015046</th>\n      <td>Hamlet</td>\n      <td>1921</td>\n      <td>Hans Junkermann</td>\n      <td>actor</td>\n      <td>Polonius</td>\n      <td>6.0</td>\n    </tr>\n    <tr>\n      <th>1948795</th>\n      <td>Hamlet</td>\n      <td>1921</td>\n      <td>Heinz Stieda</td>\n      <td>actor</td>\n      <td>Horatio</td>\n      <td>5.0</td>\n    </tr>\n    <tr>\n      <th>2116906</th>\n      <td>Hamlet</td>\n      <td>1921</td>\n      <td>Eduard von Winterstein</td>\n      <td>actor</td>\n      <td>Claudius</td>\n      <td>4.0</td>\n    </tr>\n    <tr>\n      <th>2370048</th>\n      <td>Hamlet</td>\n      <td>1921</td>\n      <td>Mathilde Brandt</td>\n      <td>actress</td>\n      <td>K?nigin Gertrude</td>\n      <td>3.0</td>\n    </tr>\n    <tr>\n      <th>2713980</th>\n      <td>Hamlet</td>\n      <td>1921</td>\n      <td>Lilly Jacobson</td>\n      <td>actress</td>\n      <td>Ophelia</td>\n      <td>8.0</td>\n    </tr>\n    <tr>\n      <th>2964897</th>\n      <td>Hamlet</td>\n      <td>1921</td>\n      <td>Asta Nielsen</td>\n      <td>actress</td>\n      <td>Hamlet</td>\n      <td>1.0</td>\n    </tr>\n  </tbody>\n</table>\n</div>"
     },
     "execution_count": 10,
     "metadata": {},
     "output_type": "execute_result"
    }
   ],
   "source": [
    "cast[(cast['year']==1921) & (cast['title']=='Hamlet')]"
   ],
   "metadata": {
    "collapsed": false,
    "pycharm": {
     "name": "#%%\n"
    }
   }
  },
  {
   "cell_type": "markdown",
   "source": [
    "> ## Question 4\n",
    "> Use groupby() to plot the number of \"Hamlet\" films made each decade."
   ],
   "metadata": {
    "collapsed": false,
    "pycharm": {
     "name": "#%% md\n"
    }
   }
  },
  {
   "cell_type": "code",
   "execution_count": 11,
   "outputs": [],
   "source": [
    "import matplotlib.pyplot as plt\n",
    "import seaborn as sns\n",
    "%matplotlib inline"
   ],
   "metadata": {
    "collapsed": false,
    "pycharm": {
     "name": "#%%\n"
    }
   }
  },
  {
   "cell_type": "code",
   "execution_count": 12,
   "outputs": [],
   "source": [
    "cast_years = cast.groupby(by=\"title\")"
   ],
   "metadata": {
    "collapsed": false,
    "pycharm": {
     "name": "#%%\n"
    }
   }
  },
  {
   "cell_type": "code",
   "execution_count": 13,
   "outputs": [],
   "source": [
    "cast_years_hamlet = cast_years.get_group(\"Hamlet\")"
   ],
   "metadata": {
    "collapsed": false,
    "pycharm": {
     "name": "#%%\n"
    }
   }
  },
  {
   "cell_type": "code",
   "execution_count": 14,
   "outputs": [
    {
     "data": {
      "text/plain": "1910     1\n1911     6\n1913    21\n1921     9\n1948    25\n1954     1\n1964    33\n1969    24\n1973     8\n1976    11\n1987     3\n1990    29\n1996    55\n2000    38\n2009    17\n2011    12\n2015     6\nName: year, dtype: int64"
     },
     "execution_count": 14,
     "metadata": {},
     "output_type": "execute_result"
    }
   ],
   "source": [
    "cast_years_hamlet[\"year\"].value_counts().sort_index()"
   ],
   "metadata": {
    "collapsed": false,
    "pycharm": {
     "name": "#%%\n"
    }
   }
  },
  {
   "cell_type": "code",
   "execution_count": 15,
   "outputs": [],
   "source": [
    "hamlet_years_1910 = len(cast_years_hamlet[(cast_years_hamlet[\"year\"]>=1910) & (cast_years_hamlet[\"year\"]<=1919)])\n",
    "hamlet_years_1920 = len(cast_years_hamlet[(cast_years_hamlet[\"year\"]>=1920) & (cast_years_hamlet[\"year\"]<=1929)])\n",
    "hamlet_years_1930 = len(cast_years_hamlet[(cast_years_hamlet[\"year\"]>=1930) & (cast_years_hamlet[\"year\"]<=1939)])\n",
    "hamlet_years_1940 = len(cast_years_hamlet[(cast_years_hamlet[\"year\"]>=1940) & (cast_years_hamlet[\"year\"]<=1949)])\n",
    "hamlet_years_1950 = len(cast_years_hamlet[(cast_years_hamlet[\"year\"]>=1950) & (cast_years_hamlet[\"year\"]<=1959)])\n",
    "hamlet_years_1960 = len(cast_years_hamlet[(cast_years_hamlet[\"year\"]>=1960) & (cast_years_hamlet[\"year\"]<=1969)])\n",
    "hamlet_years_1970 = len(cast_years_hamlet[(cast_years_hamlet[\"year\"]>=1970) & (cast_years_hamlet[\"year\"]<=1979)])\n",
    "hamlet_years_1980 = len(cast_years_hamlet[(cast_years_hamlet[\"year\"]>=1980) & (cast_years_hamlet[\"year\"]<=1989)])\n",
    "hamlet_years_1990 = len(cast_years_hamlet[(cast_years_hamlet[\"year\"]>=1990) & (cast_years_hamlet[\"year\"]<=1999)])\n",
    "hamlet_years_2000 = len(cast_years_hamlet[(cast_years_hamlet[\"year\"]>=2000) & (cast_years_hamlet[\"year\"]<=2009)])\n",
    "hamlet_years_2010 = len(cast_years_hamlet[(cast_years_hamlet[\"year\"]>=2010) & (cast_years_hamlet[\"year\"]<=2019)])"
   ],
   "metadata": {
    "collapsed": false,
    "pycharm": {
     "name": "#%%\n"
    }
   }
  },
  {
   "cell_type": "code",
   "execution_count": 16,
   "outputs": [],
   "source": [
    "decades = {1910: hamlet_years_1910,\n",
    "           1920: hamlet_years_1920,\n",
    "           1930: hamlet_years_1930,\n",
    "           1940: hamlet_years_1940,\n",
    "           1950: hamlet_years_1950,\n",
    "           1960: hamlet_years_1960,\n",
    "           1970: hamlet_years_1970,\n",
    "           1980: hamlet_years_1980,\n",
    "           1990: hamlet_years_1990,\n",
    "           2000: hamlet_years_2000,\n",
    "           2010: hamlet_years_2010}"
   ],
   "metadata": {
    "collapsed": false,
    "pycharm": {
     "name": "#%%\n"
    }
   }
  },
  {
   "cell_type": "code",
   "execution_count": 17,
   "outputs": [
    {
     "data": {
      "text/plain": "1910    28\n1920     9\n1930     0\n1940    25\n1950     1\n1960    57\n1970    19\n1980     3\n1990    84\n2000    55\n2010    18\ndtype: int64"
     },
     "execution_count": 17,
     "metadata": {},
     "output_type": "execute_result"
    }
   ],
   "source": [
    "decades_ser = pd.Series(decades)\n",
    "decades_ser"
   ],
   "metadata": {
    "collapsed": false,
    "pycharm": {
     "name": "#%%\n"
    }
   }
  },
  {
   "cell_type": "code",
   "execution_count": 19,
   "outputs": [
    {
     "data": {
      "text/plain": "<Figure size 720x288 with 1 Axes>",
      "image/png": "[encoded data removed]"
     },
     "metadata": {},
     "output_type": "display_data"
    }
   ],
   "source": [
    "plt.figure(figsize=(10,4))\n",
    "sns.set_style(style=\"whitegrid\")\n",
    "decades_ser.plot()\n",
    "plt.xticks(decades_ser.index)\n",
    "plt.xlabel(\"decade\", size=15)\n",
    "plt.ylabel(\"count\", size=15)\n",
    "plt.title(\"Hamlet Movies\", size=20)\n",
    "plt.tight_layout()\n",
    "plt.show()"
   ],
   "metadata": {
    "collapsed": false,
    "pycharm": {
     "name": "#%%\n"
    }
   }
  },
  {
   "cell_type": "markdown",
   "source": [
    "> ## Question 5\n",
    "> How many leading (n=1) roles were available to actors, and how many to actresses, in each year of the 1950's?\n",
    "\n"
   ],
   "metadata": {
    "collapsed": false,
    "pycharm": {
     "name": "#%% md\n"
    }
   }
  },
  {
   "cell_type": "code",
   "execution_count": 20,
   "outputs": [
    {
     "data": {
      "text/plain": "875"
     },
     "execution_count": 20,
     "metadata": {},
     "output_type": "execute_result"
    }
   ],
   "source": [
    "cast.n[(cast['year']==1950) & (cast['n']==1)].count()"
   ],
   "metadata": {
    "collapsed": false,
    "pycharm": {
     "name": "#%%\n"
    }
   }
  },
  {
   "cell_type": "markdown",
   "source": [
    "> ## Question 6\n",
    "> List the 10 actors/actresses that have the most leading roles (n=1) since the 1990's."
   ],
   "metadata": {
    "collapsed": false,
    "pycharm": {
     "name": "#%% md\n"
    }
   }
  },
  {
   "cell_type": "code",
   "execution_count": 21,
   "outputs": [
    {
     "data": {
      "text/plain": "Charles Starrett     200\nMohanlal             184\nMammootty            177\nBuck Jones           130\nRajesh Khanna        127\nJohnny Mack Brown    124\nJohn Wayne           117\nAmitabh Bachchan     113\nBob Steele           110\nDharmendra           107\nName: name, dtype: int64"
     },
     "execution_count": 21,
     "metadata": {},
     "output_type": "execute_result"
    }
   ],
   "source": [
    "cast[(cast[\"n\"]==1)][\"name\"].value_counts().head(10)"
   ],
   "metadata": {
    "collapsed": false,
    "pycharm": {
     "name": "#%%\n"
    }
   }
  },
  {
   "cell_type": "markdown",
   "source": [
    "> ## Question 7\n",
    "> List, in order by years, each of the films in which Frank Oz has played more than 1 role."
   ],
   "metadata": {
    "collapsed": false,
    "pycharm": {
     "name": "#%% md\n"
    }
   }
  },
  {
   "cell_type": "code",
   "execution_count": 22,
   "outputs": [],
   "source": [
    "frank_oz = cast[cast[\"name\"]==\"Frank Oz\"].copy()\n",
    "frank_oz.sort_values(by=[\"year\"], inplace=True)"
   ],
   "metadata": {
    "collapsed": false,
    "pycharm": {
     "name": "#%%\n"
    }
   }
  },
  {
   "cell_type": "code",
   "execution_count": 23,
   "outputs": [],
   "source": [
    "# false marks all duplicates as true\n",
    "frank_oz_dup = frank_oz[frank_oz.duplicated(\"title\", keep=False)].copy()\n",
    "frank_oz_dup.drop_duplicates(\"title\", inplace=True)"
   ],
   "metadata": {
    "collapsed": false,
    "pycharm": {
     "name": "#%%\n"
    }
   }
  },
  {
   "cell_type": "code",
   "execution_count": 24,
   "outputs": [
    {
     "data": {
      "text/plain": "                                         title      name\nyear                                                    \n1979                          The Muppet Movie  Frank Oz\n1981                    The Great Muppet Caper  Frank Oz\n1981            An American Werewolf in London  Frank Oz\n1982                          The Dark Crystal  Frank Oz\n1984                The Muppets Take Manhattan  Frank Oz\n1985  Sesame Street Presents: Follow that Bird  Frank Oz\n1992                The Muppet Christmas Carol  Frank Oz\n1996                    Muppet Treasure Island  Frank Oz\n1999      The Adventures of Elmo in Grouchland  Frank Oz\n1999                        Muppets from Space  Frank Oz",
      "text/html": "<div>\n<style scoped>\n    .dataframe tbody tr th:only-of-type {\n        vertical-align: middle;\n    }\n\n    .dataframe tbody tr th {\n        vertical-align: top;\n    }\n\n    .dataframe thead th {\n        text-align: right;\n    }\n</style>\n<table border=\"1\" class=\"dataframe\">\n  <thead>\n    <tr style=\"text-align: right;\">\n      <th></th>\n      <th>title</th>\n      <th>name</th>\n    </tr>\n    <tr>\n      <th>year</th>\n      <th></th>\n      <th></th>\n    </tr>\n  </thead>\n  <tbody>\n    <tr>\n      <th>1979</th>\n      <td>The Muppet Movie</td>\n      <td>Frank Oz</td>\n    </tr>\n    <tr>\n      <th>1981</th>\n      <td>The Great Muppet Caper</td>\n      <td>Frank Oz</td>\n    </tr>\n    <tr>\n      <th>1981</th>\n      <td>An American Werewolf in London</td>\n      <td>Frank Oz</td>\n    </tr>\n    <tr>\n      <th>1982</th>\n      <td>The Dark Crystal</td>\n      <td>Frank Oz</td>\n    </tr>\n    <tr>\n      <th>1984</th>\n      <td>The Muppets Take Manhattan</td>\n      <td>Frank Oz</td>\n    </tr>\n    <tr>\n      <th>1985</th>\n      <td>Sesame Street Presents: Follow that Bird</td>\n      <td>Frank Oz</td>\n    </tr>\n    <tr>\n      <th>1992</th>\n      <td>The Muppet Christmas Carol</td>\n      <td>Frank Oz</td>\n    </tr>\n    <tr>\n      <th>1996</th>\n      <td>Muppet Treasure Island</td>\n      <td>Frank Oz</td>\n    </tr>\n    <tr>\n      <th>1999</th>\n      <td>The Adventures of Elmo in Grouchland</td>\n      <td>Frank Oz</td>\n    </tr>\n    <tr>\n      <th>1999</th>\n      <td>Muppets from Space</td>\n      <td>Frank Oz</td>\n    </tr>\n  </tbody>\n</table>\n</div>"
     },
     "execution_count": 24,
     "metadata": {},
     "output_type": "execute_result"
    }
   ],
   "source": [
    "frank_oz_dup.set_index(\"year\").drop(columns=[\"type\", \"character\", \"n\"])"
   ],
   "metadata": {
    "collapsed": false,
    "pycharm": {
     "name": "#%%\n"
    }
   }
  },
  {
   "cell_type": "code",
   "execution_count": null,
   "outputs": [],
   "source": [],
   "metadata": {
    "collapsed": false,
    "pycharm": {
     "name": "#%%\n"
    }
   }
  }
 ],
 "metadata": {
  "kernelspec": {
   "name": "pycharm-6b1cb0de",
   "language": "python",
   "display_name": "PyCharm (1SA-Final-Project)"
  },
  "language_info": {
   "codemirror_mode": {
    "name": "ipython",
    "version": 3
   },
   "file_extension": ".py",
   "mimetype": "text/x-python",
   "name": "python",
   "nbconvert_exporter": "python",
   "pygments_lexer": "ipython3",
   "version": "3.8.3"
  }
 },
 "nbformat": 4,
 "nbformat_minor": 4
}