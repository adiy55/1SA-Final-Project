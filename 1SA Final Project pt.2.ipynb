{
 "cells": [
  {
   "cell_type": "markdown",
   "metadata": {},
   "source": [
    "<h1><center>Data Science Project</center></h1>\n",
    "<h2><center>Part 2</center></h2>"
   ]
  },
  {
   "cell_type": "markdown",
   "metadata": {},
   "source": [
    "## Question 1:"
   ]
  },
  {
   "cell_type": "code",
   "execution_count": 1,
   "metadata": {},
   "outputs": [],
   "source": [
    "def bases(num):\n",
    "    curr = num\n",
    "    binary = \"\"\n",
    "    while(curr>0):\n",
    "        temp = curr%2\n",
    "        binary = str(temp) + binary\n",
    "        curr=curr//2\n",
    "        \n",
    "    curr = num\n",
    "    octal = \"\"\n",
    "    while(curr>0):\n",
    "        temp = curr%8\n",
    "        if(temp<9):\n",
    "            octal = str(temp) + octal\n",
    "        curr=curr//8\n",
    "        \n",
    "    curr = num\n",
    "    hexa = \"\"\n",
    "    dict = {10: 'A', 11: 'B', 12: 'C', 13: 'D', 14: 'E', 15: 'F'}\n",
    "    while(curr>0):\n",
    "        temp = curr%16\n",
    "        if(temp<9):\n",
    "            hexa = str(temp) + hexa\n",
    "        if(temp>9 and temp<16):\n",
    "            hexa = dict[temp] + hexa\n",
    "        curr = curr//16\n",
    "        \n",
    "    return \"Binary: \" + binary, \"Octal: \" + octal, \"Hex: \" + hexa"
   ]
  },
  {
   "cell_type": "code",
   "execution_count": 2,
   "metadata": {},
   "outputs": [
    {
     "data": {
      "text/plain": [
       "('Binary: 1010', 'Octal: 12', 'Hex: A')"
      ]
     },
     "execution_count": 2,
     "metadata": {},
     "output_type": "execute_result"
    }
   ],
   "source": [
    "bases(10)"
   ]
  },
  {
   "cell_type": "code",
   "execution_count": null,
   "metadata": {},
   "outputs": [],
   "source": []
  }
 ],
 "metadata": {
  "kernelspec": {
   "display_name": "Python 3",
   "language": "python",
   "name": "python3"
  },
  "language_info": {
   "codemirror_mode": {
    "name": "ipython",
    "version": 3
   },
   "file_extension": ".py",
   "mimetype": "text/x-python",
   "name": "python",
   "nbconvert_exporter": "python",
   "pygments_lexer": "ipython3",
   "version": "3.8.3"
  }
 },
 "nbformat": 4,
 "nbformat_minor": 4
}
