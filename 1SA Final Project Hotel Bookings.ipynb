{
 "cells": [
  {
   "cell_type": "markdown",
   "source": [
    "## 1. Loading the Data:"
   ],
   "metadata": {
    "collapsed": false
   }
  },
  {
   "cell_type": "code",
   "execution_count": 1,
   "metadata": {
    "pycharm": {
     "name": "#%%\n"
    }
   },
   "outputs": [],
   "source": [
    "# import libraries that will be used\n",
    "import pandas as pd\n",
    "import numpy as np\n",
    "import seaborn as sns\n",
    "import matplotlib.pyplot as plt\n",
    "%matplotlib inline"
   ]
  },
  {
   "cell_type": "code",
   "execution_count": 2,
   "metadata": {
    "pycharm": {
     "name": "#%%\n"
    }
   },
   "outputs": [],
   "source": [
    "# read csv file\n",
    "df = pd.read_csv(r\"C:\\Users\\adiya\\Documents\\Uni\\Data Science\\1SA-Final-Project\\hotel_bookings.csv\")"
   ]
  },
  {
   "cell_type": "code",
   "execution_count": 3,
   "metadata": {
    "pycharm": {
     "name": "#%%\n"
    }
   },
   "outputs": [
    {
     "data": {
      "text/plain": "          hotel  is_canceled  lead_time  arrival_date_year arrival_date_month  \\\n0  Resort Hotel            0        342               2015               July   \n1  Resort Hotel            0        737               2015               July   \n2  Resort Hotel            0          7               2015               July   \n3  Resort Hotel            0         13               2015               July   \n4  Resort Hotel            0         14               2015               July   \n\n   arrival_date_week_number  arrival_date_day_of_month  \\\n0                        27                          1   \n1                        27                          1   \n2                        27                          1   \n3                        27                          1   \n4                        27                          1   \n\n   stays_in_weekend_nights  stays_in_week_nights  adults  ...  deposit_type  \\\n0                        0                     0       2  ...    No Deposit   \n1                        0                     0       2  ...    No Deposit   \n2                        0                     1       1  ...    No Deposit   \n3                        0                     1       1  ...    No Deposit   \n4                        0                     2       2  ...    No Deposit   \n\n   agent company days_in_waiting_list customer_type   adr  \\\n0    NaN     NaN                    0     Transient   0.0   \n1    NaN     NaN                    0     Transient   0.0   \n2    NaN     NaN                    0     Transient  75.0   \n3  304.0     NaN                    0     Transient  75.0   \n4  240.0     NaN                    0     Transient  98.0   \n\n   required_car_parking_spaces  total_of_special_requests  reservation_status  \\\n0                            0                          0           Check-Out   \n1                            0                          0           Check-Out   \n2                            0                          0           Check-Out   \n3                            0                          0           Check-Out   \n4                            0                          1           Check-Out   \n\n  reservation_status_date  \n0              2015-07-01  \n1              2015-07-01  \n2              2015-07-02  \n3              2015-07-02  \n4              2015-07-03  \n\n[5 rows x 32 columns]",
      "text/html": "<div>\n<style scoped>\n    .dataframe tbody tr th:only-of-type {\n        vertical-align: middle;\n    }\n\n    .dataframe tbody tr th {\n        vertical-align: top;\n    }\n\n    .dataframe thead th {\n        text-align: right;\n    }\n</style>\n<table border=\"1\" class=\"dataframe\">\n  <thead>\n    <tr style=\"text-align: right;\">\n      <th></th>\n      <th>hotel</th>\n      <th>is_canceled</th>\n      <th>lead_time</th>\n      <th>arrival_date_year</th>\n      <th>arrival_date_month</th>\n      <th>arrival_date_week_number</th>\n      <th>arrival_date_day_of_month</th>\n      <th>stays_in_weekend_nights</th>\n      <th>stays_in_week_nights</th>\n      <th>adults</th>\n      <th>...</th>\n      <th>deposit_type</th>\n      <th>agent</th>\n      <th>company</th>\n      <th>days_in_waiting_list</th>\n      <th>customer_type</th>\n      <th>adr</th>\n      <th>required_car_parking_spaces</th>\n      <th>total_of_special_requests</th>\n      <th>reservation_status</th>\n      <th>reservation_status_date</th>\n    </tr>\n  </thead>\n  <tbody>\n    <tr>\n      <th>0</th>\n      <td>Resort Hotel</td>\n      <td>0</td>\n      <td>342</td>\n      <td>2015</td>\n      <td>July</td>\n      <td>27</td>\n      <td>1</td>\n      <td>0</td>\n      <td>0</td>\n      <td>2</td>\n      <td>...</td>\n      <td>No Deposit</td>\n      <td>NaN</td>\n      <td>NaN</td>\n      <td>0</td>\n      <td>Transient</td>\n      <td>0.0</td>\n      <td>0</td>\n      <td>0</td>\n      <td>Check-Out</td>\n      <td>2015-07-01</td>\n    </tr>\n    <tr>\n      <th>1</th>\n      <td>Resort Hotel</td>\n      <td>0</td>\n      <td>737</td>\n      <td>2015</td>\n      <td>July</td>\n      <td>27</td>\n      <td>1</td>\n      <td>0</td>\n      <td>0</td>\n      <td>2</td>\n      <td>...</td>\n      <td>No Deposit</td>\n      <td>NaN</td>\n      <td>NaN</td>\n      <td>0</td>\n      <td>Transient</td>\n      <td>0.0</td>\n      <td>0</td>\n      <td>0</td>\n      <td>Check-Out</td>\n      <td>2015-07-01</td>\n    </tr>\n    <tr>\n      <th>2</th>\n      <td>Resort Hotel</td>\n      <td>0</td>\n      <td>7</td>\n      <td>2015</td>\n      <td>July</td>\n      <td>27</td>\n      <td>1</td>\n      <td>0</td>\n      <td>1</td>\n      <td>1</td>\n      <td>...</td>\n      <td>No Deposit</td>\n      <td>NaN</td>\n      <td>NaN</td>\n      <td>0</td>\n      <td>Transient</td>\n      <td>75.0</td>\n      <td>0</td>\n      <td>0</td>\n      <td>Check-Out</td>\n      <td>2015-07-02</td>\n    </tr>\n    <tr>\n      <th>3</th>\n      <td>Resort Hotel</td>\n      <td>0</td>\n      <td>13</td>\n      <td>2015</td>\n      <td>July</td>\n      <td>27</td>\n      <td>1</td>\n      <td>0</td>\n      <td>1</td>\n      <td>1</td>\n      <td>...</td>\n      <td>No Deposit</td>\n      <td>304.0</td>\n      <td>NaN</td>\n      <td>0</td>\n      <td>Transient</td>\n      <td>75.0</td>\n      <td>0</td>\n      <td>0</td>\n      <td>Check-Out</td>\n      <td>2015-07-02</td>\n    </tr>\n    <tr>\n      <th>4</th>\n      <td>Resort Hotel</td>\n      <td>0</td>\n      <td>14</td>\n      <td>2015</td>\n      <td>July</td>\n      <td>27</td>\n      <td>1</td>\n      <td>0</td>\n      <td>2</td>\n      <td>2</td>\n      <td>...</td>\n      <td>No Deposit</td>\n      <td>240.0</td>\n      <td>NaN</td>\n      <td>0</td>\n      <td>Transient</td>\n      <td>98.0</td>\n      <td>0</td>\n      <td>1</td>\n      <td>Check-Out</td>\n      <td>2015-07-03</td>\n    </tr>\n  </tbody>\n</table>\n<p>5 rows × 32 columns</p>\n</div>"
     },
     "execution_count": 3,
     "metadata": {},
     "output_type": "execute_result"
    }
   ],
   "source": [
    "# display the first 5 rows for a quick look\n",
    "df.head()"
   ]
  },
  {
   "cell_type": "markdown",
   "source": [
    "## 2. Understanding the Data:"
   ],
   "metadata": {
    "collapsed": false
   }
  },
  {
   "cell_type": "code",
   "execution_count": 4,
   "metadata": {
    "pycharm": {
     "name": "#%%\n"
    }
   },
   "outputs": [
    {
     "data": {
      "text/plain": "(119390, 32)"
     },
     "execution_count": 4,
     "metadata": {},
     "output_type": "execute_result"
    }
   ],
   "source": [
    "# check the shape of the DataFrame (rows, columns)\n",
    "# understand the amount of data\n",
    "df.shape"
   ]
  },
  {
   "cell_type": "code",
   "execution_count": 5,
   "metadata": {
    "pycharm": {
     "name": "#%%\n"
    }
   },
   "outputs": [
    {
     "name": "stdout",
     "output_type": "stream",
     "text": [
      "<class 'pandas.core.frame.DataFrame'>\n",
      "RangeIndex: 119390 entries, 0 to 119389\n",
      "Data columns (total 32 columns):\n",
      " #   Column                          Non-Null Count   Dtype  \n",
      "---  ------                          --------------   -----  \n",
      " 0   hotel                           119390 non-null  object \n",
      " 1   is_canceled                     119390 non-null  int64  \n",
      " 2   lead_time                       119390 non-null  int64  \n",
      " 3   arrival_date_year               119390 non-null  int64  \n",
      " 4   arrival_date_month              119390 non-null  object \n",
      " 5   arrival_date_week_number        119390 non-null  int64  \n",
      " 6   arrival_date_day_of_month       119390 non-null  int64  \n",
      " 7   stays_in_weekend_nights         119390 non-null  int64  \n",
      " 8   stays_in_week_nights            119390 non-null  int64  \n",
      " 9   adults                          119390 non-null  int64  \n",
      " 10  children                        119386 non-null  float64\n",
      " 11  babies                          119390 non-null  int64  \n",
      " 12  meal                            119390 non-null  object \n",
      " 13  country                         118902 non-null  object \n",
      " 14  market_segment                  119390 non-null  object \n",
      " 15  distribution_channel            119390 non-null  object \n",
      " 16  is_repeated_guest               119390 non-null  int64  \n",
      " 17  previous_cancellations          119390 non-null  int64  \n",
      " 18  previous_bookings_not_canceled  119390 non-null  int64  \n",
      " 19  reserved_room_type              119390 non-null  object \n",
      " 20  assigned_room_type              119390 non-null  object \n",
      " 21  booking_changes                 119390 non-null  int64  \n",
      " 22  deposit_type                    119390 non-null  object \n",
      " 23  agent                           103050 non-null  float64\n",
      " 24  company                         6797 non-null    float64\n",
      " 25  days_in_waiting_list            119390 non-null  int64  \n",
      " 26  customer_type                   119390 non-null  object \n",
      " 27  adr                             119390 non-null  float64\n",
      " 28  required_car_parking_spaces     119390 non-null  int64  \n",
      " 29  total_of_special_requests       119390 non-null  int64  \n",
      " 30  reservation_status              119390 non-null  object \n",
      " 31  reservation_status_date         119390 non-null  object \n",
      "dtypes: float64(4), int64(16), object(12)\n",
      "memory usage: 29.1+ MB\n"
     ]
    }
   ],
   "source": [
    "# description of data\n",
    "df.info()"
   ]
  },
  {
   "cell_type": "markdown",
   "source": [
    "> In a first observation it is clear some features (for example \"company\",\n",
    "> and \"agent\") consist of many null values."
   ],
   "metadata": {
    "collapsed": false
   }
  },
  {
   "cell_type": "code",
   "execution_count": 6,
   "metadata": {
    "pycharm": {
     "name": "#%%\n"
    }
   },
   "outputs": [
    {
     "data": {
      "text/plain": "         is_canceled      lead_time  arrival_date_year  \\\ncount  119390.000000  119390.000000      119390.000000   \nmean        0.370416     104.011416        2016.156554   \nstd         0.482918     106.863097           0.707476   \nmin         0.000000       0.000000        2015.000000   \n25%         0.000000      18.000000        2016.000000   \n50%         0.000000      69.000000        2016.000000   \n75%         1.000000     160.000000        2017.000000   \nmax         1.000000     737.000000        2017.000000   \n\n       arrival_date_week_number  arrival_date_day_of_month  \\\ncount             119390.000000              119390.000000   \nmean                  27.165173                  15.798241   \nstd                   13.605138                   8.780829   \nmin                    1.000000                   1.000000   \n25%                   16.000000                   8.000000   \n50%                   28.000000                  16.000000   \n75%                   38.000000                  23.000000   \nmax                   53.000000                  31.000000   \n\n       stays_in_weekend_nights  stays_in_week_nights         adults  \\\ncount            119390.000000         119390.000000  119390.000000   \nmean                  0.927599              2.500302       1.856403   \nstd                   0.998613              1.908286       0.579261   \nmin                   0.000000              0.000000       0.000000   \n25%                   0.000000              1.000000       2.000000   \n50%                   1.000000              2.000000       2.000000   \n75%                   2.000000              3.000000       2.000000   \nmax                  19.000000             50.000000      55.000000   \n\n            children         babies  is_repeated_guest  \\\ncount  119386.000000  119390.000000      119390.000000   \nmean        0.103890       0.007949           0.031912   \nstd         0.398561       0.097436           0.175767   \nmin         0.000000       0.000000           0.000000   \n25%         0.000000       0.000000           0.000000   \n50%         0.000000       0.000000           0.000000   \n75%         0.000000       0.000000           0.000000   \nmax        10.000000      10.000000           1.000000   \n\n       previous_cancellations  previous_bookings_not_canceled  \\\ncount           119390.000000                   119390.000000   \nmean                 0.087118                        0.137097   \nstd                  0.844336                        1.497437   \nmin                  0.000000                        0.000000   \n25%                  0.000000                        0.000000   \n50%                  0.000000                        0.000000   \n75%                  0.000000                        0.000000   \nmax                 26.000000                       72.000000   \n\n       booking_changes          agent      company  days_in_waiting_list  \\\ncount    119390.000000  103050.000000  6797.000000         119390.000000   \nmean          0.221124      86.693382   189.266735              2.321149   \nstd           0.652306     110.774548   131.655015             17.594721   \nmin           0.000000       1.000000     6.000000              0.000000   \n25%           0.000000       9.000000    62.000000              0.000000   \n50%           0.000000      14.000000   179.000000              0.000000   \n75%           0.000000     229.000000   270.000000              0.000000   \nmax          21.000000     535.000000   543.000000            391.000000   \n\n                 adr  required_car_parking_spaces  total_of_special_requests  \ncount  119390.000000                119390.000000              119390.000000  \nmean      101.831122                     0.062518                   0.571363  \nstd        50.535790                     0.245291                   0.792798  \nmin        -6.380000                     0.000000                   0.000000  \n25%        69.290000                     0.000000                   0.000000  \n50%        94.575000                     0.000000                   0.000000  \n75%       126.000000                     0.000000                   1.000000  \nmax      5400.000000                     8.000000                   5.000000  ",
      "text/html": "<div>\n<style scoped>\n    .dataframe tbody tr th:only-of-type {\n        vertical-align: middle;\n    }\n\n    .dataframe tbody tr th {\n        vertical-align: top;\n    }\n\n    .dataframe thead th {\n        text-align: right;\n    }\n</style>\n<table border=\"1\" class=\"dataframe\">\n  <thead>\n    <tr style=\"text-align: right;\">\n      <th></th>\n      <th>is_canceled</th>\n      <th>lead_time</th>\n      <th>arrival_date_year</th>\n      <th>arrival_date_week_number</th>\n      <th>arrival_date_day_of_month</th>\n      <th>stays_in_weekend_nights</th>\n      <th>stays_in_week_nights</th>\n      <th>adults</th>\n      <th>children</th>\n      <th>babies</th>\n      <th>is_repeated_guest</th>\n      <th>previous_cancellations</th>\n      <th>previous_bookings_not_canceled</th>\n      <th>booking_changes</th>\n      <th>agent</th>\n      <th>company</th>\n      <th>days_in_waiting_list</th>\n      <th>adr</th>\n      <th>required_car_parking_spaces</th>\n      <th>total_of_special_requests</th>\n    </tr>\n  </thead>\n  <tbody>\n    <tr>\n      <th>count</th>\n      <td>119390.000000</td>\n      <td>119390.000000</td>\n      <td>119390.000000</td>\n      <td>119390.000000</td>\n      <td>119390.000000</td>\n      <td>119390.000000</td>\n      <td>119390.000000</td>\n      <td>119390.000000</td>\n      <td>119386.000000</td>\n      <td>119390.000000</td>\n      <td>119390.000000</td>\n      <td>119390.000000</td>\n      <td>119390.000000</td>\n      <td>119390.000000</td>\n      <td>103050.000000</td>\n      <td>6797.000000</td>\n      <td>119390.000000</td>\n      <td>119390.000000</td>\n      <td>119390.000000</td>\n      <td>119390.000000</td>\n    </tr>\n    <tr>\n      <th>mean</th>\n      <td>0.370416</td>\n      <td>104.011416</td>\n      <td>2016.156554</td>\n      <td>27.165173</td>\n      <td>15.798241</td>\n      <td>0.927599</td>\n      <td>2.500302</td>\n      <td>1.856403</td>\n      <td>0.103890</td>\n      <td>0.007949</td>\n      <td>0.031912</td>\n      <td>0.087118</td>\n      <td>0.137097</td>\n      <td>0.221124</td>\n      <td>86.693382</td>\n      <td>189.266735</td>\n      <td>2.321149</td>\n      <td>101.831122</td>\n      <td>0.062518</td>\n      <td>0.571363</td>\n    </tr>\n    <tr>\n      <th>std</th>\n      <td>0.482918</td>\n      <td>106.863097</td>\n      <td>0.707476</td>\n      <td>13.605138</td>\n      <td>8.780829</td>\n      <td>0.998613</td>\n      <td>1.908286</td>\n      <td>0.579261</td>\n      <td>0.398561</td>\n      <td>0.097436</td>\n      <td>0.175767</td>\n      <td>0.844336</td>\n      <td>1.497437</td>\n      <td>0.652306</td>\n      <td>110.774548</td>\n      <td>131.655015</td>\n      <td>17.594721</td>\n      <td>50.535790</td>\n      <td>0.245291</td>\n      <td>0.792798</td>\n    </tr>\n    <tr>\n      <th>min</th>\n      <td>0.000000</td>\n      <td>0.000000</td>\n      <td>2015.000000</td>\n      <td>1.000000</td>\n      <td>1.000000</td>\n      <td>0.000000</td>\n      <td>0.000000</td>\n      <td>0.000000</td>\n      <td>0.000000</td>\n      <td>0.000000</td>\n      <td>0.000000</td>\n      <td>0.000000</td>\n      <td>0.000000</td>\n      <td>0.000000</td>\n      <td>1.000000</td>\n      <td>6.000000</td>\n      <td>0.000000</td>\n      <td>-6.380000</td>\n      <td>0.000000</td>\n      <td>0.000000</td>\n    </tr>\n    <tr>\n      <th>25%</th>\n      <td>0.000000</td>\n      <td>18.000000</td>\n      <td>2016.000000</td>\n      <td>16.000000</td>\n      <td>8.000000</td>\n      <td>0.000000</td>\n      <td>1.000000</td>\n      <td>2.000000</td>\n      <td>0.000000</td>\n      <td>0.000000</td>\n      <td>0.000000</td>\n      <td>0.000000</td>\n      <td>0.000000</td>\n      <td>0.000000</td>\n      <td>9.000000</td>\n      <td>62.000000</td>\n      <td>0.000000</td>\n      <td>69.290000</td>\n      <td>0.000000</td>\n      <td>0.000000</td>\n    </tr>\n    <tr>\n      <th>50%</th>\n      <td>0.000000</td>\n      <td>69.000000</td>\n      <td>2016.000000</td>\n      <td>28.000000</td>\n      <td>16.000000</td>\n      <td>1.000000</td>\n      <td>2.000000</td>\n      <td>2.000000</td>\n      <td>0.000000</td>\n      <td>0.000000</td>\n      <td>0.000000</td>\n      <td>0.000000</td>\n      <td>0.000000</td>\n      <td>0.000000</td>\n      <td>14.000000</td>\n      <td>179.000000</td>\n      <td>0.000000</td>\n      <td>94.575000</td>\n      <td>0.000000</td>\n      <td>0.000000</td>\n    </tr>\n    <tr>\n      <th>75%</th>\n      <td>1.000000</td>\n      <td>160.000000</td>\n      <td>2017.000000</td>\n      <td>38.000000</td>\n      <td>23.000000</td>\n      <td>2.000000</td>\n      <td>3.000000</td>\n      <td>2.000000</td>\n      <td>0.000000</td>\n      <td>0.000000</td>\n      <td>0.000000</td>\n      <td>0.000000</td>\n      <td>0.000000</td>\n      <td>0.000000</td>\n      <td>229.000000</td>\n      <td>270.000000</td>\n      <td>0.000000</td>\n      <td>126.000000</td>\n      <td>0.000000</td>\n      <td>1.000000</td>\n    </tr>\n    <tr>\n      <th>max</th>\n      <td>1.000000</td>\n      <td>737.000000</td>\n      <td>2017.000000</td>\n      <td>53.000000</td>\n      <td>31.000000</td>\n      <td>19.000000</td>\n      <td>50.000000</td>\n      <td>55.000000</td>\n      <td>10.000000</td>\n      <td>10.000000</td>\n      <td>1.000000</td>\n      <td>26.000000</td>\n      <td>72.000000</td>\n      <td>21.000000</td>\n      <td>535.000000</td>\n      <td>543.000000</td>\n      <td>391.000000</td>\n      <td>5400.000000</td>\n      <td>8.000000</td>\n      <td>5.000000</td>\n    </tr>\n  </tbody>\n</table>\n</div>"
     },
     "execution_count": 6,
     "metadata": {},
     "output_type": "execute_result"
    }
   ],
   "source": [
    "# summary of the numerical attributes\n",
    "df.describe()"
   ]
  },
  {
   "cell_type": "markdown",
   "source": [
    "> ### Features in the DataFrame:\n",
    "> 0. hotel: Resort Hotel or City Hotel\n",
    "> 1. is_cancelled: Value indicating if the booking was canceled (1) or not (0)\n",
    "> 2. lead_time: Number of days between the booking date to the arrival date\n",
    "> 3. arrival_date_year: Year of arrival date\n",
    "> 4. arrival_date_month: Month  of arrival date\n",
    "> 5. arrival_date_week: Week number according to year of arrival\n",
    "> 6. arrival_date_day: Day (in numbers) of arrival date\n",
    "> 7. stays_in_weekend_nights: Number of weekend nights (Saturday or Sunday) booked for accommodation\n",
    "> 8. stays_in_week_nights: Number of week nights (Monday to Friday) booked for accommodation\n",
    "> 9. adults: Number of adults\n",
    "> 10. children: Number of children\n",
    "> 11. babies: Number of babies\n",
    "> 12. meal: Type of meal booked\n",
    "> 13. country: Country of origin\n",
    "> 14. market_segment: Market segment designation (TA- Travel Agents, TO- Tour Operators)\n",
    "> 15. distribution_channel: Booking distribution channel (TA- Travel Agents, T0- Tour Operators)\n",
    "> 16. is_repeated_guest: Value indication if booking name was from a repeated guest (1) or not (0)\n",
    "> 17. previous_cancellations: Number of previous bookings that were cancelled by the customer (prior to current booking)\n",
    "> 18. previous_bookings_not_canceled: Number of previous bookings not cancelled prior to current booking\n",
    "> 19. reserved_room_type: Code of room type reserved\n",
    "> 20. assigned_room_type: Code for the type of room assigned to the booking\n",
    "> 21. booking_changes: Number of changes made to the booking\n",
    "> 22. deposit_type: Indication on if the customer made a deposit to guarantee the booking\n",
    "> 23. agent: ID of the travel agency that made the booking\n",
    "> 24. company: ID of the company or organization that made the booking or is responsible for payment\n",
    "> 25. days_in_waiting_list: Number of days booking was in the waiting list until it was confirmed to the customer\n",
    "> 26. customer_type: Type of booking\n",
    "> 27. adr: Average Daily Rate (the sum of transactions divided by the number of nights stayed)\n",
    "> 28. required_car_parking_spaces: Number of car parking spaces requested\n",
    "> 29. total_of_special_requests: Number of special requests made by the customer\n",
    "> 30. reservation_status: Last reservation status (Canceled, Check-Out, No-Show)\n",
    "> 31. reservation_status_date: Date at which the last status was set\n",
    ">"
   ],
   "metadata": {
    "collapsed": false,
    "pycharm": {
     "name": "#%% md\n"
    }
   }
  },
  {
   "cell_type": "code",
   "source": [
    "# further examination of null values\n",
    "# the methods below calculate the number of missing values\n",
    "missing_values = df.isna().sum()\n",
    "missing_values = missing_values[missing_values != 0]\n",
    "missing_values"
   ],
   "metadata": {
    "collapsed": false,
    "pycharm": {
     "name": "#%%\n"
    }
   },
   "execution_count": 7,
   "outputs": [
    {
     "data": {
      "text/plain": "children         4\ncountry        488\nagent        16340\ncompany     112593\ndtype: int64"
     },
     "execution_count": 7,
     "metadata": {},
     "output_type": "execute_result"
    }
   ]
  },
  {
   "cell_type": "markdown",
   "source": [
    "> The \"company\" and \"agent\" columns have a large amount of null values.\n",
    "> Since they are irrelevant for research they can be removed."
   ],
   "metadata": {
    "collapsed": false,
    "pycharm": {
     "name": "#%% md\n"
    }
   }
  },
  {
   "cell_type": "code",
   "execution_count": 8,
   "outputs": [],
   "source": [
    "# dropping \"company\" and \"agent\" columns\n",
    "df.drop([\"company\", \"agent\"], axis=1, inplace=True)"
   ],
   "metadata": {
    "collapsed": false,
    "pycharm": {
     "name": "#%%\n"
    }
   }
  },
  {
   "cell_type": "markdown",
   "source": [
    "> The children column has only 4 missing values. These can be replaced with 0, suggesting\n",
    "> there were no kids during the stay."
   ],
   "metadata": {
    "collapsed": false,
    "pycharm": {
     "name": "#%% md\n"
    }
   }
  },
  {
   "cell_type": "code",
   "execution_count": 9,
   "outputs": [
    {
     "data": {
      "text/plain": "0"
     },
     "execution_count": 9,
     "metadata": {},
     "output_type": "execute_result"
    }
   ],
   "source": [
    "# replacing null values in 'children' column with 0\n",
    "df.fillna({\"children\": 0}, inplace=True)\n",
    "# examining changes\n",
    "df['children'].isnull().sum()"
   ],
   "metadata": {
    "collapsed": false,
    "pycharm": {
     "name": "#%%\n"
    }
   }
  },
  {
   "cell_type": "code",
   "execution_count": 10,
   "outputs": [
    {
     "data": {
      "text/plain": "PRT    48590\nGBR    12129\nFRA    10415\nESP     8568\nDEU     7287\n       ...  \nNAM        1\nNIC        1\nUMI        1\nDJI        1\nNCL        1\nName: country, Length: 177, dtype: int64"
     },
     "execution_count": 10,
     "metadata": {},
     "output_type": "execute_result"
    }
   ],
   "source": [
    "df[\"country\"].value_counts()"
   ],
   "metadata": {
    "collapsed": false,
    "pycharm": {
     "name": "#%%\n"
    }
   }
  },
  {
   "cell_type": "markdown",
   "source": [
    "> As shown above, there are 177 different countries. This indicates that the data is representative\n",
    "> worldwide, contrary to a specific region.\n",
    "> A quick assessment will portray a better perspective on how to treat the missing data."
   ],
   "metadata": {
    "collapsed": false,
    "pycharm": {
     "name": "#%% md\n"
    }
   }
  },
  {
   "cell_type": "code",
   "execution_count": 11,
   "outputs": [
    {
     "name": "stdout",
     "output_type": "stream",
     "text": [
      "Number of countries with one or less instances: 30 \n",
      "Number of countries with 10 or less instances: 84 \n",
      "Number of countries with 50 or less instances: 120 \n",
      "Number of countries with 100 or less instances: 140 \n",
      "Number of countries with 1000 or less instances: 162\n"
     ]
    }
   ],
   "source": [
    "num1 = (df[\"country\"].value_counts() <= 1).sum()\n",
    "num10 = (df[\"country\"].value_counts() <= 10).sum()\n",
    "num50 = (df[\"country\"].value_counts() <= 50).sum()\n",
    "num100 = (df[\"country\"].value_counts() <= 100).sum()\n",
    "num1000 = (df[\"country\"].value_counts() <= 1000).sum()\n",
    "\n",
    "print(\"Number of countries with one or less instances:\", num1,\n",
    "      \"\\nNumber of countries with 10 or less instances:\", num10,\n",
    "      \"\\nNumber of countries with 50 or less instances:\", num50,\n",
    "      \"\\nNumber of countries with 100 or less instances:\", num100,\n",
    "      \"\\nNumber of countries with 1000 or less instances:\", num1000)"
   ],
   "metadata": {
    "collapsed": false,
    "pycharm": {
     "name": "#%%\n"
    }
   }
  },
  {
   "cell_type": "markdown",
   "source": [
    "> More than half of the instances have 50 or fewer observations in the DataFrame.\n",
    "> Meanwhile, there are few countries with thousands. This shows that the countries\n",
    "> are not the best option to represent results from the data since they are\n",
    "> unevenly divided. For all the reasons stated, this column is unnecessary for further\n",
    "> analysis."
   ],
   "metadata": {
    "collapsed": false,
    "pycharm": {
     "name": "#%% md\n"
    }
   }
  },
  {
   "cell_type": "code",
   "execution_count": 12,
   "outputs": [],
   "source": [
    "# dropping \"country\" column\n",
    "df.drop(\"country\", axis=1, inplace=True)"
   ],
   "metadata": {
    "collapsed": false,
    "pycharm": {
     "name": "#%%\n"
    }
   }
  },
  {
   "cell_type": "markdown",
   "source": [
    "> #### Quick look after changes:"
   ],
   "metadata": {
    "collapsed": false,
    "pycharm": {
     "name": "#%% md\n"
    }
   }
  },
  {
   "cell_type": "code",
   "execution_count": 13,
   "outputs": [
    {
     "data": {
      "text/plain": "          hotel  is_canceled  lead_time  arrival_date_year arrival_date_month  \\\n0  Resort Hotel            0        342               2015               July   \n1  Resort Hotel            0        737               2015               July   \n2  Resort Hotel            0          7               2015               July   \n\n   arrival_date_week_number  arrival_date_day_of_month  \\\n0                        27                          1   \n1                        27                          1   \n2                        27                          1   \n\n   stays_in_weekend_nights  stays_in_week_nights  adults  ...  \\\n0                        0                     0       2  ...   \n1                        0                     0       2  ...   \n2                        0                     1       1  ...   \n\n   assigned_room_type  booking_changes deposit_type days_in_waiting_list  \\\n0                   C                3   No Deposit                    0   \n1                   C                4   No Deposit                    0   \n2                   C                0   No Deposit                    0   \n\n  customer_type   adr  required_car_parking_spaces  total_of_special_requests  \\\n0     Transient   0.0                            0                          0   \n1     Transient   0.0                            0                          0   \n2     Transient  75.0                            0                          0   \n\n  reservation_status reservation_status_date  \n0          Check-Out              2015-07-01  \n1          Check-Out              2015-07-01  \n2          Check-Out              2015-07-02  \n\n[3 rows x 29 columns]",
      "text/html": "<div>\n<style scoped>\n    .dataframe tbody tr th:only-of-type {\n        vertical-align: middle;\n    }\n\n    .dataframe tbody tr th {\n        vertical-align: top;\n    }\n\n    .dataframe thead th {\n        text-align: right;\n    }\n</style>\n<table border=\"1\" class=\"dataframe\">\n  <thead>\n    <tr style=\"text-align: right;\">\n      <th></th>\n      <th>hotel</th>\n      <th>is_canceled</th>\n      <th>lead_time</th>\n      <th>arrival_date_year</th>\n      <th>arrival_date_month</th>\n      <th>arrival_date_week_number</th>\n      <th>arrival_date_day_of_month</th>\n      <th>stays_in_weekend_nights</th>\n      <th>stays_in_week_nights</th>\n      <th>adults</th>\n      <th>...</th>\n      <th>assigned_room_type</th>\n      <th>booking_changes</th>\n      <th>deposit_type</th>\n      <th>days_in_waiting_list</th>\n      <th>customer_type</th>\n      <th>adr</th>\n      <th>required_car_parking_spaces</th>\n      <th>total_of_special_requests</th>\n      <th>reservation_status</th>\n      <th>reservation_status_date</th>\n    </tr>\n  </thead>\n  <tbody>\n    <tr>\n      <th>0</th>\n      <td>Resort Hotel</td>\n      <td>0</td>\n      <td>342</td>\n      <td>2015</td>\n      <td>July</td>\n      <td>27</td>\n      <td>1</td>\n      <td>0</td>\n      <td>0</td>\n      <td>2</td>\n      <td>...</td>\n      <td>C</td>\n      <td>3</td>\n      <td>No Deposit</td>\n      <td>0</td>\n      <td>Transient</td>\n      <td>0.0</td>\n      <td>0</td>\n      <td>0</td>\n      <td>Check-Out</td>\n      <td>2015-07-01</td>\n    </tr>\n    <tr>\n      <th>1</th>\n      <td>Resort Hotel</td>\n      <td>0</td>\n      <td>737</td>\n      <td>2015</td>\n      <td>July</td>\n      <td>27</td>\n      <td>1</td>\n      <td>0</td>\n      <td>0</td>\n      <td>2</td>\n      <td>...</td>\n      <td>C</td>\n      <td>4</td>\n      <td>No Deposit</td>\n      <td>0</td>\n      <td>Transient</td>\n      <td>0.0</td>\n      <td>0</td>\n      <td>0</td>\n      <td>Check-Out</td>\n      <td>2015-07-01</td>\n    </tr>\n    <tr>\n      <th>2</th>\n      <td>Resort Hotel</td>\n      <td>0</td>\n      <td>7</td>\n      <td>2015</td>\n      <td>July</td>\n      <td>27</td>\n      <td>1</td>\n      <td>0</td>\n      <td>1</td>\n      <td>1</td>\n      <td>...</td>\n      <td>C</td>\n      <td>0</td>\n      <td>No Deposit</td>\n      <td>0</td>\n      <td>Transient</td>\n      <td>75.0</td>\n      <td>0</td>\n      <td>0</td>\n      <td>Check-Out</td>\n      <td>2015-07-02</td>\n    </tr>\n  </tbody>\n</table>\n<p>3 rows × 29 columns</p>\n</div>"
     },
     "execution_count": 13,
     "metadata": {},
     "output_type": "execute_result"
    }
   ],
   "source": [
    "# examining the changes\n",
    "df.head(3)"
   ],
   "metadata": {
    "collapsed": false,
    "pycharm": {
     "name": "#%%\n"
    }
   }
  },
  {
   "cell_type": "code",
   "execution_count": 14,
   "outputs": [
    {
     "data": {
      "text/plain": "hotel                             0\nis_canceled                       0\nlead_time                         0\narrival_date_year                 0\narrival_date_month                0\narrival_date_week_number          0\narrival_date_day_of_month         0\nstays_in_weekend_nights           0\nstays_in_week_nights              0\nadults                            0\nchildren                          0\nbabies                            0\nmeal                              0\nmarket_segment                    0\ndistribution_channel              0\nis_repeated_guest                 0\nprevious_cancellations            0\nprevious_bookings_not_canceled    0\nreserved_room_type                0\nassigned_room_type                0\nbooking_changes                   0\ndeposit_type                      0\ndays_in_waiting_list              0\ncustomer_type                     0\nadr                               0\nrequired_car_parking_spaces       0\ntotal_of_special_requests         0\nreservation_status                0\nreservation_status_date           0\ndtype: int64"
     },
     "execution_count": 14,
     "metadata": {},
     "output_type": "execute_result"
    }
   ],
   "source": [
    "# checking if there are remaining null values\n",
    "df.isna().sum()"
   ],
   "metadata": {
    "collapsed": false,
    "pycharm": {
     "name": "#%%\n"
    }
   }
  },
  {
   "cell_type": "code",
   "execution_count": 15,
   "outputs": [
    {
     "data": {
      "text/plain": "(119390, 29)"
     },
     "execution_count": 15,
     "metadata": {},
     "output_type": "execute_result"
    }
   ],
   "source": [
    "# number of columns changed to 29\n",
    "# number of instances is the same\n",
    "df.shape"
   ],
   "metadata": {
    "collapsed": false,
    "pycharm": {
     "name": "#%%\n"
    }
   }
  },
  {
   "cell_type": "code",
   "execution_count": 15,
   "outputs": [],
   "source": [],
   "metadata": {
    "collapsed": false,
    "pycharm": {
     "name": "#%%\n"
    }
   }
  }
 ],
 "metadata": {
  "kernelspec": {
   "name": "pycharm-6b1cb0de",
   "language": "python",
   "display_name": "PyCharm (1SA-Final-Project)"
  },
  "language_info": {
   "codemirror_mode": {
    "name": "ipython",
    "version": 3
   },
   "file_extension": ".py",
   "mimetype": "text/x-python",
   "name": "python",
   "nbconvert_exporter": "python",
   "pygments_lexer": "ipython3",
   "version": "3.8.3"
  }
 },
 "nbformat": 4,
 "nbformat_minor": 1
}