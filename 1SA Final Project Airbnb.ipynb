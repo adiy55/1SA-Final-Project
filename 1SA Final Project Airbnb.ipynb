{
 "cells": [
  {
   "cell_type": "markdown",
   "source": [
    "## 1. Loading the Data:"
   ],
   "metadata": {
    "collapsed": false,
    "pycharm": {
     "name": "#%% md\n"
    }
   }
  },
  {
   "cell_type": "code",
   "execution_count": 1,
   "metadata": {
    "collapsed": true
   },
   "outputs": [],
   "source": [
    "# import libraries that will be used\n",
    "import pandas as pd\n",
    "import numpy as np\n",
    "import seaborn as sns\n",
    "import matplotlib.pyplot as plt\n",
    "%matplotlib inline"
   ]
  },
  {
   "cell_type": "code",
   "execution_count": 2,
   "outputs": [],
   "source": [
    "# read csv file\n",
    "df = pd.read_csv(r\"C:\\Users\\adiya\\Documents\\Uni\\Data Science\\1SA-Final-Project\\AB_US_2020.csv\", low_memory=False)"
   ],
   "metadata": {
    "collapsed": false,
    "pycharm": {
     "name": "#%%\n"
    }
   }
  },
  {
   "cell_type": "markdown",
   "source": [
    "## 2. Understanding the Data:"
   ],
   "metadata": {
    "collapsed": false
   }
  },
  {
   "cell_type": "code",
   "execution_count": 3,
   "outputs": [
    {
     "data": {
      "text/plain": "       id                                               name  host_id  \\\n0   38585    Charming Victorian home - twin beds + breakfast   165529   \n1   80905                                   French Chic Loft   427027   \n2  108061  Walk to stores/parks/downtown. Fenced yard/Pet...   320564   \n3  155305                 Cottage! BonPaul + Sharky's Hostel   746673   \n4  160594                                Historic Grove Park   769252   \n\n   host_name neighbourhood_group neighbourhood  latitude  longitude  \\\n0    Evelyne                 NaN         28804  35.65146  -82.62792   \n1    Celeste                 NaN         28801  35.59779  -82.55540   \n2       Lisa                 NaN         28801  35.60670  -82.55563   \n3    BonPaul                 NaN         28806  35.57864  -82.59578   \n4  Elizabeth                 NaN         28801  35.61442  -82.54127   \n\n         room_type  price  minimum_nights  number_of_reviews last_review  \\\n0     Private room     60               1                138    16/02/20   \n1  Entire home/apt    470               1                114    07/09/20   \n2  Entire home/apt     75              30                 89    30/11/19   \n3  Entire home/apt     90               1                267    22/09/20   \n4     Private room    125              30                 58    19/10/15   \n\n   reviews_per_month  calculated_host_listings_count  availability_365  \\\n0               1.14                               1                 0   \n1               1.03                              11               288   \n2               0.81                               2               298   \n3               2.39                               5                 0   \n4               0.52                               1                 0   \n\n        city  \n0  Asheville  \n1  Asheville  \n2  Asheville  \n3  Asheville  \n4  Asheville  ",
      "text/html": "<div>\n<style scoped>\n    .dataframe tbody tr th:only-of-type {\n        vertical-align: middle;\n    }\n\n    .dataframe tbody tr th {\n        vertical-align: top;\n    }\n\n    .dataframe thead th {\n        text-align: right;\n    }\n</style>\n<table border=\"1\" class=\"dataframe\">\n  <thead>\n    <tr style=\"text-align: right;\">\n      <th></th>\n      <th>id</th>\n      <th>name</th>\n      <th>host_id</th>\n      <th>host_name</th>\n      <th>neighbourhood_group</th>\n      <th>neighbourhood</th>\n      <th>latitude</th>\n      <th>longitude</th>\n      <th>room_type</th>\n      <th>price</th>\n      <th>minimum_nights</th>\n      <th>number_of_reviews</th>\n      <th>last_review</th>\n      <th>reviews_per_month</th>\n      <th>calculated_host_listings_count</th>\n      <th>availability_365</th>\n      <th>city</th>\n    </tr>\n  </thead>\n  <tbody>\n    <tr>\n      <th>0</th>\n      <td>38585</td>\n      <td>Charming Victorian home - twin beds + breakfast</td>\n      <td>165529</td>\n      <td>Evelyne</td>\n      <td>NaN</td>\n      <td>28804</td>\n      <td>35.65146</td>\n      <td>-82.62792</td>\n      <td>Private room</td>\n      <td>60</td>\n      <td>1</td>\n      <td>138</td>\n      <td>16/02/20</td>\n      <td>1.14</td>\n      <td>1</td>\n      <td>0</td>\n      <td>Asheville</td>\n    </tr>\n    <tr>\n      <th>1</th>\n      <td>80905</td>\n      <td>French Chic Loft</td>\n      <td>427027</td>\n      <td>Celeste</td>\n      <td>NaN</td>\n      <td>28801</td>\n      <td>35.59779</td>\n      <td>-82.55540</td>\n      <td>Entire home/apt</td>\n      <td>470</td>\n      <td>1</td>\n      <td>114</td>\n      <td>07/09/20</td>\n      <td>1.03</td>\n      <td>11</td>\n      <td>288</td>\n      <td>Asheville</td>\n    </tr>\n    <tr>\n      <th>2</th>\n      <td>108061</td>\n      <td>Walk to stores/parks/downtown. Fenced yard/Pet...</td>\n      <td>320564</td>\n      <td>Lisa</td>\n      <td>NaN</td>\n      <td>28801</td>\n      <td>35.60670</td>\n      <td>-82.55563</td>\n      <td>Entire home/apt</td>\n      <td>75</td>\n      <td>30</td>\n      <td>89</td>\n      <td>30/11/19</td>\n      <td>0.81</td>\n      <td>2</td>\n      <td>298</td>\n      <td>Asheville</td>\n    </tr>\n    <tr>\n      <th>3</th>\n      <td>155305</td>\n      <td>Cottage! BonPaul + Sharky's Hostel</td>\n      <td>746673</td>\n      <td>BonPaul</td>\n      <td>NaN</td>\n      <td>28806</td>\n      <td>35.57864</td>\n      <td>-82.59578</td>\n      <td>Entire home/apt</td>\n      <td>90</td>\n      <td>1</td>\n      <td>267</td>\n      <td>22/09/20</td>\n      <td>2.39</td>\n      <td>5</td>\n      <td>0</td>\n      <td>Asheville</td>\n    </tr>\n    <tr>\n      <th>4</th>\n      <td>160594</td>\n      <td>Historic Grove Park</td>\n      <td>769252</td>\n      <td>Elizabeth</td>\n      <td>NaN</td>\n      <td>28801</td>\n      <td>35.61442</td>\n      <td>-82.54127</td>\n      <td>Private room</td>\n      <td>125</td>\n      <td>30</td>\n      <td>58</td>\n      <td>19/10/15</td>\n      <td>0.52</td>\n      <td>1</td>\n      <td>0</td>\n      <td>Asheville</td>\n    </tr>\n  </tbody>\n</table>\n</div>"
     },
     "execution_count": 3,
     "metadata": {},
     "output_type": "execute_result"
    }
   ],
   "source": [
    "# display the first 5 rows for a quick look\n",
    "df.head()"
   ],
   "metadata": {
    "collapsed": false,
    "pycharm": {
     "name": "#%%\n"
    }
   }
  },
  {
   "cell_type": "code",
   "execution_count": 4,
   "outputs": [
    {
     "data": {
      "text/plain": "(226030, 17)"
     },
     "execution_count": 4,
     "metadata": {},
     "output_type": "execute_result"
    }
   ],
   "source": [
    "# check the shape of the DataFrame (rows, columns)\n",
    "# understand the amount of data\n",
    "df.shape"
   ],
   "metadata": {
    "collapsed": false,
    "pycharm": {
     "name": "#%%\n"
    }
   }
  },
  {
   "cell_type": "code",
   "execution_count": 5,
   "outputs": [
    {
     "name": "stdout",
     "output_type": "stream",
     "text": [
      "<class 'pandas.core.frame.DataFrame'>\n",
      "RangeIndex: 226030 entries, 0 to 226029\n",
      "Data columns (total 17 columns):\n",
      " #   Column                          Non-Null Count   Dtype  \n",
      "---  ------                          --------------   -----  \n",
      " 0   id                              226030 non-null  int64  \n",
      " 1   name                            226002 non-null  object \n",
      " 2   host_id                         226030 non-null  int64  \n",
      " 3   host_name                       225997 non-null  object \n",
      " 4   neighbourhood_group             110185 non-null  object \n",
      " 5   neighbourhood                   226030 non-null  object \n",
      " 6   latitude                        226030 non-null  float64\n",
      " 7   longitude                       226030 non-null  float64\n",
      " 8   room_type                       226030 non-null  object \n",
      " 9   price                           226030 non-null  int64  \n",
      " 10  minimum_nights                  226030 non-null  int64  \n",
      " 11  number_of_reviews               226030 non-null  int64  \n",
      " 12  last_review                     177428 non-null  object \n",
      " 13  reviews_per_month               177428 non-null  float64\n",
      " 14  calculated_host_listings_count  226030 non-null  int64  \n",
      " 15  availability_365                226030 non-null  int64  \n",
      " 16  city                            226030 non-null  object \n",
      "dtypes: float64(3), int64(7), object(7)\n",
      "memory usage: 29.3+ MB\n"
     ]
    }
   ],
   "source": [
    "# description of data\n",
    "df.info()"
   ],
   "metadata": {
    "collapsed": false,
    "pycharm": {
     "name": "#%%\n"
    }
   }
  },
  {
   "cell_type": "markdown",
   "source": [
    "In a first observation it is clear some features (for example \"neighbourhood_group\",\n",
    "\"last_review\", and \"reviews_per_month\") consist of many null values."
   ],
   "metadata": {
    "collapsed": false,
    "pycharm": {
     "name": "#%% md\n"
    }
   }
  },
  {
   "cell_type": "markdown",
   "source": [
    "### Features in the DataFrame:\n",
    "0. id: unique id number for each listing\n",
    "1. name: name of listing\n",
    "2. host_id: unique host id number\n",
    "3. host_name: name of host\n",
    "4. neighbourhood_group: group in which the neighbourhood lies\n",
    "5. neighbourhood: zip code\n",
    "6. latitude: latitude of listing\n",
    "7. longitude: longitude of listing\n",
    "8. room_type: room type (Entire home/apt, Private room, etc.)\n",
    "9. price: price of listing per night\n",
    "10. minimum_nights: minimum number of nights required to book\n",
    "11. number_of_reviews: total number of reviews on listing\n",
    "12. last_review: date of last review\n",
    "13. reviews_per_month: average reviews per month\n",
    "14. calculated_host_listings_count: total number of listing by host\n",
    "15. availability_365: number of days a year the listing is available for rent\n",
    "16. city: region of the listing"
   ],
   "metadata": {
    "collapsed": false
   }
  },
  {
   "cell_type": "markdown",
   "source": [
    "## 3. Cleaning the Data:"
   ],
   "metadata": {
    "collapsed": false,
    "pycharm": {
     "name": "#%% md\n"
    }
   }
  },
  {
   "cell_type": "code",
   "execution_count": 6,
   "outputs": [
    {
     "data": {
      "text/plain": "id                                     0\nname                                  28\nhost_id                                0\nhost_name                             33\nneighbourhood_group               115845\nneighbourhood                          0\nlatitude                               0\nlongitude                              0\nroom_type                              0\nprice                                  0\nminimum_nights                         0\nnumber_of_reviews                      0\nlast_review                        48602\nreviews_per_month                  48602\ncalculated_host_listings_count         0\navailability_365                       0\ncity                                   0\ndtype: int64"
     },
     "execution_count": 6,
     "metadata": {},
     "output_type": "execute_result"
    }
   ],
   "source": [
    "# further examination of null values\n",
    "# the methods below calculate the number of missing values in each feature\n",
    "df.isnull().sum()"
   ],
   "metadata": {
    "collapsed": false,
    "pycharm": {
     "name": "#%%\n"
    }
   }
  },
  {
   "cell_type": "markdown",
   "source": [
    "##### Understanding the features helps gain insight on how to treat null values."
   ],
   "metadata": {
    "collapsed": false,
    "pycharm": {
     "name": "#%% md\n"
    }
   }
  },
  {
   "cell_type": "code",
   "execution_count": 7,
   "outputs": [
    {
     "name": "stdout",
     "output_type": "stream",
     "text": [
      "'city' Column Labels: \n",
      " ['Asheville' 'Austin' 'Boston' 'Broward County' 'Cambridge' 'Chicago'\n",
      " 'Clark County' 'Columbus' 'Denver' 'Hawaii' 'Jersey City' 'Los Angeles'\n",
      " 'Nashville' 'New Orleans' 'New York City' 'Oakland' 'Pacific Grove'\n",
      " 'Portland' 'Rhode Island' 'Salem' 'San Clara Country' 'San Diego'\n",
      " 'San Francisco' 'San Mateo County' 'Santa Cruz County' 'Seattle'\n",
      " 'Twin Cities MSA' 'Washington D.C.']\n",
      "\n",
      "'neighbourhood_group' Column Labels: \n",
      " [nan 'Hawaii' 'Kauai' 'Maui' 'Honolulu' 'Other Cities'\n",
      " 'City of Los Angeles' 'Unincorporated Areas' 'Manhattan' 'Brooklyn'\n",
      " 'Queens' 'Staten Island' 'Bronx' 'Providence' 'Washington' 'Newport'\n",
      " 'Bristol' 'Kent' 'Central Area' 'Other neighborhoods' 'West Seattle'\n",
      " 'Downtown' 'Ballard' 'Capitol Hill' 'Beacon Hill' 'Seward Park'\n",
      " 'Queen Anne' 'Rainier Valley' 'Lake City' 'Cascade' 'Delridge'\n",
      " 'University District' 'Northgate' 'Magnolia' 'Interbay']\n"
     ]
    }
   ],
   "source": [
    "print(\"'city' Column Labels: \\n\", df['city'].unique())\n",
    "print()\n",
    "print(\"'neighbourhood_group' Column Labels: \\n\", df['neighbourhood_group'].unique())"
   ],
   "metadata": {
    "collapsed": false,
    "pycharm": {
     "name": "#%%\n"
    }
   }
  },
  {
   "cell_type": "markdown",
   "source": [
    "The 'city' column (presented above) categorizes the residential area of every listing.\n",
    "Therefore, given the large amount of missing values and insignificance of the 'neighbourhood_group'\n",
    "column, I decided to remove it."
   ],
   "metadata": {
    "collapsed": false
   }
  },
  {
   "cell_type": "code",
   "execution_count": 8,
   "outputs": [
    {
     "data": {
      "text/plain": "       id                                               name  host_id  \\\n0   38585    Charming Victorian home - twin beds + breakfast   165529   \n1   80905                                   French Chic Loft   427027   \n2  108061  Walk to stores/parks/downtown. Fenced yard/Pet...   320564   \n\n  host_name neighbourhood  latitude  longitude        room_type  price  \\\n0   Evelyne         28804  35.65146  -82.62792     Private room     60   \n1   Celeste         28801  35.59779  -82.55540  Entire home/apt    470   \n2      Lisa         28801  35.60670  -82.55563  Entire home/apt     75   \n\n   minimum_nights  number_of_reviews last_review  reviews_per_month  \\\n0               1                138    16/02/20               1.14   \n1               1                114    07/09/20               1.03   \n2              30                 89    30/11/19               0.81   \n\n   calculated_host_listings_count  availability_365       city  \n0                               1                 0  Asheville  \n1                              11               288  Asheville  \n2                               2               298  Asheville  ",
      "text/html": "<div>\n<style scoped>\n    .dataframe tbody tr th:only-of-type {\n        vertical-align: middle;\n    }\n\n    .dataframe tbody tr th {\n        vertical-align: top;\n    }\n\n    .dataframe thead th {\n        text-align: right;\n    }\n</style>\n<table border=\"1\" class=\"dataframe\">\n  <thead>\n    <tr style=\"text-align: right;\">\n      <th></th>\n      <th>id</th>\n      <th>name</th>\n      <th>host_id</th>\n      <th>host_name</th>\n      <th>neighbourhood</th>\n      <th>latitude</th>\n      <th>longitude</th>\n      <th>room_type</th>\n      <th>price</th>\n      <th>minimum_nights</th>\n      <th>number_of_reviews</th>\n      <th>last_review</th>\n      <th>reviews_per_month</th>\n      <th>calculated_host_listings_count</th>\n      <th>availability_365</th>\n      <th>city</th>\n    </tr>\n  </thead>\n  <tbody>\n    <tr>\n      <th>0</th>\n      <td>38585</td>\n      <td>Charming Victorian home - twin beds + breakfast</td>\n      <td>165529</td>\n      <td>Evelyne</td>\n      <td>28804</td>\n      <td>35.65146</td>\n      <td>-82.62792</td>\n      <td>Private room</td>\n      <td>60</td>\n      <td>1</td>\n      <td>138</td>\n      <td>16/02/20</td>\n      <td>1.14</td>\n      <td>1</td>\n      <td>0</td>\n      <td>Asheville</td>\n    </tr>\n    <tr>\n      <th>1</th>\n      <td>80905</td>\n      <td>French Chic Loft</td>\n      <td>427027</td>\n      <td>Celeste</td>\n      <td>28801</td>\n      <td>35.59779</td>\n      <td>-82.55540</td>\n      <td>Entire home/apt</td>\n      <td>470</td>\n      <td>1</td>\n      <td>114</td>\n      <td>07/09/20</td>\n      <td>1.03</td>\n      <td>11</td>\n      <td>288</td>\n      <td>Asheville</td>\n    </tr>\n    <tr>\n      <th>2</th>\n      <td>108061</td>\n      <td>Walk to stores/parks/downtown. Fenced yard/Pet...</td>\n      <td>320564</td>\n      <td>Lisa</td>\n      <td>28801</td>\n      <td>35.60670</td>\n      <td>-82.55563</td>\n      <td>Entire home/apt</td>\n      <td>75</td>\n      <td>30</td>\n      <td>89</td>\n      <td>30/11/19</td>\n      <td>0.81</td>\n      <td>2</td>\n      <td>298</td>\n      <td>Asheville</td>\n    </tr>\n  </tbody>\n</table>\n</div>"
     },
     "execution_count": 8,
     "metadata": {},
     "output_type": "execute_result"
    }
   ],
   "source": [
    "# dropping 'neighbourhood_group' column\n",
    "df.drop(['neighbourhood_group'], axis=1, inplace=True)\n",
    "# examining the changes\n",
    "df.head(3)"
   ],
   "metadata": {
    "collapsed": false,
    "pycharm": {
     "name": "#%%\n"
    }
   }
  },
  {
   "cell_type": "code",
   "execution_count": 9,
   "outputs": [
    {
     "data": {
      "text/plain": "(226030, 16)"
     },
     "execution_count": 9,
     "metadata": {},
     "output_type": "execute_result"
    }
   ],
   "source": [
    "# can also see that the number of columns changed to 16\n",
    "df.shape"
   ],
   "metadata": {
    "collapsed": false,
    "pycharm": {
     "name": "#%%\n"
    }
   }
  },
  {
   "cell_type": "markdown",
   "source": [
    "The 'reviews_per_month' column provides an average of the reviews. The missing values can be changed\n",
    "to 0.0, suggesting the listing has a monthly average of 0 reviews."
   ],
   "metadata": {
    "collapsed": false,
    "pycharm": {
     "name": "#%% md\n"
    }
   }
  },
  {
   "cell_type": "code",
   "execution_count": 10,
   "outputs": [
    {
     "data": {
      "text/plain": "0"
     },
     "execution_count": 10,
     "metadata": {},
     "output_type": "execute_result"
    }
   ],
   "source": [
    "# replacing null values in 'reviews_per_month' column with 0\n",
    "df.fillna({'reviews_per_month': 0}, inplace=True)\n",
    "# examining changes\n",
    "df['reviews_per_month'].isnull().sum()"
   ],
   "metadata": {
    "collapsed": false,
    "pycharm": {
     "name": "#%%\n"
    }
   }
  },
  {
   "cell_type": "code",
   "execution_count": 11,
   "outputs": [
    {
     "name": "stdout",
     "output_type": "stream",
     "text": [
      "Number of null values in 'last_review' column: 48602\n",
      "Number of listings with zero reviews per month: 48602\n"
     ]
    }
   ],
   "source": [
    "# validates that if the null value is 0 in the 'reviews per month column',\n",
    "# then they also appear as null in the 'last_review' column\n",
    "rpm = df.groupby(by='reviews_per_month')\n",
    "zero = rpm.get_group(0)\n",
    "print(\"Number of null values in 'last_review' column:\", zero['last_review'].isnull().sum())\n",
    "print(\"Number of listings with zero reviews per month:\", len(zero))"
   ],
   "metadata": {
    "collapsed": false,
    "pycharm": {
     "name": "#%%\n"
    }
   }
  },
  {
   "cell_type": "markdown",
   "source": [
    "The 'last_review' column consists of dates. If there were no reviews for the listing, the date\n",
    "will not exist. This is also represented as 0.0 in the 'reviews_per_month' column that was\n",
    "previously changed. Furthermore, there is no indication if the last review was positive or\n",
    "negative. For all the reasons stated, and the amount of null values show that this column\n",
    "is unnecessary."
   ],
   "metadata": {
    "collapsed": false,
    "pycharm": {
     "name": "#%% md\n"
    }
   }
  },
  {
   "cell_type": "code",
   "execution_count": 12,
   "outputs": [
    {
     "data": {
      "text/plain": "       id                                               name  host_id  \\\n0   38585    Charming Victorian home - twin beds + breakfast   165529   \n1   80905                                   French Chic Loft   427027   \n2  108061  Walk to stores/parks/downtown. Fenced yard/Pet...   320564   \n\n  host_name neighbourhood  latitude  longitude        room_type  price  \\\n0   Evelyne         28804  35.65146  -82.62792     Private room     60   \n1   Celeste         28801  35.59779  -82.55540  Entire home/apt    470   \n2      Lisa         28801  35.60670  -82.55563  Entire home/apt     75   \n\n   minimum_nights  number_of_reviews  reviews_per_month  \\\n0               1                138               1.14   \n1               1                114               1.03   \n2              30                 89               0.81   \n\n   calculated_host_listings_count  availability_365       city  \n0                               1                 0  Asheville  \n1                              11               288  Asheville  \n2                               2               298  Asheville  ",
      "text/html": "<div>\n<style scoped>\n    .dataframe tbody tr th:only-of-type {\n        vertical-align: middle;\n    }\n\n    .dataframe tbody tr th {\n        vertical-align: top;\n    }\n\n    .dataframe thead th {\n        text-align: right;\n    }\n</style>\n<table border=\"1\" class=\"dataframe\">\n  <thead>\n    <tr style=\"text-align: right;\">\n      <th></th>\n      <th>id</th>\n      <th>name</th>\n      <th>host_id</th>\n      <th>host_name</th>\n      <th>neighbourhood</th>\n      <th>latitude</th>\n      <th>longitude</th>\n      <th>room_type</th>\n      <th>price</th>\n      <th>minimum_nights</th>\n      <th>number_of_reviews</th>\n      <th>reviews_per_month</th>\n      <th>calculated_host_listings_count</th>\n      <th>availability_365</th>\n      <th>city</th>\n    </tr>\n  </thead>\n  <tbody>\n    <tr>\n      <th>0</th>\n      <td>38585</td>\n      <td>Charming Victorian home - twin beds + breakfast</td>\n      <td>165529</td>\n      <td>Evelyne</td>\n      <td>28804</td>\n      <td>35.65146</td>\n      <td>-82.62792</td>\n      <td>Private room</td>\n      <td>60</td>\n      <td>1</td>\n      <td>138</td>\n      <td>1.14</td>\n      <td>1</td>\n      <td>0</td>\n      <td>Asheville</td>\n    </tr>\n    <tr>\n      <th>1</th>\n      <td>80905</td>\n      <td>French Chic Loft</td>\n      <td>427027</td>\n      <td>Celeste</td>\n      <td>28801</td>\n      <td>35.59779</td>\n      <td>-82.55540</td>\n      <td>Entire home/apt</td>\n      <td>470</td>\n      <td>1</td>\n      <td>114</td>\n      <td>1.03</td>\n      <td>11</td>\n      <td>288</td>\n      <td>Asheville</td>\n    </tr>\n    <tr>\n      <th>2</th>\n      <td>108061</td>\n      <td>Walk to stores/parks/downtown. Fenced yard/Pet...</td>\n      <td>320564</td>\n      <td>Lisa</td>\n      <td>28801</td>\n      <td>35.60670</td>\n      <td>-82.55563</td>\n      <td>Entire home/apt</td>\n      <td>75</td>\n      <td>30</td>\n      <td>89</td>\n      <td>0.81</td>\n      <td>2</td>\n      <td>298</td>\n      <td>Asheville</td>\n    </tr>\n  </tbody>\n</table>\n</div>"
     },
     "execution_count": 12,
     "metadata": {},
     "output_type": "execute_result"
    }
   ],
   "source": [
    "# dropping 'last_review' column\n",
    "df.drop(['last_review'], axis=1, inplace=True)\n",
    "# examining the changes\n",
    "df.head(3)"
   ],
   "metadata": {
    "collapsed": false,
    "pycharm": {
     "name": "#%%\n"
    }
   }
  },
  {
   "cell_type": "code",
   "execution_count": 13,
   "outputs": [
    {
     "data": {
      "text/plain": "(226030, 15)"
     },
     "execution_count": 13,
     "metadata": {},
     "output_type": "execute_result"
    }
   ],
   "source": [
    "# number of columns changed to 15\n",
    "df.shape"
   ],
   "metadata": {
    "collapsed": false,
    "pycharm": {
     "name": "#%%\n"
    }
   }
  },
  {
   "cell_type": "code",
   "execution_count": 14,
   "outputs": [
    {
     "name": "stdout",
     "output_type": "stream",
     "text": [
      "Number of unique 'host_id' listings: 130425\n",
      "Number of unique 'host_name' listings: 30534\n",
      "\n",
      "Number of unique 'id' listings: 226029\n",
      "Overall number of instances: 226030\n"
     ]
    }
   ],
   "source": [
    "# comparing number of unique values\n",
    "print(\"Number of unique 'host_id' listings:\", df['host_id'].unique().size)\n",
    "print(\"Number of unique 'host_name' listings:\", df['host_name'].unique().size)\n",
    "print()\n",
    "print(\"Number of unique 'id' listings:\", df['id'].unique().size)\n",
    "print(\"Overall number of instances:\", len(df))"
   ],
   "metadata": {
    "collapsed": false,
    "pycharm": {
     "name": "#%%\n"
    }
   }
  },
  {
   "cell_type": "markdown",
   "source": [
    "As shown above, the 'host_id' column provides a unique identification number for each host.\n",
    "Meanwhile, the 'host_name' column is insubstantial since various hosts could have the same name.\n",
    "Moreover, the 'id' column is individual for each listing. Both columns are useless for research\n",
    "and will be removed."
   ],
   "metadata": {
    "collapsed": false,
    "pycharm": {
     "name": "#%% md\n"
    }
   }
  },
  {
   "cell_type": "code",
   "execution_count": 15,
   "outputs": [
    {
     "data": {
      "text/plain": "                                                name  host_id neighbourhood  \\\n0    Charming Victorian home - twin beds + breakfast   165529         28804   \n1                                   French Chic Loft   427027         28801   \n2  Walk to stores/parks/downtown. Fenced yard/Pet...   320564         28801   \n\n   latitude  longitude        room_type  price  minimum_nights  \\\n0  35.65146  -82.62792     Private room     60               1   \n1  35.59779  -82.55540  Entire home/apt    470               1   \n2  35.60670  -82.55563  Entire home/apt     75              30   \n\n   number_of_reviews  reviews_per_month  calculated_host_listings_count  \\\n0                138               1.14                               1   \n1                114               1.03                              11   \n2                 89               0.81                               2   \n\n   availability_365       city  \n0                 0  Asheville  \n1               288  Asheville  \n2               298  Asheville  ",
      "text/html": "<div>\n<style scoped>\n    .dataframe tbody tr th:only-of-type {\n        vertical-align: middle;\n    }\n\n    .dataframe tbody tr th {\n        vertical-align: top;\n    }\n\n    .dataframe thead th {\n        text-align: right;\n    }\n</style>\n<table border=\"1\" class=\"dataframe\">\n  <thead>\n    <tr style=\"text-align: right;\">\n      <th></th>\n      <th>name</th>\n      <th>host_id</th>\n      <th>neighbourhood</th>\n      <th>latitude</th>\n      <th>longitude</th>\n      <th>room_type</th>\n      <th>price</th>\n      <th>minimum_nights</th>\n      <th>number_of_reviews</th>\n      <th>reviews_per_month</th>\n      <th>calculated_host_listings_count</th>\n      <th>availability_365</th>\n      <th>city</th>\n    </tr>\n  </thead>\n  <tbody>\n    <tr>\n      <th>0</th>\n      <td>Charming Victorian home - twin beds + breakfast</td>\n      <td>165529</td>\n      <td>28804</td>\n      <td>35.65146</td>\n      <td>-82.62792</td>\n      <td>Private room</td>\n      <td>60</td>\n      <td>1</td>\n      <td>138</td>\n      <td>1.14</td>\n      <td>1</td>\n      <td>0</td>\n      <td>Asheville</td>\n    </tr>\n    <tr>\n      <th>1</th>\n      <td>French Chic Loft</td>\n      <td>427027</td>\n      <td>28801</td>\n      <td>35.59779</td>\n      <td>-82.55540</td>\n      <td>Entire home/apt</td>\n      <td>470</td>\n      <td>1</td>\n      <td>114</td>\n      <td>1.03</td>\n      <td>11</td>\n      <td>288</td>\n      <td>Asheville</td>\n    </tr>\n    <tr>\n      <th>2</th>\n      <td>Walk to stores/parks/downtown. Fenced yard/Pet...</td>\n      <td>320564</td>\n      <td>28801</td>\n      <td>35.60670</td>\n      <td>-82.55563</td>\n      <td>Entire home/apt</td>\n      <td>75</td>\n      <td>30</td>\n      <td>89</td>\n      <td>0.81</td>\n      <td>2</td>\n      <td>298</td>\n      <td>Asheville</td>\n    </tr>\n  </tbody>\n</table>\n</div>"
     },
     "execution_count": 15,
     "metadata": {},
     "output_type": "execute_result"
    }
   ],
   "source": [
    "# dropping 'host_name' and 'id' columns\n",
    "df.drop(['host_name', 'id'], axis=1, inplace=True)\n",
    "# examining the changes\n",
    "df.head(3)"
   ],
   "metadata": {
    "collapsed": false,
    "pycharm": {
     "name": "#%%\n"
    }
   }
  },
  {
   "cell_type": "code",
   "execution_count": 16,
   "outputs": [
    {
     "data": {
      "text/plain": "(226030, 13)"
     },
     "execution_count": 16,
     "metadata": {},
     "output_type": "execute_result"
    }
   ],
   "source": [
    "# number of columns changed to 13\n",
    "df.shape"
   ],
   "metadata": {
    "collapsed": false,
    "pycharm": {
     "name": "#%%\n"
    }
   }
  },
  {
   "cell_type": "code",
   "execution_count": 17,
   "outputs": [
    {
     "data": {
      "text/plain": "name                              28\nhost_id                            0\nneighbourhood                      0\nlatitude                           0\nlongitude                          0\nroom_type                          0\nprice                              0\nminimum_nights                     0\nnumber_of_reviews                  0\nreviews_per_month                  0\ncalculated_host_listings_count     0\navailability_365                   0\ncity                               0\ndtype: int64"
     },
     "execution_count": 17,
     "metadata": {},
     "output_type": "execute_result"
    }
   ],
   "source": [
    "# checking null values left\n",
    "df.isnull().sum()"
   ],
   "metadata": {
    "collapsed": false,
    "pycharm": {
     "name": "#%%\n"
    }
   }
  },
  {
   "cell_type": "code",
   "execution_count": 18,
   "outputs": [
    {
     "data": {
      "text/plain": "       name    host_id      neighbourhood  latitude  longitude  \\\n23691   NaN  305261435      Pompano Beach  26.28332  -80.10731   \n81872   NaN  114871749           Pasadena  34.17216 -118.11699   \n93004   NaN  141228320      Santa Clarita  34.41328 -118.44301   \n119475  NaN    6676776  Battery Park City  40.71239  -74.01620   \n120149  NaN   11395220       East Village  40.73215  -73.98821   \n\n              room_type  price  minimum_nights  number_of_reviews  \\\n23691   Entire home/apt     79               2                 16   \n81872      Private room    125               2                  0   \n93004      Private room     40               1                 10   \n119475  Entire home/apt    400            1000                  0   \n120149  Entire home/apt    200               1                 28   \n\n        reviews_per_month  calculated_host_listings_count  availability_365  \\\n23691                2.23                               2               136   \n81872                0.00                               1               179   \n93004                0.64                               1               129   \n119475               0.00                               1               362   \n120149               0.37                               1               364   \n\n                  city  \n23691   Broward County  \n81872      Los Angeles  \n93004      Los Angeles  \n119475   New York City  \n120149   New York City  ",
      "text/html": "<div>\n<style scoped>\n    .dataframe tbody tr th:only-of-type {\n        vertical-align: middle;\n    }\n\n    .dataframe tbody tr th {\n        vertical-align: top;\n    }\n\n    .dataframe thead th {\n        text-align: right;\n    }\n</style>\n<table border=\"1\" class=\"dataframe\">\n  <thead>\n    <tr style=\"text-align: right;\">\n      <th></th>\n      <th>name</th>\n      <th>host_id</th>\n      <th>neighbourhood</th>\n      <th>latitude</th>\n      <th>longitude</th>\n      <th>room_type</th>\n      <th>price</th>\n      <th>minimum_nights</th>\n      <th>number_of_reviews</th>\n      <th>reviews_per_month</th>\n      <th>calculated_host_listings_count</th>\n      <th>availability_365</th>\n      <th>city</th>\n    </tr>\n  </thead>\n  <tbody>\n    <tr>\n      <th>23691</th>\n      <td>NaN</td>\n      <td>305261435</td>\n      <td>Pompano Beach</td>\n      <td>26.28332</td>\n      <td>-80.10731</td>\n      <td>Entire home/apt</td>\n      <td>79</td>\n      <td>2</td>\n      <td>16</td>\n      <td>2.23</td>\n      <td>2</td>\n      <td>136</td>\n      <td>Broward County</td>\n    </tr>\n    <tr>\n      <th>81872</th>\n      <td>NaN</td>\n      <td>114871749</td>\n      <td>Pasadena</td>\n      <td>34.17216</td>\n      <td>-118.11699</td>\n      <td>Private room</td>\n      <td>125</td>\n      <td>2</td>\n      <td>0</td>\n      <td>0.00</td>\n      <td>1</td>\n      <td>179</td>\n      <td>Los Angeles</td>\n    </tr>\n    <tr>\n      <th>93004</th>\n      <td>NaN</td>\n      <td>141228320</td>\n      <td>Santa Clarita</td>\n      <td>34.41328</td>\n      <td>-118.44301</td>\n      <td>Private room</td>\n      <td>40</td>\n      <td>1</td>\n      <td>10</td>\n      <td>0.64</td>\n      <td>1</td>\n      <td>129</td>\n      <td>Los Angeles</td>\n    </tr>\n    <tr>\n      <th>119475</th>\n      <td>NaN</td>\n      <td>6676776</td>\n      <td>Battery Park City</td>\n      <td>40.71239</td>\n      <td>-74.01620</td>\n      <td>Entire home/apt</td>\n      <td>400</td>\n      <td>1000</td>\n      <td>0</td>\n      <td>0.00</td>\n      <td>1</td>\n      <td>362</td>\n      <td>New York City</td>\n    </tr>\n    <tr>\n      <th>120149</th>\n      <td>NaN</td>\n      <td>11395220</td>\n      <td>East Village</td>\n      <td>40.73215</td>\n      <td>-73.98821</td>\n      <td>Entire home/apt</td>\n      <td>200</td>\n      <td>1</td>\n      <td>28</td>\n      <td>0.37</td>\n      <td>1</td>\n      <td>364</td>\n      <td>New York City</td>\n    </tr>\n  </tbody>\n</table>\n</div>"
     },
     "execution_count": 18,
     "metadata": {},
     "output_type": "execute_result"
    }
   ],
   "source": [
    "# new DataFrame with the instances that have NaN in the 'name' column\n",
    "df1 = df[df.isna().any(axis=1)]\n",
    "df1.head()"
   ],
   "metadata": {
    "collapsed": false,
    "pycharm": {
     "name": "#%%\n"
    }
   }
  },
  {
   "cell_type": "code",
   "execution_count": 19,
   "outputs": [
    {
     "data": {
      "text/plain": "New York City        18\nTwin Cities MSA       5\nLos Angeles           2\nSan Clara Country     1\nBroward County        1\nWashington D.C.       1\nName: city, dtype: int64"
     },
     "execution_count": 19,
     "metadata": {},
     "output_type": "execute_result"
    }
   ],
   "source": [
    "# examining the null values according to cities\n",
    "df1['city'].value_counts()"
   ],
   "metadata": {
    "collapsed": false,
    "pycharm": {
     "name": "#%%\n"
    }
   }
  },
  {
   "cell_type": "markdown",
   "source": [
    "The 'name' column is irrelevant for research, so it can be changed in order to keep the data."
   ],
   "metadata": {
    "collapsed": false,
    "pycharm": {
     "name": "#%% md\n"
    }
   }
  },
  {
   "cell_type": "code",
   "execution_count": 20,
   "outputs": [
    {
     "data": {
      "text/plain": "0"
     },
     "execution_count": 20,
     "metadata": {},
     "output_type": "execute_result"
    }
   ],
   "source": [
    "# replacing null values in 'name' column with 'Unnamed'\n",
    "df.fillna({'name': 'Unnamed'}, inplace=True)\n",
    "# examining changes\n",
    "df['name'].isnull().sum()"
   ],
   "metadata": {
    "collapsed": false,
    "pycharm": {
     "name": "#%%\n"
    }
   }
  },
  {
   "cell_type": "markdown",
   "source": [
    "## 4. Visualization of the Data\n",
    "##### *The motivation for this section is to gain more insights.*"
   ],
   "metadata": {
    "collapsed": false,
    "pycharm": {
     "name": "#%% md\n"
    }
   }
  },
  {
   "cell_type": "markdown",
   "source": [
    "### Cities According to States:\n",
    "\n",
    "|Category Number|State|Abbreviation|City (listed in DF)|\n",
    "|:------:|:------:|:------:|:------:|\n",
    "|**1**|California    |CA    | Los Angles |\n",
    "|**1**|California    |CA    | Oakland |\n",
    "|**1**|California    |CA    | Pacific Grove |\n",
    "|**1**|California    |CA    | San Clara Country |\n",
    "|**1**|California    |CA    | San Diego |\n",
    "|**1**|California    |CA    | San Francisco |\n",
    "|**1**|California    |CA    | San Mateo County |\n",
    "|**1**|California    |CA    | Santa Cruz County |\n",
    "|**2**|Colorado    |CO     | Denver    |\n",
    "|**3**|District of Columbia   |DC     |Washington D.C.     |\n",
    "|**4**|Florida    |FL   |Broward County    |\n",
    "|**5**|Hawaii    |HI     |Hawaii     |\n",
    "|**6**|Illinois    |IL     |Chicago     |\n",
    "|**7**|Louisiana    |LA    |New Orleans     |\n",
    "|**8**|Massachusetts    |MA     |Boston     |\n",
    "|**8**|Massachusetts    |MA     |Cambridge     |\n",
    "|**8**|Massachusetts    |MA     |Salem     |\n",
    "|**9**|Minnesota     |MN     |Twin Cities MSA     |\n",
    "|**10**|Nevada    |NV    |Clark County     |\n",
    "|**11**|New Jersey     |NJ     |Jersey City     |\n",
    "|**12**|New York     |NY     |New York City     |\n",
    "|**13**|North Carolina     |NC     |Asheville     |\n",
    "|**14**|Ohio    |OH     |Columbus     |\n",
    "|**15**|Oregon     |OR     |Portland     |\n",
    "|**16**|Rhode Island     |RI     |Rhode Island     |\n",
    "|**17**|Tennessee     |TN     |Nashville     |\n",
    "|**18**|Texas     |TX     |Austin     |\n",
    "|**19**|Washington    |WA     |Seattle     |"
   ],
   "metadata": {
    "collapsed": false
   }
  },
  {
   "cell_type": "code",
   "execution_count": 21,
   "outputs": [],
   "source": [
    "# deep copy of DataFrame\n",
    "df2 = df.copy()"
   ],
   "metadata": {
    "collapsed": false,
    "pycharm": {
     "name": "#%%\n"
    }
   }
  },
  {
   "cell_type": "code",
   "execution_count": 22,
   "outputs": [],
   "source": [
    "# adding state column to DataFrame\n",
    "state = {\n",
    "    \"Los Angeles\": 1,\n",
    "    \"Oakland\": 1,\n",
    "    \"Pacific Grove\": 1,\n",
    "    \"San Clara Country\": 1,\n",
    "    \"San Diego\": 1,\n",
    "    \"San Francisco\": 1,\n",
    "    \"San Mateo County\": 1,\n",
    "    \"Santa Cruz County\": 1,\n",
    "\n",
    "    \"Denver\": 2,\n",
    "\n",
    "    \"Washington D.C.\": 3,\n",
    "\n",
    "    \"Broward County\": 4,\n",
    "\n",
    "    \"Hawaii\": 5,\n",
    "\n",
    "    \"Chicago\": 6,\n",
    "\n",
    "    \"New Orleans\": 7,\n",
    "\n",
    "    \"Boston\": 8,\n",
    "    \"Cambridge\": 8,\n",
    "    \"Salem\": 8,\n",
    "\n",
    "    \"Twin Cities MSA\": 9,\n",
    "\n",
    "    \"Clark County\": 10,\n",
    "\n",
    "    \"Jersey City\": 11,\n",
    "\n",
    "    \"New York City\": 12,\n",
    "\n",
    "    \"Asheville\": 13,\n",
    "\n",
    "    \"Columbus\": 14,\n",
    "\n",
    "    \"Portland\": 15,\n",
    "\n",
    "    \"Rhode Island\": 16,\n",
    "\n",
    "    \"Nashville\": 17,\n",
    "\n",
    "    \"Austin\": 18,\n",
    "\n",
    "    \"Seattle\": 19\n",
    "}\n",
    "\n",
    "df2['state'] = df2['city'].map(state)"
   ],
   "metadata": {
    "collapsed": false,
    "pycharm": {
     "name": "#%%\n"
    }
   }
  },
  {
   "cell_type": "code",
   "execution_count": 23,
   "outputs": [
    {
     "data": {
      "text/plain": "0"
     },
     "execution_count": 23,
     "metadata": {},
     "output_type": "execute_result"
    }
   ],
   "source": [
    "# making sure state abbreviation was added to every instance\n",
    "df2['state'].isnull().sum()"
   ],
   "metadata": {
    "collapsed": false,
    "pycharm": {
     "name": "#%%\n"
    }
   }
  },
  {
   "cell_type": "code",
   "execution_count": 24,
   "outputs": [
    {
     "data": {
      "text/plain": "                                                name  host_id neighbourhood  \\\n0    Charming Victorian home - twin beds + breakfast   165529         28804   \n1                                   French Chic Loft   427027         28801   \n2  Walk to stores/parks/downtown. Fenced yard/Pet...   320564         28801   \n\n   latitude  longitude        room_type  price  minimum_nights  \\\n0  35.65146  -82.62792     Private room     60               1   \n1  35.59779  -82.55540  Entire home/apt    470               1   \n2  35.60670  -82.55563  Entire home/apt     75              30   \n\n   number_of_reviews  reviews_per_month  calculated_host_listings_count  \\\n0                138               1.14                               1   \n1                114               1.03                              11   \n2                 89               0.81                               2   \n\n   availability_365       city  state  \n0                 0  Asheville     13  \n1               288  Asheville     13  \n2               298  Asheville     13  ",
      "text/html": "<div>\n<style scoped>\n    .dataframe tbody tr th:only-of-type {\n        vertical-align: middle;\n    }\n\n    .dataframe tbody tr th {\n        vertical-align: top;\n    }\n\n    .dataframe thead th {\n        text-align: right;\n    }\n</style>\n<table border=\"1\" class=\"dataframe\">\n  <thead>\n    <tr style=\"text-align: right;\">\n      <th></th>\n      <th>name</th>\n      <th>host_id</th>\n      <th>neighbourhood</th>\n      <th>latitude</th>\n      <th>longitude</th>\n      <th>room_type</th>\n      <th>price</th>\n      <th>minimum_nights</th>\n      <th>number_of_reviews</th>\n      <th>reviews_per_month</th>\n      <th>calculated_host_listings_count</th>\n      <th>availability_365</th>\n      <th>city</th>\n      <th>state</th>\n    </tr>\n  </thead>\n  <tbody>\n    <tr>\n      <th>0</th>\n      <td>Charming Victorian home - twin beds + breakfast</td>\n      <td>165529</td>\n      <td>28804</td>\n      <td>35.65146</td>\n      <td>-82.62792</td>\n      <td>Private room</td>\n      <td>60</td>\n      <td>1</td>\n      <td>138</td>\n      <td>1.14</td>\n      <td>1</td>\n      <td>0</td>\n      <td>Asheville</td>\n      <td>13</td>\n    </tr>\n    <tr>\n      <th>1</th>\n      <td>French Chic Loft</td>\n      <td>427027</td>\n      <td>28801</td>\n      <td>35.59779</td>\n      <td>-82.55540</td>\n      <td>Entire home/apt</td>\n      <td>470</td>\n      <td>1</td>\n      <td>114</td>\n      <td>1.03</td>\n      <td>11</td>\n      <td>288</td>\n      <td>Asheville</td>\n      <td>13</td>\n    </tr>\n    <tr>\n      <th>2</th>\n      <td>Walk to stores/parks/downtown. Fenced yard/Pet...</td>\n      <td>320564</td>\n      <td>28801</td>\n      <td>35.60670</td>\n      <td>-82.55563</td>\n      <td>Entire home/apt</td>\n      <td>75</td>\n      <td>30</td>\n      <td>89</td>\n      <td>0.81</td>\n      <td>2</td>\n      <td>298</td>\n      <td>Asheville</td>\n      <td>13</td>\n    </tr>\n  </tbody>\n</table>\n</div>"
     },
     "execution_count": 24,
     "metadata": {},
     "output_type": "execute_result"
    }
   ],
   "source": [
    "# examining the changes\n",
    "df2.head(3)"
   ],
   "metadata": {
    "collapsed": false,
    "pycharm": {
     "name": "#%%\n"
    }
   }
  },
  {
   "cell_type": "code",
   "execution_count": 25,
   "outputs": [
    {
     "data": {
      "text/plain": "1     65893\n12    45756\n5     22434\n4     10858\n18    10436\n10     8408\n3      7350\n19     6575\n9      6470\n7      6408\n6      6397\n17     6139\n8      4570\n15     4281\n2      4200\n16     3884\n11     2488\n13     2074\n14     1409\nName: state, dtype: int64"
     },
     "execution_count": 25,
     "metadata": {},
     "output_type": "execute_result"
    }
   ],
   "source": [
    "df2['state'].value_counts()"
   ],
   "metadata": {
    "collapsed": false,
    "pycharm": {
     "name": "#%%\n"
    }
   }
  },
  {
   "cell_type": "code",
   "execution_count": 28,
   "outputs": [
    {
     "data": {
      "text/plain": "([<matplotlib.axis.XTick at 0x1df90fe7a00>,\n  <matplotlib.axis.XTick at 0x1df90fe7700>,\n  <matplotlib.axis.XTick at 0x1df90fef670>,\n  <matplotlib.axis.XTick at 0x1df91079cd0>,\n  <matplotlib.axis.XTick at 0x1df91083220>,\n  <matplotlib.axis.XTick at 0x1df91083730>,\n  <matplotlib.axis.XTick at 0x1df91083c40>,\n  <matplotlib.axis.XTick at 0x1df91088190>,\n  <matplotlib.axis.XTick at 0x1df910886a0>,\n  <matplotlib.axis.XTick at 0x1df91088bb0>,\n  <matplotlib.axis.XTick at 0x1df9108d100>,\n  <matplotlib.axis.XTick at 0x1df91088910>,\n  <matplotlib.axis.XTick at 0x1df910839a0>,\n  <matplotlib.axis.XTick at 0x1df91079a30>,\n  <matplotlib.axis.XTick at 0x1df9108d7c0>,\n  <matplotlib.axis.XTick at 0x1df9108dcd0>,\n  <matplotlib.axis.XTick at 0x1df91094220>,\n  <matplotlib.axis.XTick at 0x1df91094730>,\n  <matplotlib.axis.XTick at 0x1df91094c40>],\n [Text(0, 0, 'CA'),\n  Text(0, 0, 'CO'),\n  Text(0, 0, 'DC'),\n  Text(0, 0, 'FL'),\n  Text(0, 0, 'HI'),\n  Text(0, 0, 'IL'),\n  Text(0, 0, 'LA'),\n  Text(0, 0, 'MA'),\n  Text(0, 0, 'MN'),\n  Text(0, 0, 'NV'),\n  Text(0, 0, 'NJ'),\n  Text(0, 0, 'NY'),\n  Text(0, 0, 'NC'),\n  Text(0, 0, 'OH'),\n  Text(0, 0, 'OR'),\n  Text(0, 0, 'RI'),\n  Text(0, 0, 'TN'),\n  Text(0, 0, 'TX'),\n  Text(0, 0, 'WA')])"
     },
     "execution_count": 28,
     "metadata": {},
     "output_type": "execute_result"
    },
    {
     "data": {
      "text/plain": "<Figure size 432x288 with 1 Axes>",
      "image/png": "[encoded data removed]"
     },
     "metadata": {},
     "output_type": "display_data"
    }
   ],
   "source": [
    "# plot price state correlation\n",
    "sns.set_style(style='whitegrid')\n",
    "sns.barplot(data=df2, x='state', y='price', orient='left')\n",
    "plt.xticks(ticks=[0,1,2,3,4,5,6,7,8,9,10,11,12,13,14,15,16,17,18],\n",
    "           labels=['CA', 'CO', 'DC', 'FL', 'HI', 'IL', 'LA', 'MA', 'MN', 'NV',\n",
    "                   'NJ', 'NY', 'NC', 'OH', 'OR', 'RI', 'TN', 'TX', 'WA'])"
   ],
   "metadata": {
    "collapsed": false,
    "pycharm": {
     "name": "#%%\n"
    }
   }
  },
  {
   "cell_type": "markdown",
   "source": [
    "The state column presents a new insight. When counting values by cities, it seems that New York has\n",
    "more listings. By counting values according to states we can notice that most listings are\n",
    "actually in California."
   ],
   "metadata": {
    "collapsed": false,
    "pycharm": {
     "name": "#%% md\n"
    }
   }
  },
  {
   "cell_type": "code",
   "execution_count": 26,
   "outputs": [],
   "source": [],
   "metadata": {
    "collapsed": false,
    "pycharm": {
     "name": "#%%\n"
    }
   }
  }
 ],
 "metadata": {
  "kernelspec": {
   "name": "python3",
   "language": "python",
   "display_name": "Python 3"
  },
  "language_info": {
   "codemirror_mode": {
    "name": "ipython",
    "version": 2
   },
   "file_extension": ".py",
   "mimetype": "text/x-python",
   "name": "python",
   "nbconvert_exporter": "python",
   "pygments_lexer": "ipython2",
   "version": "2.7.6"
  }
 },
 "nbformat": 4,
 "nbformat_minor": 0
}