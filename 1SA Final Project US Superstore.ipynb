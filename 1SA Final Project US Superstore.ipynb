{
 "cells": [
  {
   "cell_type": "markdown",
   "source": [
    "## 1. Loading the Data:"
   ],
   "metadata": {
    "collapsed": false,
    "pycharm": {
     "name": "#%% md\n"
    }
   }
  },
  {
   "cell_type": "code",
   "execution_count": 1,
   "metadata": {
    "collapsed": true
   },
   "outputs": [],
   "source": [
    "# import libraries that will be used\n",
    "import pandas as pd\n",
    "import numpy as np\n",
    "import seaborn as sns\n",
    "import matplotlib.pyplot as plt\n",
    "%matplotlib inline"
   ]
  },
  {
   "cell_type": "code",
   "execution_count": 2,
   "outputs": [],
   "source": [
    "# read csv file\n",
    "df = pd.read_csv(r\"C:\\Users\\adiya\\Documents\\Uni\\Data Science\\1SA-Final-Project\\US-Superstore.csv\")"
   ],
   "metadata": {
    "collapsed": false,
    "pycharm": {
     "name": "#%%\n"
    }
   }
  },
  {
   "cell_type": "markdown",
   "source": [
    "## 2. Understanding the Data:"
   ],
   "metadata": {
    "collapsed": false
   }
  },
  {
   "cell_type": "code",
   "execution_count": 3,
   "outputs": [
    {
     "data": {
      "text/plain": "   Row ID        Order ID  Order Date   Ship Date       Ship Mode Customer ID  \\\n0       1  CA-2016-152156   11/8/2016  11/11/2016    Second Class    CG-12520   \n1       2  CA-2016-152156   11/8/2016  11/11/2016    Second Class    CG-12520   \n2       3  CA-2016-138688   6/12/2016   6/16/2016    Second Class    DV-13045   \n3       4  US-2015-108966  10/11/2015  10/18/2015  Standard Class    SO-20335   \n4       5  US-2015-108966  10/11/2015  10/18/2015  Standard Class    SO-20335   \n\n     Customer Name    Segment        Country             City  ...  \\\n0      Claire Gute   Consumer  United States        Henderson  ...   \n1      Claire Gute   Consumer  United States        Henderson  ...   \n2  Darrin Van Huff  Corporate  United States      Los Angeles  ...   \n3   Sean O'Donnell   Consumer  United States  Fort Lauderdale  ...   \n4   Sean O'Donnell   Consumer  United States  Fort Lauderdale  ...   \n\n  Postal Code  Region       Product ID         Category Sub-Category  \\\n0       42420   South  FUR-BO-10001798        Furniture    Bookcases   \n1       42420   South  FUR-CH-10000454        Furniture       Chairs   \n2       90036    West  OFF-LA-10000240  Office Supplies       Labels   \n3       33311   South  FUR-TA-10000577        Furniture       Tables   \n4       33311   South  OFF-ST-10000760  Office Supplies      Storage   \n\n                                        Product Name     Sales  Quantity  \\\n0                  Bush Somerset Collection Bookcase  261.9600         2   \n1  Hon Deluxe Fabric Upholstered Stacking Chairs,...  731.9400         3   \n2  Self-Adhesive Address Labels for Typewriters b...   14.6200         2   \n3      Bretford CR4500 Series Slim Rectangular Table  957.5775         5   \n4                     Eldon Fold 'N Roll Cart System   22.3680         2   \n\n   Discount    Profit  \n0      0.00   41.9136  \n1      0.00  219.5820  \n2      0.00    6.8714  \n3      0.45 -383.0310  \n4      0.20    2.5164  \n\n[5 rows x 21 columns]",
      "text/html": "<div>\n<style scoped>\n    .dataframe tbody tr th:only-of-type {\n        vertical-align: middle;\n    }\n\n    .dataframe tbody tr th {\n        vertical-align: top;\n    }\n\n    .dataframe thead th {\n        text-align: right;\n    }\n</style>\n<table border=\"1\" class=\"dataframe\">\n  <thead>\n    <tr style=\"text-align: right;\">\n      <th></th>\n      <th>Row ID</th>\n      <th>Order ID</th>\n      <th>Order Date</th>\n      <th>Ship Date</th>\n      <th>Ship Mode</th>\n      <th>Customer ID</th>\n      <th>Customer Name</th>\n      <th>Segment</th>\n      <th>Country</th>\n      <th>City</th>\n      <th>...</th>\n      <th>Postal Code</th>\n      <th>Region</th>\n      <th>Product ID</th>\n      <th>Category</th>\n      <th>Sub-Category</th>\n      <th>Product Name</th>\n      <th>Sales</th>\n      <th>Quantity</th>\n      <th>Discount</th>\n      <th>Profit</th>\n    </tr>\n  </thead>\n  <tbody>\n    <tr>\n      <th>0</th>\n      <td>1</td>\n      <td>CA-2016-152156</td>\n      <td>11/8/2016</td>\n      <td>11/11/2016</td>\n      <td>Second Class</td>\n      <td>CG-12520</td>\n      <td>Claire Gute</td>\n      <td>Consumer</td>\n      <td>United States</td>\n      <td>Henderson</td>\n      <td>...</td>\n      <td>42420</td>\n      <td>South</td>\n      <td>FUR-BO-10001798</td>\n      <td>Furniture</td>\n      <td>Bookcases</td>\n      <td>Bush Somerset Collection Bookcase</td>\n      <td>261.9600</td>\n      <td>2</td>\n      <td>0.00</td>\n      <td>41.9136</td>\n    </tr>\n    <tr>\n      <th>1</th>\n      <td>2</td>\n      <td>CA-2016-152156</td>\n      <td>11/8/2016</td>\n      <td>11/11/2016</td>\n      <td>Second Class</td>\n      <td>CG-12520</td>\n      <td>Claire Gute</td>\n      <td>Consumer</td>\n      <td>United States</td>\n      <td>Henderson</td>\n      <td>...</td>\n      <td>42420</td>\n      <td>South</td>\n      <td>FUR-CH-10000454</td>\n      <td>Furniture</td>\n      <td>Chairs</td>\n      <td>Hon Deluxe Fabric Upholstered Stacking Chairs,...</td>\n      <td>731.9400</td>\n      <td>3</td>\n      <td>0.00</td>\n      <td>219.5820</td>\n    </tr>\n    <tr>\n      <th>2</th>\n      <td>3</td>\n      <td>CA-2016-138688</td>\n      <td>6/12/2016</td>\n      <td>6/16/2016</td>\n      <td>Second Class</td>\n      <td>DV-13045</td>\n      <td>Darrin Van Huff</td>\n      <td>Corporate</td>\n      <td>United States</td>\n      <td>Los Angeles</td>\n      <td>...</td>\n      <td>90036</td>\n      <td>West</td>\n      <td>OFF-LA-10000240</td>\n      <td>Office Supplies</td>\n      <td>Labels</td>\n      <td>Self-Adhesive Address Labels for Typewriters b...</td>\n      <td>14.6200</td>\n      <td>2</td>\n      <td>0.00</td>\n      <td>6.8714</td>\n    </tr>\n    <tr>\n      <th>3</th>\n      <td>4</td>\n      <td>US-2015-108966</td>\n      <td>10/11/2015</td>\n      <td>10/18/2015</td>\n      <td>Standard Class</td>\n      <td>SO-20335</td>\n      <td>Sean O'Donnell</td>\n      <td>Consumer</td>\n      <td>United States</td>\n      <td>Fort Lauderdale</td>\n      <td>...</td>\n      <td>33311</td>\n      <td>South</td>\n      <td>FUR-TA-10000577</td>\n      <td>Furniture</td>\n      <td>Tables</td>\n      <td>Bretford CR4500 Series Slim Rectangular Table</td>\n      <td>957.5775</td>\n      <td>5</td>\n      <td>0.45</td>\n      <td>-383.0310</td>\n    </tr>\n    <tr>\n      <th>4</th>\n      <td>5</td>\n      <td>US-2015-108966</td>\n      <td>10/11/2015</td>\n      <td>10/18/2015</td>\n      <td>Standard Class</td>\n      <td>SO-20335</td>\n      <td>Sean O'Donnell</td>\n      <td>Consumer</td>\n      <td>United States</td>\n      <td>Fort Lauderdale</td>\n      <td>...</td>\n      <td>33311</td>\n      <td>South</td>\n      <td>OFF-ST-10000760</td>\n      <td>Office Supplies</td>\n      <td>Storage</td>\n      <td>Eldon Fold 'N Roll Cart System</td>\n      <td>22.3680</td>\n      <td>2</td>\n      <td>0.20</td>\n      <td>2.5164</td>\n    </tr>\n  </tbody>\n</table>\n<p>5 rows × 21 columns</p>\n</div>"
     },
     "execution_count": 3,
     "metadata": {},
     "output_type": "execute_result"
    }
   ],
   "source": [
    "# display the first 5 rows for a quick look\n",
    "df.head()"
   ],
   "metadata": {
    "collapsed": false,
    "pycharm": {
     "name": "#%%\n"
    }
   }
  },
  {
   "cell_type": "code",
   "execution_count": 4,
   "outputs": [
    {
     "data": {
      "text/plain": "(9994, 21)"
     },
     "execution_count": 4,
     "metadata": {},
     "output_type": "execute_result"
    }
   ],
   "source": [
    "# check the shape of the DataFrame (rows, columns)\n",
    "# understand the amount of data\n",
    "df.shape"
   ],
   "metadata": {
    "collapsed": false,
    "pycharm": {
     "name": "#%%\n"
    }
   }
  },
  {
   "cell_type": "code",
   "execution_count": 5,
   "outputs": [
    {
     "name": "stdout",
     "output_type": "stream",
     "text": [
      "<class 'pandas.core.frame.DataFrame'>\n",
      "RangeIndex: 9994 entries, 0 to 9993\n",
      "Data columns (total 21 columns):\n",
      " #   Column         Non-Null Count  Dtype  \n",
      "---  ------         --------------  -----  \n",
      " 0   Row ID         9994 non-null   int64  \n",
      " 1   Order ID       9994 non-null   object \n",
      " 2   Order Date     9994 non-null   object \n",
      " 3   Ship Date      9994 non-null   object \n",
      " 4   Ship Mode      9994 non-null   object \n",
      " 5   Customer ID    9994 non-null   object \n",
      " 6   Customer Name  9994 non-null   object \n",
      " 7   Segment        9994 non-null   object \n",
      " 8   Country        9994 non-null   object \n",
      " 9   City           9994 non-null   object \n",
      " 10  State          9994 non-null   object \n",
      " 11  Postal Code    9994 non-null   int64  \n",
      " 12  Region         9994 non-null   object \n",
      " 13  Product ID     9994 non-null   object \n",
      " 14  Category       9994 non-null   object \n",
      " 15  Sub-Category   9994 non-null   object \n",
      " 16  Product Name   9994 non-null   object \n",
      " 17  Sales          9994 non-null   float64\n",
      " 18  Quantity       9994 non-null   int64  \n",
      " 19  Discount       9994 non-null   float64\n",
      " 20  Profit         9994 non-null   float64\n",
      "dtypes: float64(3), int64(3), object(15)\n",
      "memory usage: 1.6+ MB\n"
     ]
    }
   ],
   "source": [
    "# description of data\n",
    "df.info()"
   ],
   "metadata": {
    "collapsed": false,
    "pycharm": {
     "name": "#%%\n"
    }
   }
  },
  {
   "cell_type": "code",
   "execution_count": 6,
   "outputs": [
    {
     "data": {
      "text/plain": "Row ID           0\nOrder ID         0\nOrder Date       0\nShip Date        0\nShip Mode        0\nCustomer ID      0\nCustomer Name    0\nSegment          0\nCountry          0\nCity             0\nState            0\nPostal Code      0\nRegion           0\nProduct ID       0\nCategory         0\nSub-Category     0\nProduct Name     0\nSales            0\nQuantity         0\nDiscount         0\nProfit           0\ndtype: int64"
     },
     "execution_count": 6,
     "metadata": {},
     "output_type": "execute_result"
    }
   ],
   "source": [
    "# the methods below calculate the number of missing values in each feature\n",
    "# as seen in info all instances are not null\n",
    "df.isna().sum()"
   ],
   "metadata": {
    "collapsed": false,
    "pycharm": {
     "name": "#%%\n"
    }
   }
  },
  {
   "cell_type": "markdown",
   "source": [
    "### Features in the DataFrame:\n",
    "\n",
    "##### *Understanding the features helps gain insight*\n",
    "\n",
    "0. Row ID: Serial Number\n",
    "1. Order ID: ID created when a product order is placed\n",
    "2. Order Date: Date when the order was first placed\n",
    "3. Ship Date: Date of shipment\n",
    "4. Ship Mode: Shipment class\n",
    "5. Customer ID: ID assigned to each customer who places an order\n",
    "6. Customer Name: Name of customer\n",
    "7. Segment: Type of client making the purchase\n",
    "8. Country: Country of sales (US in this dataset)\n",
    "9. City: City in the US\n",
    "10. Postal Code: Zip code\n",
    "11. Region: Region in the US\n",
    "12. Product ID: ID of each product\n",
    "13. Category: Main category of product\n",
    "14. Sub-Category: Secondary or subordinate category\n",
    "15. Product Name: Name of product\n",
    "16. Sales: Product selling price\n",
    "17. Quantity: Number of available products\n",
    "18. Discount: Discount available for product\n",
    "19. Profit: Profit gained from sale"
   ],
   "metadata": {
    "collapsed": false,
    "pycharm": {
     "name": "#%% md\n"
    }
   }
  },
  {
   "cell_type": "markdown",
   "source": [
    "## 3. Cleaning the Data:"
   ],
   "metadata": {
    "collapsed": false,
    "pycharm": {
     "name": "#%% md\n"
    }
   }
  },
  {
   "cell_type": "code",
   "execution_count": 7,
   "outputs": [],
   "source": [
    "# creating a deep copy of the DataFrame\n",
    "# current changes will be made on the copied version\n",
    "df1 = df.copy()"
   ],
   "metadata": {
    "collapsed": false,
    "pycharm": {
     "name": "#%%\n"
    }
   }
  },
  {
   "cell_type": "code",
   "execution_count": 8,
   "outputs": [
    {
     "data": {
      "text/plain": "array([   1,    2,    3, ..., 9992, 9993, 9994], dtype=int64)"
     },
     "execution_count": 8,
     "metadata": {},
     "output_type": "execute_result"
    }
   ],
   "source": [
    "# checking if the 'Row ID' matched the number of instances\n",
    "df1['Row ID'].unique()"
   ],
   "metadata": {
    "collapsed": false,
    "pycharm": {
     "name": "#%%\n"
    }
   }
  },
  {
   "cell_type": "code",
   "execution_count": 9,
   "outputs": [],
   "source": [
    "# setting 'Row ID' as DataFrame index\n",
    "df1.set_index(['Row ID'], inplace=True)"
   ],
   "metadata": {
    "collapsed": false,
    "pycharm": {
     "name": "#%%\n"
    }
   }
  },
  {
   "cell_type": "code",
   "execution_count": 10,
   "outputs": [
    {
     "name": "stdout",
     "output_type": "stream",
     "text": [
      "Number of unique countries: 1 ['United States']\n",
      "Number of unique cities: 531\n",
      "Number of unique regions: 4\n"
     ]
    }
   ],
   "source": [
    "# comparing number of unique values\n",
    "print(\"Number of unique countries:\", df['Country'].unique().size, df['Country'].unique())\n",
    "print(\"Number of unique cities:\", df['City'].unique().size)\n",
    "print(\"Number of unique regions:\", df['Region'].unique().size)"
   ],
   "metadata": {
    "collapsed": false,
    "pycharm": {
     "name": "#%%\n"
    }
   }
  },
  {
   "cell_type": "markdown",
   "source": [
    "> The dataset only includes purchases made in the United States. This is also shown in the code above.\n",
    "> With this knowledge, it is clear that the column is useless and can be removed."
   ],
   "metadata": {
    "collapsed": false
   }
  },
  {
   "cell_type": "code",
   "execution_count": 11,
   "outputs": [
    {
     "data": {
      "text/plain": "              Order ID Order Date   Ship Date     Ship Mode Customer ID  \\\nRow ID                                                                    \n1       CA-2016-152156  11/8/2016  11/11/2016  Second Class    CG-12520   \n2       CA-2016-152156  11/8/2016  11/11/2016  Second Class    CG-12520   \n3       CA-2016-138688  6/12/2016   6/16/2016  Second Class    DV-13045   \n\n          Customer Name    Segment         City       State  Postal Code  \\\nRow ID                                                                     \n1           Claire Gute   Consumer    Henderson    Kentucky        42420   \n2           Claire Gute   Consumer    Henderson    Kentucky        42420   \n3       Darrin Van Huff  Corporate  Los Angeles  California        90036   \n\n       Region       Product ID         Category Sub-Category  \\\nRow ID                                                         \n1       South  FUR-BO-10001798        Furniture    Bookcases   \n2       South  FUR-CH-10000454        Furniture       Chairs   \n3        West  OFF-LA-10000240  Office Supplies       Labels   \n\n                                             Product Name   Sales  Quantity  \\\nRow ID                                                                        \n1                       Bush Somerset Collection Bookcase  261.96         2   \n2       Hon Deluxe Fabric Upholstered Stacking Chairs,...  731.94         3   \n3       Self-Adhesive Address Labels for Typewriters b...   14.62         2   \n\n        Discount    Profit  \nRow ID                      \n1            0.0   41.9136  \n2            0.0  219.5820  \n3            0.0    6.8714  ",
      "text/html": "<div>\n<style scoped>\n    .dataframe tbody tr th:only-of-type {\n        vertical-align: middle;\n    }\n\n    .dataframe tbody tr th {\n        vertical-align: top;\n    }\n\n    .dataframe thead th {\n        text-align: right;\n    }\n</style>\n<table border=\"1\" class=\"dataframe\">\n  <thead>\n    <tr style=\"text-align: right;\">\n      <th></th>\n      <th>Order ID</th>\n      <th>Order Date</th>\n      <th>Ship Date</th>\n      <th>Ship Mode</th>\n      <th>Customer ID</th>\n      <th>Customer Name</th>\n      <th>Segment</th>\n      <th>City</th>\n      <th>State</th>\n      <th>Postal Code</th>\n      <th>Region</th>\n      <th>Product ID</th>\n      <th>Category</th>\n      <th>Sub-Category</th>\n      <th>Product Name</th>\n      <th>Sales</th>\n      <th>Quantity</th>\n      <th>Discount</th>\n      <th>Profit</th>\n    </tr>\n    <tr>\n      <th>Row ID</th>\n      <th></th>\n      <th></th>\n      <th></th>\n      <th></th>\n      <th></th>\n      <th></th>\n      <th></th>\n      <th></th>\n      <th></th>\n      <th></th>\n      <th></th>\n      <th></th>\n      <th></th>\n      <th></th>\n      <th></th>\n      <th></th>\n      <th></th>\n      <th></th>\n      <th></th>\n    </tr>\n  </thead>\n  <tbody>\n    <tr>\n      <th>1</th>\n      <td>CA-2016-152156</td>\n      <td>11/8/2016</td>\n      <td>11/11/2016</td>\n      <td>Second Class</td>\n      <td>CG-12520</td>\n      <td>Claire Gute</td>\n      <td>Consumer</td>\n      <td>Henderson</td>\n      <td>Kentucky</td>\n      <td>42420</td>\n      <td>South</td>\n      <td>FUR-BO-10001798</td>\n      <td>Furniture</td>\n      <td>Bookcases</td>\n      <td>Bush Somerset Collection Bookcase</td>\n      <td>261.96</td>\n      <td>2</td>\n      <td>0.0</td>\n      <td>41.9136</td>\n    </tr>\n    <tr>\n      <th>2</th>\n      <td>CA-2016-152156</td>\n      <td>11/8/2016</td>\n      <td>11/11/2016</td>\n      <td>Second Class</td>\n      <td>CG-12520</td>\n      <td>Claire Gute</td>\n      <td>Consumer</td>\n      <td>Henderson</td>\n      <td>Kentucky</td>\n      <td>42420</td>\n      <td>South</td>\n      <td>FUR-CH-10000454</td>\n      <td>Furniture</td>\n      <td>Chairs</td>\n      <td>Hon Deluxe Fabric Upholstered Stacking Chairs,...</td>\n      <td>731.94</td>\n      <td>3</td>\n      <td>0.0</td>\n      <td>219.5820</td>\n    </tr>\n    <tr>\n      <th>3</th>\n      <td>CA-2016-138688</td>\n      <td>6/12/2016</td>\n      <td>6/16/2016</td>\n      <td>Second Class</td>\n      <td>DV-13045</td>\n      <td>Darrin Van Huff</td>\n      <td>Corporate</td>\n      <td>Los Angeles</td>\n      <td>California</td>\n      <td>90036</td>\n      <td>West</td>\n      <td>OFF-LA-10000240</td>\n      <td>Office Supplies</td>\n      <td>Labels</td>\n      <td>Self-Adhesive Address Labels for Typewriters b...</td>\n      <td>14.62</td>\n      <td>2</td>\n      <td>0.0</td>\n      <td>6.8714</td>\n    </tr>\n  </tbody>\n</table>\n</div>"
     },
     "execution_count": 11,
     "metadata": {},
     "output_type": "execute_result"
    }
   ],
   "source": [
    "# dropping 'Country' column\n",
    "df1.drop(['Country'], axis=1, inplace=True)\n",
    "# examining the changes\n",
    "df1.head(3)"
   ],
   "metadata": {
    "collapsed": false,
    "pycharm": {
     "name": "#%%\n"
    }
   }
  },
  {
   "cell_type": "code",
   "execution_count": 12,
   "outputs": [
    {
     "name": "stdout",
     "output_type": "stream",
     "text": [
      "Number of unique Customer ID's: 793\n",
      "Number of unique Customer Name's: 793\n"
     ]
    }
   ],
   "source": [
    "print(\"Number of unique Customer ID's:\", df['Customer ID'].unique().size)\n",
    "print(\"Number of unique Customer Name's:\", df['Customer Name'].unique().size)"
   ],
   "metadata": {
    "collapsed": false,
    "pycharm": {
     "name": "#%%\n"
    }
   }
  },
  {
   "cell_type": "markdown",
   "source": [
    "> The number of Customer ID's and names are identical. Additionally, by looking at the\n",
    "> DataFrame it seems that the customers initials are included in the ID.\n",
    "> The Customer ID provides a better indication since various customers could have\n",
    "> the same name. Given that both columns also provide the same information, the\n",
    "> Customer Name column is unnecessary.\n"
   ],
   "metadata": {
    "collapsed": false,
    "pycharm": {
     "name": "#%% md\n"
    }
   }
  },
  {
   "cell_type": "code",
   "execution_count": 13,
   "outputs": [
    {
     "data": {
      "text/plain": "              Order ID Order Date   Ship Date     Ship Mode Customer ID  \\\nRow ID                                                                    \n1       CA-2016-152156  11/8/2016  11/11/2016  Second Class    CG-12520   \n2       CA-2016-152156  11/8/2016  11/11/2016  Second Class    CG-12520   \n\n         Segment       City     State  Postal Code Region       Product ID  \\\nRow ID                                                                       \n1       Consumer  Henderson  Kentucky        42420  South  FUR-BO-10001798   \n2       Consumer  Henderson  Kentucky        42420  South  FUR-CH-10000454   \n\n         Category Sub-Category  \\\nRow ID                           \n1       Furniture    Bookcases   \n2       Furniture       Chairs   \n\n                                             Product Name   Sales  Quantity  \\\nRow ID                                                                        \n1                       Bush Somerset Collection Bookcase  261.96         2   \n2       Hon Deluxe Fabric Upholstered Stacking Chairs,...  731.94         3   \n\n        Discount    Profit  \nRow ID                      \n1            0.0   41.9136  \n2            0.0  219.5820  ",
      "text/html": "<div>\n<style scoped>\n    .dataframe tbody tr th:only-of-type {\n        vertical-align: middle;\n    }\n\n    .dataframe tbody tr th {\n        vertical-align: top;\n    }\n\n    .dataframe thead th {\n        text-align: right;\n    }\n</style>\n<table border=\"1\" class=\"dataframe\">\n  <thead>\n    <tr style=\"text-align: right;\">\n      <th></th>\n      <th>Order ID</th>\n      <th>Order Date</th>\n      <th>Ship Date</th>\n      <th>Ship Mode</th>\n      <th>Customer ID</th>\n      <th>Segment</th>\n      <th>City</th>\n      <th>State</th>\n      <th>Postal Code</th>\n      <th>Region</th>\n      <th>Product ID</th>\n      <th>Category</th>\n      <th>Sub-Category</th>\n      <th>Product Name</th>\n      <th>Sales</th>\n      <th>Quantity</th>\n      <th>Discount</th>\n      <th>Profit</th>\n    </tr>\n    <tr>\n      <th>Row ID</th>\n      <th></th>\n      <th></th>\n      <th></th>\n      <th></th>\n      <th></th>\n      <th></th>\n      <th></th>\n      <th></th>\n      <th></th>\n      <th></th>\n      <th></th>\n      <th></th>\n      <th></th>\n      <th></th>\n      <th></th>\n      <th></th>\n      <th></th>\n      <th></th>\n    </tr>\n  </thead>\n  <tbody>\n    <tr>\n      <th>1</th>\n      <td>CA-2016-152156</td>\n      <td>11/8/2016</td>\n      <td>11/11/2016</td>\n      <td>Second Class</td>\n      <td>CG-12520</td>\n      <td>Consumer</td>\n      <td>Henderson</td>\n      <td>Kentucky</td>\n      <td>42420</td>\n      <td>South</td>\n      <td>FUR-BO-10001798</td>\n      <td>Furniture</td>\n      <td>Bookcases</td>\n      <td>Bush Somerset Collection Bookcase</td>\n      <td>261.96</td>\n      <td>2</td>\n      <td>0.0</td>\n      <td>41.9136</td>\n    </tr>\n    <tr>\n      <th>2</th>\n      <td>CA-2016-152156</td>\n      <td>11/8/2016</td>\n      <td>11/11/2016</td>\n      <td>Second Class</td>\n      <td>CG-12520</td>\n      <td>Consumer</td>\n      <td>Henderson</td>\n      <td>Kentucky</td>\n      <td>42420</td>\n      <td>South</td>\n      <td>FUR-CH-10000454</td>\n      <td>Furniture</td>\n      <td>Chairs</td>\n      <td>Hon Deluxe Fabric Upholstered Stacking Chairs,...</td>\n      <td>731.94</td>\n      <td>3</td>\n      <td>0.0</td>\n      <td>219.5820</td>\n    </tr>\n  </tbody>\n</table>\n</div>"
     },
     "execution_count": 13,
     "metadata": {},
     "output_type": "execute_result"
    }
   ],
   "source": [
    "# dropping 'Customer Name' column\n",
    "df1.drop(['Customer Name'], axis=1, inplace=True)\n",
    "# examining the changes\n",
    "df1.head(2)"
   ],
   "metadata": {
    "collapsed": false,
    "pycharm": {
     "name": "#%%\n"
    }
   }
  },
  {
   "cell_type": "code",
   "execution_count": 13,
   "outputs": [],
   "source": [],
   "metadata": {
    "collapsed": false,
    "pycharm": {
     "name": "#%%\n"
    }
   }
  }
 ],
 "metadata": {
  "kernelspec": {
   "display_name": "Python 3",
   "language": "python",
   "name": "python3"
  },
  "language_info": {
   "codemirror_mode": {
    "name": "ipython",
    "version": 2
   },
   "file_extension": ".py",
   "mimetype": "text/x-python",
   "name": "python",
   "nbconvert_exporter": "python",
   "pygments_lexer": "ipython2",
   "version": "2.7.6"
  }
 },
 "nbformat": 4,
 "nbformat_minor": 0
}